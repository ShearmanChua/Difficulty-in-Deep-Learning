{
 "cells": [
  {
   "cell_type": "code",
   "execution_count": 2,
   "metadata": {},
   "outputs": [],
   "source": [
    "import pandas_datareader.data as web\n",
    "import pandas as pd\n",
    "import numpy as np\n",
    "from talib import RSI, BBANDS,WILLR,WMA,SMA,EMA,TEMA,KAMA,CCI,CMO,MACD,PPO,ROC,APO,DX,MOM,STOCH,AROON,ADX,OBV\n",
    "import matplotlib.pyplot as plt\n",
    "import requests\n",
    "import lxml\n",
    "import datetime as dt\n",
    "import os\n"
   ]
  },
  {
   "cell_type": "markdown",
   "metadata": {},
   "source": [
    "## retrieve stock tickers data"
   ]
  },
  {
   "cell_type": "markdown",
   "metadata": {},
   "source": [
    "### Cyclic tickers"
   ]
  },
  {
   "cell_type": "code",
   "execution_count": 4,
   "metadata": {},
   "outputs": [
    {
     "name": "stdout",
     "output_type": "stream",
     "text": [
      "600519.SS\n",
      "000858.SZ\n",
      "600779.SS\n",
      "NVAX\n",
      "INO\n",
      "VXRT\n",
      "JPM\n",
      "AFG\n",
      "FBP\n",
      "AAL\n",
      "JBLU\n",
      "HA\n"
     ]
    }
   ],
   "source": [
    "#use saved tickers in txt file to get the data of STI stocks from yahoo\n",
    "\n",
    "def get_data_from_yahoo():\n",
    "    \n",
    "    with open('v6_tickers.txt') as f:\n",
    "        tickers = [i.strip() for i in f.readlines()]\n",
    "        \n",
    "    if not os.path.exists('data/variation 6/initial'):\n",
    "        os.makedirs('data/variation 6/initial')\n",
    "        \n",
    "    start = dt.datetime(2000,1,1)\n",
    "    end = dt.datetime(2019,1,1)\n",
    "    \n",
    "    for ticker in tickers:\n",
    "        print(ticker)\n",
    "        if not os.path.exists('data/variation 6/initial/{}.csv'.format(ticker)):\n",
    "            df = web.DataReader(ticker,'yahoo',start,end)\n",
    "            df.to_csv('data/variation 6/initial/{}.csv'.format(ticker))\n",
    "        else:\n",
    "            print('Already have {}'.format(ticker))\n",
    "            \n",
    "get_data_from_yahoo()"
   ]
  },
  {
   "cell_type": "code",
   "execution_count": 2,
   "metadata": {},
   "outputs": [
    {
     "name": "stdout",
     "output_type": "stream",
     "text": [
      "ANF\n",
      "CTB\n",
      "AXL\n"
     ]
    }
   ],
   "source": [
    "#use saved tickers in txt file to get the data of STI stocks from yahoo\n",
    "\n",
    "def get_data_from_yahoo():\n",
    "    \n",
    "    with open('small_cyclic_tickers.txt') as f:\n",
    "        tickers = [i.strip() for i in f.readlines()]\n",
    "        \n",
    "    if not os.path.exists('data/cyclic_tickers/initial'):\n",
    "        os.makedirs('data/cyclic_tickers/initial')\n",
    "        \n",
    "    start = dt.datetime(2000,1,1)\n",
    "    end = dt.datetime(2019,1,1)\n",
    "    \n",
    "    for ticker in tickers:\n",
    "        print(ticker)\n",
    "        if not os.path.exists('data/cyclic_tickers/initial/{}.csv'.format(ticker)):\n",
    "            df = web.DataReader(ticker,'yahoo',start,end)\n",
    "            df.to_csv('data/cyclic_tickers/initial/{}.csv'.format(ticker))\n",
    "        else:\n",
    "            print('Already have {}'.format(ticker))\n",
    "            \n",
    "get_data_from_yahoo()"
   ]
  },
  {
   "cell_type": "markdown",
   "metadata": {},
   "source": [
    "### Non-Cyclic tickers"
   ]
  },
  {
   "cell_type": "code",
   "execution_count": 14,
   "metadata": {},
   "outputs": [
    {
     "name": "stdout",
     "output_type": "stream",
     "text": [
      "600519.SS\n",
      "Already have 600519.SS\n",
      "COST\n",
      "Already have COST\n",
      "PG\n",
      "Already have PG\n",
      "000858.SZ\n",
      "Already have 000858.SZ\n",
      "WMT\n",
      "Already have WMT\n",
      "INO\n",
      "Already have INO\n",
      "NVAX\n",
      "Already have NVAX\n",
      "2319.HK\n",
      "Already have 2319.HK\n",
      "000333.SZ\n",
      "Already have 000333.SZ\n",
      "TGT\n",
      "Already have TGT\n",
      "HD\n",
      "Already have HD\n",
      "KO\n",
      "Already have KO\n",
      "PEP\n"
     ]
    }
   ],
   "source": [
    "#use saved tickers in txt file to get the data of STI stocks from yahoo\n",
    "\n",
    "def get_data_from_yahoo():\n",
    "    \n",
    "    with open('noncyclic_tickers.txt') as f:\n",
    "        tickers = [i.strip() for i in f.readlines()]\n",
    "        \n",
    "    if not os.path.exists('data/noncyclic_tickers/initial'):\n",
    "        os.makedirs('data/noncyclic_tickers/initial')\n",
    "        \n",
    "    start = dt.datetime(2000,1,1)\n",
    "    end = dt.datetime(2019,1,1)\n",
    "    \n",
    "    for ticker in tickers:\n",
    "        print(ticker)\n",
    "        if not os.path.exists('data/noncyclic_tickers/initial/{}.csv'.format(ticker)):\n",
    "            df = web.DataReader(ticker,'yahoo',start,end)\n",
    "            df.to_csv('data/noncyclic_tickers/initial/{}.csv'.format(ticker))\n",
    "        else:\n",
    "            print('Already have {}'.format(ticker))\n",
    "            \n",
    "get_data_from_yahoo()"
   ]
  },
  {
   "cell_type": "code",
   "execution_count": 3,
   "metadata": {},
   "outputs": [
    {
     "name": "stdout",
     "output_type": "stream",
     "text": [
      "VGR\n",
      "FDP\n",
      "WMK\n"
     ]
    }
   ],
   "source": [
    "#use saved tickers in txt file to get the data of STI stocks from yahoo\n",
    "\n",
    "def get_data_from_yahoo():\n",
    "    \n",
    "    with open('small_noncyclic_tickers.txt') as f:\n",
    "        tickers = [i.strip() for i in f.readlines()]\n",
    "        \n",
    "    if not os.path.exists('data/noncyclic_tickers/initial'):\n",
    "        os.makedirs('data/noncyclic_tickers/initial')\n",
    "        \n",
    "    start = dt.datetime(2000,1,1)\n",
    "    end = dt.datetime(2019,1,1)\n",
    "    \n",
    "    for ticker in tickers:\n",
    "        print(ticker)\n",
    "        if not os.path.exists('data/noncyclic_tickers/initial/{}.csv'.format(ticker)):\n",
    "            df = web.DataReader(ticker,'yahoo',start,end)\n",
    "            df.to_csv('data/noncyclic_tickers/initial/{}.csv'.format(ticker))\n",
    "        else:\n",
    "            print('Already have {}'.format(ticker))\n",
    "            \n",
    "get_data_from_yahoo()"
   ]
  },
  {
   "cell_type": "code",
   "execution_count": null,
   "metadata": {},
   "outputs": [],
   "source": []
  },
  {
   "cell_type": "markdown",
   "metadata": {},
   "source": [
    "## Function to create labels"
   ]
  },
  {
   "cell_type": "code",
   "execution_count": 5,
   "metadata": {},
   "outputs": [],
   "source": [
    "import os\n",
    "import re\n",
    "from operator import itemgetter\n",
    "\n",
    "import pandas as pd\n",
    "import pickle\n",
    "import numpy as np\n",
    "from sklearn.feature_selection import SelectKBest, f_classif, mutual_info_classif\n",
    "from sklearn.model_selection import train_test_split\n",
    "from sklearn.preprocessing import MinMaxScaler, OneHotEncoder\n",
    "from sklearn.utils import compute_class_weight\n",
    "from tqdm.auto import tqdm\n",
    "\n",
    "def create_labels(df, col_name, window_size=15):\n",
    "        \"\"\"\n",
    "        Data is labeled as per the logic in research paper\n",
    "        Label code : BUY => 1, SELL => 0, HOLD => 2\n",
    "        params :\n",
    "            df => Dataframe with data\n",
    "            col_name => name of column which should be used to determine strategy\n",
    "        returns : numpy array with integer codes for labels with\n",
    "                  size = total-(window_size)+1\n",
    "        \"\"\"\n",
    "        row_counter = 0\n",
    "        total_rows = len(df)\n",
    "        labels = np.zeros(total_rows)\n",
    "        labels[:] = np.nan\n",
    "        print(\"Calculating labels\")\n",
    "        pbar = tqdm(total=total_rows)\n",
    "\n",
    "        while row_counter < total_rows:\n",
    "            if row_counter >= window_size - 1:\n",
    "                window_begin = row_counter - (window_size - 1)\n",
    "                window_end = row_counter\n",
    "                window_middle = (window_begin + window_end) / 2\n",
    "                window_middle = int(window_middle)\n",
    "\n",
    "                min_ = np.inf\n",
    "                min_index = -1\n",
    "                max_ = -np.inf\n",
    "                max_index = -1\n",
    "                for i in range(window_begin, window_end + 1):\n",
    "                    price = df.iloc[i][col_name]\n",
    "                    if price < min_:\n",
    "                        min_ = price\n",
    "                        min_index = i\n",
    "                    if price > max_:\n",
    "                        max_ = price\n",
    "                        max_index = i\n",
    "                        \n",
    "                end_price = df.iloc[window_end][col_name]\n",
    "                mid_price = df.iloc[window_middle][col_name]\n",
    "\n",
    "                if max_index == window_middle:\n",
    "                    labels[window_middle] = 0\n",
    "                elif min_index == window_middle:\n",
    "                    labels[window_middle] = 1\n",
    "                else:\n",
    "                    labels[window_middle] = 2\n",
    "\n",
    "            row_counter = row_counter + 1\n",
    "            pbar.update(1)\n",
    "\n",
    "        pbar.close()\n",
    "        return labels"
   ]
  },
  {
   "cell_type": "markdown",
   "metadata": {},
   "source": [
    "## Generate technical indicators"
   ]
  },
  {
   "cell_type": "markdown",
   "metadata": {},
   "source": [
    "### Cyclic indicators"
   ]
  },
  {
   "cell_type": "code",
   "execution_count": 6,
   "metadata": {
    "scrolled": true
   },
   "outputs": [
    {
     "name": "stdout",
     "output_type": "stream",
     "text": [
      "         Date     Close\n",
      "0  2001-08-27  7.074920\n",
      "1  2001-08-28  7.335628\n",
      "2  2001-08-29  7.240101\n",
      "3  2001-08-30  7.383391\n",
      "4  2001-08-31  7.365480\n",
      "               Close  previous_1d  EMA_12  willr_14        OBV_7\n",
      "Date                                                            \n",
      "2001-08-27  7.074920          NaN     NaN       NaN          NaN\n",
      "2001-08-28  7.335628     7.074920     NaN       NaN  204166311.0\n",
      "2001-08-29  7.240101     7.335628     NaN       NaN  269311618.0\n",
      "2001-08-30  7.383391     7.240101     NaN       NaN  242553224.0\n",
      "2001-08-31  7.365480     7.383391     NaN       NaN  266678784.0\n",
      "<class 'pandas.core.frame.DataFrame'>\n",
      "Index: 4141 entries, 2001-08-27 to 2018-12-28\n",
      "Data columns (total 5 columns):\n",
      "Close          4141 non-null float64\n",
      "previous_1d    4140 non-null float64\n",
      "EMA_12         4129 non-null float64\n",
      "willr_14       4127 non-null float64\n",
      "OBV_7          4140 non-null float64\n",
      "dtypes: float64(5)\n",
      "memory usage: 194.1+ KB\n",
      "None\n",
      "Calculating labels\n"
     ]
    },
    {
     "data": {
      "application/vnd.jupyter.widget-view+json": {
       "model_id": "04dfa324f129451fa67d0d6507a2ead5",
       "version_major": 2,
       "version_minor": 0
      },
      "text/plain": [
       "HBox(children=(FloatProgress(value=0.0, max=4141.0), HTML(value='')))"
      ]
     },
     "metadata": {},
     "output_type": "display_data"
    },
    {
     "name": "stdout",
     "output_type": "stream",
     "text": [
      "\n",
      "            previous_1d    EMA_12   willr_14        OBV_7  labels\n",
      "Date                                                             \n",
      "2001-09-14     7.142585  7.257483 -41.873824  204624213.0     2.0\n",
      "2001-09-17     7.224180  7.252359 -51.296847  208479649.0     2.0\n",
      "2001-09-18     7.132634  7.233940 -72.964156  203965392.0     2.0\n",
      "2001-09-19     7.214230  7.230908 -59.609037  209378730.0     2.0\n",
      "2001-09-20     7.347568  7.248855 -37.785092  213725440.0     2.0\n",
      "         Date     Close\n",
      "0  2000-01-04  4.053544\n",
      "1  2000-01-05  4.091251\n",
      "2  2000-01-06  4.255548\n",
      "3  2000-01-07  4.405031\n",
      "4  2000-01-10  4.418498\n",
      "               Close  previous_1d  EMA_12  willr_14       OBV_7\n",
      "Date                                                           \n",
      "2000-01-04  4.053544          NaN     NaN       NaN         NaN\n",
      "2000-01-05  4.091251     4.053544     NaN       NaN   5211144.0\n",
      "2000-01-06  4.255548     4.091251     NaN       NaN  16146401.0\n",
      "2000-01-07  4.405031     4.255548     NaN       NaN  29138906.0\n",
      "2000-01-10  4.418498     4.405031     NaN       NaN  59046044.0\n",
      "<class 'pandas.core.frame.DataFrame'>\n",
      "Index: 4533 entries, 2000-01-04 to 2018-12-28\n",
      "Data columns (total 5 columns):\n",
      "Close          4533 non-null float64\n",
      "previous_1d    4532 non-null float64\n",
      "EMA_12         4521 non-null float64\n",
      "willr_14       4519 non-null float64\n",
      "OBV_7          4532 non-null float64\n",
      "dtypes: float64(5)\n",
      "memory usage: 212.5+ KB\n",
      "None\n",
      "Calculating labels\n"
     ]
    },
    {
     "data": {
      "application/vnd.jupyter.widget-view+json": {
       "model_id": "29fabb55ce554b2d83336af402394f1d",
       "version_major": 2,
       "version_minor": 0
      },
      "text/plain": [
       "HBox(children=(FloatProgress(value=0.0, max=4533.0), HTML(value='')))"
      ]
     },
     "metadata": {},
     "output_type": "display_data"
    },
    {
     "name": "stdout",
     "output_type": "stream",
     "text": [
      "\n",
      "            previous_1d    EMA_12   willr_14        OBV_7  labels\n",
      "Date                                                             \n",
      "2000-01-24     4.396951  4.259450 -20.237909   91957609.0     2.0\n",
      "2000-01-25     4.523540  4.300079 -16.033642  115224048.0     2.0\n",
      "2000-01-26     4.400991  4.315604 -35.231971  105394663.0     2.0\n",
      "2000-01-27     4.399644  4.328533 -51.735021   77180955.0     2.0\n",
      "2000-01-28     4.302682  4.324556 -63.091500   43145413.0     2.0\n",
      "         Date      Close\n",
      "0  2000-01-04  13.909090\n",
      "1  2000-01-05  13.787878\n",
      "2  2000-01-06  14.048484\n",
      "3  2000-01-07  14.424242\n",
      "4  2000-01-10  14.363636\n",
      "                Close  previous_1d  EMA_12  willr_14      OBV_7\n",
      "Date                                                           \n",
      "2000-01-04  13.909090          NaN     NaN       NaN        NaN\n",
      "2000-01-05  13.787878    13.909090     NaN       NaN  1496391.0\n",
      "2000-01-06  14.048484    13.787878     NaN       NaN   492604.0\n",
      "2000-01-07  14.424242    14.048484     NaN       NaN  2145098.0\n",
      "2000-01-10  14.363636    14.424242     NaN       NaN  6032661.0\n",
      "<class 'pandas.core.frame.DataFrame'>\n",
      "Index: 4552 entries, 2000-01-04 to 2018-12-28\n",
      "Data columns (total 5 columns):\n",
      "Close          4552 non-null float64\n",
      "previous_1d    4551 non-null float64\n",
      "EMA_12         4540 non-null float64\n",
      "willr_14       4538 non-null float64\n",
      "OBV_7          4551 non-null float64\n",
      "dtypes: float64(5)\n",
      "memory usage: 213.4+ KB\n",
      "None\n",
      "Calculating labels\n"
     ]
    },
    {
     "data": {
      "application/vnd.jupyter.widget-view+json": {
       "model_id": "b4941bc049a2412aa7fb7ea85a05c75a",
       "version_major": 2,
       "version_minor": 0
      },
      "text/plain": [
       "HBox(children=(FloatProgress(value=0.0, max=4552.0), HTML(value='')))"
      ]
     },
     "metadata": {},
     "output_type": "display_data"
    },
    {
     "name": "stdout",
     "output_type": "stream",
     "text": [
      "\n",
      "            previous_1d     EMA_12   willr_14      OBV_7  labels\n",
      "Date                                                            \n",
      "2000-01-24    14.078787  14.004494 -39.930588 -2698175.0     2.0\n",
      "2000-01-25    14.727272  14.115691  -3.361342  2489423.0     2.0\n",
      "2000-01-26    14.787878  14.219104 -35.135148  7249607.0     2.0\n",
      "2000-01-27    14.284848  14.229219 -57.567561  4991464.0     2.0\n",
      "2000-01-28    14.412121  14.257357 -51.891890  7816168.0     2.0\n",
      "         Date  Close\n",
      "0  1999-12-31  112.5\n",
      "1  2000-01-03  115.0\n",
      "2  2000-01-04  110.0\n",
      "3  2000-01-05  107.5\n",
      "4  2000-01-06  112.5\n",
      "            Close  previous_1d  EMA_12  willr_14   OBV_7\n",
      "Date                                                    \n",
      "1999-12-31  112.5          NaN     NaN       NaN     NaN\n",
      "2000-01-03  115.0        112.5     NaN       NaN   115.0\n",
      "2000-01-04  110.0        115.0     NaN       NaN  1240.0\n",
      "2000-01-05  107.5        110.0     NaN       NaN   630.0\n",
      "2000-01-06  112.5        107.5     NaN       NaN   175.0\n",
      "<class 'pandas.core.frame.DataFrame'>\n",
      "Index: 4780 entries, 1999-12-31 to 2018-12-31\n",
      "Data columns (total 5 columns):\n",
      "Close          4780 non-null float64\n",
      "previous_1d    4779 non-null float64\n",
      "EMA_12         4768 non-null float64\n",
      "willr_14       4766 non-null float64\n",
      "OBV_7          4779 non-null float64\n",
      "dtypes: float64(5)\n",
      "memory usage: 224.1+ KB\n",
      "None\n",
      "Calculating labels\n"
     ]
    },
    {
     "data": {
      "application/vnd.jupyter.widget-view+json": {
       "model_id": "a971baaeed264f839e2d93c56459b950",
       "version_major": 2,
       "version_minor": 0
      },
      "text/plain": [
       "HBox(children=(FloatProgress(value=0.0, max=4780.0), HTML(value='')))"
      ]
     },
     "metadata": {},
     "output_type": "display_data"
    },
    {
     "name": "stdout",
     "output_type": "stream",
     "text": [
      "\n",
      "            previous_1d      EMA_12   willr_14    OBV_7  labels\n",
      "Date                                                           \n",
      "2000-01-21       123.75  111.044132  -0.000000    330.0     0.0\n",
      "2000-01-24       145.00  116.268112  -9.090909  10530.0     2.0\n",
      "2000-01-25       130.00  118.380710 -36.363636   6930.0     2.0\n",
      "2000-01-26       132.50  120.552908 -31.818182   9665.0     2.0\n",
      "2000-01-27       140.00  123.544769 -18.181818  11870.0     2.0\n",
      "         Date  Close\n",
      "0  1999-12-31   52.0\n",
      "1  2000-01-03   54.0\n",
      "2  2000-01-04   50.0\n",
      "3  2000-01-05   49.0\n",
      "4  2000-01-06   48.0\n",
      "            Close  previous_1d  EMA_12  willr_14   OBV_7\n",
      "Date                                                    \n",
      "1999-12-31   52.0          NaN     NaN       NaN     NaN\n",
      "2000-01-03   54.0         52.0     NaN       NaN    50.0\n",
      "2000-01-04   50.0         54.0     NaN       NaN  1306.0\n",
      "2000-01-05   49.0         50.0     NaN       NaN -1794.0\n",
      "2000-01-06   48.0         49.0     NaN       NaN -6013.0\n",
      "<class 'pandas.core.frame.DataFrame'>\n",
      "Index: 4780 entries, 1999-12-31 to 2018-12-31\n",
      "Data columns (total 5 columns):\n",
      "Close          4780 non-null float64\n",
      "previous_1d    4779 non-null float64\n",
      "EMA_12         4768 non-null float64\n",
      "willr_14       4766 non-null float64\n",
      "OBV_7          4779 non-null float64\n",
      "dtypes: float64(5)\n",
      "memory usage: 224.1+ KB\n",
      "None\n",
      "Calculating labels\n"
     ]
    },
    {
     "data": {
      "application/vnd.jupyter.widget-view+json": {
       "model_id": "a0489f48e7344693b06db7f6af0b2f9c",
       "version_major": 2,
       "version_minor": 0
      },
      "text/plain": [
       "HBox(children=(FloatProgress(value=0.0, max=4780.0), HTML(value='')))"
      ]
     },
     "metadata": {},
     "output_type": "display_data"
    },
    {
     "name": "stdout",
     "output_type": "stream",
     "text": [
      "\n",
      "            previous_1d     EMA_12   willr_14    OBV_7  labels\n",
      "Date                                                          \n",
      "2000-01-21         51.0  54.535133 -80.952381 -17732.0     2.0\n",
      "2000-01-24         56.0  54.760497 -57.142857 -10257.0     2.0\n",
      "2000-01-25         58.0  55.258882 -47.619048  -8463.0     2.0\n",
      "2000-01-26         59.0  55.834439 -42.857143  -4944.0     2.0\n",
      "2000-01-27         57.0  56.013756 -52.380952  -5313.0     2.0\n",
      "         Date   Close\n",
      "0  1999-12-31  305.25\n",
      "1  2000-01-03  313.50\n",
      "2  2000-01-04  297.00\n",
      "3  2000-01-05  330.00\n",
      "4  2000-01-06  330.00\n",
      "             Close  previous_1d  EMA_12  willr_14   OBV_7\n",
      "Date                                                     \n",
      "1999-12-31  305.25          NaN     NaN       NaN     NaN\n",
      "2000-01-03  313.50       305.25     NaN       NaN  1298.0\n",
      "2000-01-04  297.00       313.50     NaN       NaN  2357.0\n",
      "2000-01-05  330.00       297.00     NaN       NaN  1219.0\n",
      "2000-01-06  330.00       330.00     NaN       NaN  3369.0\n",
      "<class 'pandas.core.frame.DataFrame'>\n",
      "Index: 4780 entries, 1999-12-31 to 2018-12-31\n",
      "Data columns (total 5 columns):\n",
      "Close          4780 non-null float64\n",
      "previous_1d    4779 non-null float64\n",
      "EMA_12         4768 non-null float64\n",
      "willr_14       4766 non-null float64\n",
      "OBV_7          4779 non-null float64\n",
      "dtypes: float64(5)\n",
      "memory usage: 224.1+ KB\n",
      "None\n",
      "Calculating labels\n"
     ]
    },
    {
     "data": {
      "application/vnd.jupyter.widget-view+json": {
       "model_id": "4104509a08c84257b051b2a39d0d9fa5",
       "version_major": 2,
       "version_minor": 0
      },
      "text/plain": [
       "HBox(children=(FloatProgress(value=0.0, max=4780.0), HTML(value='')))"
      ]
     },
     "metadata": {},
     "output_type": "display_data"
    },
    {
     "name": "stdout",
     "output_type": "stream",
     "text": [
      "\n",
      "            previous_1d      EMA_12   willr_14    OBV_7  labels\n",
      "Date                                                           \n",
      "2000-01-21      437.250  350.035133  -6.976744  42909.0     0.0\n",
      "2000-01-24      515.625  375.510497 -10.606061  67630.0     2.0\n",
      "2000-01-25      424.875  383.105036 -43.939394  53407.0     2.0\n",
      "2000-01-26      453.750  393.973492 -33.333333  57201.0     2.0\n",
      "2000-01-27      420.750  398.092955 -50.000000  54669.0     2.0\n",
      "         Date      Close\n",
      "0  1999-12-31  51.791668\n",
      "1  2000-01-03  48.583332\n",
      "2  2000-01-04  47.250000\n",
      "3  2000-01-05  46.958332\n",
      "4  2000-01-06  47.625000\n",
      "                Close  previous_1d  EMA_12  willr_14       OBV_7\n",
      "Date                                                            \n",
      "1999-12-31  51.791668          NaN     NaN       NaN         NaN\n",
      "2000-01-03  48.583332    51.791668     NaN       NaN   1160400.0\n",
      "2000-01-04  47.250000    48.583332     NaN       NaN -10858800.0\n",
      "2000-01-05  46.958332    47.250000     NaN       NaN -22582200.0\n",
      "2000-01-06  47.625000    46.958332     NaN       NaN -31296750.0\n",
      "<class 'pandas.core.frame.DataFrame'>\n",
      "Index: 4780 entries, 1999-12-31 to 2018-12-31\n",
      "Data columns (total 5 columns):\n",
      "Close          4780 non-null float64\n",
      "previous_1d    4779 non-null float64\n",
      "EMA_12         4768 non-null float64\n",
      "willr_14       4766 non-null float64\n",
      "OBV_7          4779 non-null float64\n",
      "dtypes: float64(5)\n",
      "memory usage: 224.1+ KB\n",
      "None\n",
      "Calculating labels\n"
     ]
    },
    {
     "data": {
      "application/vnd.jupyter.widget-view+json": {
       "model_id": "e3faeaedaf6e4df6b459cfdd5939f6ff",
       "version_major": 2,
       "version_minor": 0
      },
      "text/plain": [
       "HBox(children=(FloatProgress(value=0.0, max=4780.0), HTML(value='')))"
      ]
     },
     "metadata": {},
     "output_type": "display_data"
    },
    {
     "name": "stdout",
     "output_type": "stream",
     "text": [
      "\n",
      "            previous_1d     EMA_12   willr_14       OBV_7  labels\n",
      "Date                                                             \n",
      "2000-01-21    49.375000  48.388499 -42.592593  -2894250.0     2.0\n",
      "2000-01-24    48.625000  48.424884 -39.516144  -8054850.0     2.0\n",
      "2000-01-25    48.666668  48.462081 -38.709668  -1595700.0     2.0\n",
      "2000-01-26    49.750000  48.660222 -17.741956   5984250.0     2.0\n",
      "2000-01-27    52.291668  49.218906  -5.232557  14370900.0     2.0\n",
      "         Date      Close\n",
      "0  1999-12-31  17.583332\n",
      "1  2000-01-03  16.875000\n",
      "2  2000-01-04  16.500000\n",
      "3  2000-01-05  16.083332\n",
      "4  2000-01-06  16.500000\n",
      "                Close  previous_1d  EMA_12  willr_14     OBV_7\n",
      "Date                                                          \n",
      "1999-12-31  17.583332          NaN     NaN       NaN       NaN\n",
      "2000-01-03  16.875000    17.583332     NaN       NaN   48450.0\n",
      "2000-01-04  16.500000    16.875000     NaN       NaN  -10500.0\n",
      "2000-01-05  16.083332    16.500000     NaN       NaN  -83850.0\n",
      "2000-01-06  16.500000    16.083332     NaN       NaN -254850.0\n",
      "<class 'pandas.core.frame.DataFrame'>\n",
      "Index: 4780 entries, 1999-12-31 to 2018-12-31\n",
      "Data columns (total 5 columns):\n",
      "Close          4780 non-null float64\n",
      "previous_1d    4779 non-null float64\n",
      "EMA_12         4768 non-null float64\n",
      "willr_14       4766 non-null float64\n",
      "OBV_7          4779 non-null float64\n",
      "dtypes: float64(5)\n",
      "memory usage: 224.1+ KB\n",
      "None\n",
      "Calculating labels\n"
     ]
    },
    {
     "data": {
      "application/vnd.jupyter.widget-view+json": {
       "model_id": "0e72e04bfb184828931318217a44c088",
       "version_major": 2,
       "version_minor": 0
      },
      "text/plain": [
       "HBox(children=(FloatProgress(value=0.0, max=4780.0), HTML(value='')))"
      ]
     },
     "metadata": {},
     "output_type": "display_data"
    },
    {
     "name": "stdout",
     "output_type": "stream",
     "text": [
      "\n",
      "            previous_1d     EMA_12    willr_14      OBV_7  labels\n",
      "Date                                                             \n",
      "2000-01-21    15.000000  16.189452 -100.000000  -550650.0     2.0\n",
      "2000-01-24    15.166667  16.032100  -93.103439  -477300.0     2.0\n",
      "2000-01-25    14.875000  15.854085  -92.187507  -762150.0     2.0\n",
      "2000-01-26    14.708333  15.677815  -95.454544 -1036650.0     2.0\n",
      "2000-01-27    14.666667  15.522254  -88.888864 -1157250.0     2.0\n",
      "         Date     Close\n",
      "0  1999-12-31  103.7500\n",
      "1  2000-01-03  102.1875\n",
      "2  2000-01-04  101.5625\n",
      "3  2000-01-05  100.9375\n",
      "4  2000-01-06  102.1875\n",
      "               Close  previous_1d  EMA_12  willr_14    OBV_7\n",
      "Date                                                        \n",
      "1999-12-31  103.7500          NaN     NaN       NaN      NaN\n",
      "2000-01-03  102.1875     103.7500     NaN       NaN   2520.0\n",
      "2000-01-04  101.5625     102.1875     NaN       NaN   -140.0\n",
      "2000-01-05  100.9375     101.5625     NaN       NaN  -5620.0\n",
      "2000-01-06  102.1875     100.9375     NaN       NaN -23040.0\n",
      "<class 'pandas.core.frame.DataFrame'>\n",
      "Index: 4780 entries, 1999-12-31 to 2018-12-31\n",
      "Data columns (total 5 columns):\n",
      "Close          4780 non-null float64\n",
      "previous_1d    4779 non-null float64\n",
      "EMA_12         4768 non-null float64\n",
      "willr_14       4766 non-null float64\n",
      "OBV_7          4779 non-null float64\n",
      "dtypes: float64(5)\n",
      "memory usage: 224.1+ KB\n",
      "None\n",
      "Calculating labels\n"
     ]
    },
    {
     "data": {
      "application/vnd.jupyter.widget-view+json": {
       "model_id": "c89cc64072bf45e781e8aee79cd84734",
       "version_major": 2,
       "version_minor": 0
      },
      "text/plain": [
       "HBox(children=(FloatProgress(value=0.0, max=4780.0), HTML(value='')))"
      ]
     },
     "metadata": {},
     "output_type": "display_data"
    },
    {
     "name": "stdout",
     "output_type": "stream",
     "text": [
      "\n",
      "            previous_1d      EMA_12  willr_14    OBV_7  labels\n",
      "Date                                                          \n",
      "2000-01-21     100.0000  100.813609     -64.0 -21460.0     2.0\n",
      "2000-01-24      97.1875  100.255746    -100.0 -28200.0     2.0\n",
      "2000-01-25      96.2500   99.639478    -100.0 -32420.0     2.0\n",
      "2000-01-26      93.1250   98.637250    -100.0 -42580.0     2.0\n",
      "2000-01-27      94.0625   97.933443     -90.0 -36840.0     2.0\n",
      "         Date      Close\n",
      "0  2005-09-27  19.299999\n",
      "1  2005-09-28  20.500000\n",
      "2  2005-09-29  20.209999\n",
      "3  2005-09-30  21.010000\n",
      "4  2005-10-03  21.500000\n",
      "                Close  previous_1d  EMA_12  willr_14      OBV_7\n",
      "Date                                                           \n",
      "2005-09-27  19.299999          NaN     NaN       NaN        NaN\n",
      "2005-09-28  20.500000    19.299999     NaN       NaN   961200.0\n",
      "2005-09-29  20.209999    20.500000     NaN       NaN  6709100.0\n",
      "2005-09-30  21.010000    20.209999     NaN       NaN  5630900.0\n",
      "2005-10-03  21.500000    21.010000     NaN       NaN  8754200.0\n",
      "<class 'pandas.core.frame.DataFrame'>\n",
      "Index: 3338 entries, 2005-09-27 to 2018-12-31\n",
      "Data columns (total 5 columns):\n",
      "Close          3338 non-null float64\n",
      "previous_1d    3337 non-null float64\n",
      "EMA_12         3326 non-null float64\n",
      "willr_14       3324 non-null float64\n",
      "OBV_7          3337 non-null float64\n",
      "dtypes: float64(5)\n",
      "memory usage: 156.5+ KB\n",
      "None\n",
      "Calculating labels\n"
     ]
    },
    {
     "data": {
      "application/vnd.jupyter.widget-view+json": {
       "model_id": "c2578abe42324e01a7b39fde505eed1e",
       "version_major": 2,
       "version_minor": 0
      },
      "text/plain": [
       "HBox(children=(FloatProgress(value=0.0, max=3338.0), HTML(value='')))"
      ]
     },
     "metadata": {},
     "output_type": "display_data"
    },
    {
     "name": "stdout",
     "output_type": "stream",
     "text": [
      "\n",
      "            previous_1d     EMA_12   willr_14       OBV_7  labels\n",
      "Date                                                             \n",
      "2005-10-17    22.270000  21.619546 -18.717939  12563700.0     2.0\n",
      "2005-10-18    22.080000  21.690385 -24.210533  12099700.0     2.0\n",
      "2005-10-19    21.490000  21.659557 -52.068980  10284200.0     2.0\n",
      "2005-10-20    21.379999  21.616548 -57.446844   8818200.0     1.0\n",
      "2005-10-21    21.020000  21.524771 -92.093018   8177300.0     2.0\n",
      "         Date      Close\n",
      "0  2002-04-12  13.333333\n",
      "1  2002-04-15  13.395556\n",
      "2  2002-04-16  13.573333\n",
      "3  2002-04-17  13.362963\n",
      "4  2002-04-18  13.096296\n",
      "                Close  previous_1d  EMA_12  willr_14       OBV_7\n",
      "Date                                                            \n",
      "2002-04-12  13.333333          NaN     NaN       NaN         NaN\n",
      "2002-04-15  13.395556    13.333333     NaN       NaN  47796750.0\n",
      "2002-04-16  13.573333    13.395556     NaN       NaN  56012513.0\n",
      "2002-04-17  13.362963    13.573333     NaN       NaN  59969363.0\n",
      "2002-04-18  13.096296    13.362963     NaN       NaN  57082725.0\n",
      "<class 'pandas.core.frame.DataFrame'>\n",
      "Index: 4210 entries, 2002-04-12 to 2018-12-31\n",
      "Data columns (total 5 columns):\n",
      "Close          4210 non-null float64\n",
      "previous_1d    4209 non-null float64\n",
      "EMA_12         4198 non-null float64\n",
      "willr_14       4196 non-null float64\n",
      "OBV_7          4209 non-null float64\n",
      "dtypes: float64(5)\n",
      "memory usage: 197.3+ KB\n",
      "None\n",
      "Calculating labels\n"
     ]
    },
    {
     "data": {
      "application/vnd.jupyter.widget-view+json": {
       "model_id": "c07ee020023e4e8eb64bcec620c902c9",
       "version_major": 2,
       "version_minor": 0
      },
      "text/plain": [
       "HBox(children=(FloatProgress(value=0.0, max=4210.0), HTML(value='')))"
      ]
     },
     "metadata": {},
     "output_type": "display_data"
    },
    {
     "name": "stdout",
     "output_type": "stream",
     "text": [
      "\n",
      "            previous_1d     EMA_12   willr_14       OBV_7  labels\n",
      "Date                                                             \n",
      "2002-05-02    14.761481  13.724947  -5.141986  58104336.0     2.0\n",
      "2002-05-03    14.562963  13.853872 -13.413429  57315261.0     2.0\n",
      "2002-05-06    15.419259  14.094701  -0.086583  58757399.0     0.0\n",
      "2002-05-07    16.148148  14.410616  -4.436861  61163774.0     2.0\n",
      "2002-05-08    14.696296  14.454567 -37.883964  57784724.0     2.0\n",
      "         Date   Close\n",
      "0  1999-12-31  2.1250\n",
      "1  2000-01-03  2.1250\n",
      "2  2000-01-04  2.0625\n",
      "3  2000-01-05  2.0625\n",
      "4  2000-01-06  2.0000\n",
      "             Close  previous_1d  EMA_12  willr_14     OBV_7\n",
      "Date                                                       \n",
      "1999-12-31  2.1250          NaN     NaN       NaN       NaN\n",
      "2000-01-03  2.1250       2.1250     NaN       NaN  200900.0\n",
      "2000-01-04  2.0625       2.1250     NaN       NaN  200900.0\n",
      "2000-01-05  2.0625       2.0625     NaN       NaN  180900.0\n",
      "2000-01-06  2.0000       2.0625     NaN       NaN  180900.0\n",
      "<class 'pandas.core.frame.DataFrame'>\n",
      "Index: 4780 entries, 1999-12-31 to 2018-12-31\n",
      "Data columns (total 5 columns):\n",
      "Close          4780 non-null float64\n",
      "previous_1d    4779 non-null float64\n",
      "EMA_12         4768 non-null float64\n",
      "willr_14       4766 non-null float64\n",
      "OBV_7          4779 non-null float64\n",
      "dtypes: float64(5)\n",
      "memory usage: 224.1+ KB\n",
      "None\n",
      "Calculating labels\n"
     ]
    },
    {
     "data": {
      "application/vnd.jupyter.widget-view+json": {
       "model_id": "0aaa1a7dd31e40c993fca0c8448825ca",
       "version_major": 2,
       "version_minor": 0
      },
      "text/plain": [
       "HBox(children=(FloatProgress(value=0.0, max=4780.0), HTML(value='')))"
      ]
     },
     "metadata": {},
     "output_type": "display_data"
    },
    {
     "name": "stdout",
     "output_type": "stream",
     "text": [
      "\n",
      "            previous_1d    EMA_12    willr_14     OBV_7  labels\n",
      "Date                                                           \n",
      "2000-01-21       2.0625  2.055042  -66.666667  186300.0     2.0\n",
      "2000-01-24       2.0000  2.046574 -100.000000  173400.0     2.0\n",
      "2000-01-25       1.9375  2.029793 -100.000000  105600.0     2.0\n",
      "2000-01-26       1.9375  2.015594  -75.000000  105600.0     2.0\n",
      "2000-01-27       2.0000  2.013195  -50.000000  121200.0     2.0\n"
     ]
    }
   ],
   "source": [
    "def compile_data():\n",
    "    with open('v6_tickers.txt') as f:\n",
    "        tickers = [i.strip() for i in f.readlines()]\n",
    "    \n",
    "    for count,ticker in enumerate(tickers):\n",
    "        df = pd.read_csv('data/variation 6/initial/{}.csv'.format(ticker))\n",
    "        df  = df.dropna()\n",
    "            \n",
    "        high = df['High'].shift(1).values\n",
    "        low = df['Low'].shift(1).values\n",
    "        close = df['Close'].shift(1).values\n",
    "        volume = df['Volume'].shift(1).values\n",
    "\n",
    "        df.drop(['High','Low','Open','Volume','Adj Close'], 1, inplace=True)\n",
    "        print(df.head())\n",
    "            \n",
    "        df['previous_1d'] = df['Close'].shift(1)\n",
    "\n",
    "\n",
    "        ema = EMA(close, timeperiod=12)\n",
    "        arr = np.array(ema)\n",
    "        df['EMA_12'] = arr\n",
    "\n",
    "\n",
    "        willr = WILLR(high, low, close, timeperiod=14)\n",
    "        arr = np.array(willr)\n",
    "        df['willr_14'] = arr\n",
    "            \n",
    "        obv = OBV(close, volume)\n",
    "        arr = np.array(obv)\n",
    "        df['OBV_7'] = arr\n",
    "\n",
    "        df.set_index('Date', inplace=True)\n",
    "        \n",
    "        print(df.head())\n",
    "        print(df.info())\n",
    "        \n",
    "        labels = create_labels(df, 'Close', 15)\n",
    "        df['labels'] = labels\n",
    "        df.drop(['Close'], 1, inplace=True)\n",
    "        df  = df.dropna()\n",
    "        \n",
    "        print(df.head())\n",
    "        df.to_csv('data/variation 6/initial_indicators/{}_data.csv'.format(ticker))\n",
    "    \n",
    "compile_data()"
   ]
  },
  {
   "cell_type": "code",
   "execution_count": 5,
   "metadata": {},
   "outputs": [
    {
     "name": "stdout",
     "output_type": "stream",
     "text": [
      "         Date    Close\n",
      "0  1999-12-31  26.6875\n",
      "1  2000-01-03  27.5000\n",
      "2  2000-01-04  25.9375\n",
      "3  2000-01-05  26.6250\n",
      "4  2000-01-06  25.2500\n",
      "              Close  previous_1d  EMA_12  willr_14      OBV_7\n",
      "Date                                                         \n",
      "1999-12-31  26.6875          NaN     NaN       NaN        NaN\n",
      "2000-01-03  27.5000      26.6875     NaN       NaN   480500.0\n",
      "2000-01-04  25.9375      27.5000     NaN       NaN  1386600.0\n",
      "2000-01-05  26.6250      25.9375     NaN       NaN   708100.0\n",
      "2000-01-06  25.2500      26.6250     NaN       NaN  1480800.0\n",
      "<class 'pandas.core.frame.DataFrame'>\n",
      "Index: 4780 entries, 1999-12-31 to 2018-12-31\n",
      "Data columns (total 5 columns):\n",
      "Close          4780 non-null float64\n",
      "previous_1d    4779 non-null float64\n",
      "EMA_12         4768 non-null float64\n",
      "willr_14       4766 non-null float64\n",
      "OBV_7          4779 non-null float64\n",
      "dtypes: float64(5)\n",
      "memory usage: 224.1+ KB\n",
      "None\n",
      "Calculating labels\n"
     ]
    },
    {
     "data": {
      "application/vnd.jupyter.widget-view+json": {
       "model_id": "d6d73e359f664e64a6a9dbd522cf0f0e",
       "version_major": 2,
       "version_minor": 0
      },
      "text/plain": [
       "HBox(children=(FloatProgress(value=0.0, max=4780.0), HTML(value='')))"
      ]
     },
     "metadata": {},
     "output_type": "display_data"
    },
    {
     "name": "stdout",
     "output_type": "stream",
     "text": [
      "\n",
      "            previous_1d     EMA_12   willr_14       OBV_7  labels\n",
      "Date                                                             \n",
      "2000-01-21      21.5000  24.211693 -82.142857  -6805500.0     2.0\n",
      "2000-01-24      20.2500  23.602201 -92.465753  -8986800.0     1.0\n",
      "2000-01-25      20.1875  23.076863 -92.307692 -11383100.0     2.0\n",
      "2000-01-26      20.8750  22.738115 -82.786885  -9392500.0     2.0\n",
      "2000-01-27      22.8750  22.759174 -56.557377  -6811000.0     2.0\n",
      "         Date    Close\n",
      "0  1999-12-31  15.7500\n",
      "1  2000-01-03  15.3125\n",
      "2  2000-01-04  15.0625\n",
      "3  2000-01-05  15.0625\n",
      "4  2000-01-06  14.8750\n",
      "              Close  previous_1d  EMA_12  willr_14     OBV_7\n",
      "Date                                                        \n",
      "1999-12-31  15.7500          NaN     NaN       NaN       NaN\n",
      "2000-01-03  15.3125      15.7500     NaN       NaN  218300.0\n",
      "2000-01-04  15.0625      15.3125     NaN       NaN   10000.0\n",
      "2000-01-05  15.0625      15.0625     NaN       NaN -132300.0\n",
      "2000-01-06  14.8750      15.0625     NaN       NaN -132300.0\n",
      "<class 'pandas.core.frame.DataFrame'>\n",
      "Index: 4780 entries, 1999-12-31 to 2018-12-31\n",
      "Data columns (total 5 columns):\n",
      "Close          4780 non-null float64\n",
      "previous_1d    4779 non-null float64\n",
      "EMA_12         4768 non-null float64\n",
      "willr_14       4766 non-null float64\n",
      "OBV_7          4779 non-null float64\n",
      "dtypes: float64(5)\n",
      "memory usage: 224.1+ KB\n",
      "None\n",
      "Calculating labels\n"
     ]
    },
    {
     "data": {
      "application/vnd.jupyter.widget-view+json": {
       "model_id": "6dfaccb0c74b457baec77427e4ecb97d",
       "version_major": 2,
       "version_minor": 0
      },
      "text/plain": [
       "HBox(children=(FloatProgress(value=0.0, max=4780.0), HTML(value='')))"
      ]
     },
     "metadata": {},
     "output_type": "display_data"
    },
    {
     "name": "stdout",
     "output_type": "stream",
     "text": [
      "\n",
      "            previous_1d     EMA_12    willr_14     OBV_7  labels\n",
      "Date                                                            \n",
      "2000-01-21      13.7500  14.817184  -97.297297 -827200.0     2.0\n",
      "2000-01-24      14.0625  14.701079  -77.500000 -518900.0     2.0\n",
      "2000-01-25      13.6875  14.545144  -92.500000 -906100.0     2.0\n",
      "2000-01-26      13.7500  14.422814  -90.000000 -652700.0     2.0\n",
      "2000-01-27      13.5000  14.280843 -100.000000 -848400.0     2.0\n",
      "         Date    Close\n",
      "0  1999-12-31  12.1250\n",
      "1  2000-01-03  12.0000\n",
      "2  2000-01-04  12.3125\n",
      "3  2000-01-05  12.6875\n",
      "4  2000-01-06  12.8750\n",
      "              Close  previous_1d  EMA_12  willr_14    OBV_7\n",
      "Date                                                       \n",
      "1999-12-31  12.1250          NaN     NaN       NaN      NaN\n",
      "2000-01-03  12.0000      12.1250     NaN       NaN  24800.0\n",
      "2000-01-04  12.3125      12.0000     NaN       NaN  -1400.0\n",
      "2000-01-05  12.6875      12.3125     NaN       NaN  37100.0\n",
      "2000-01-06  12.8750      12.6875     NaN       NaN  48000.0\n",
      "<class 'pandas.core.frame.DataFrame'>\n",
      "Index: 4780 entries, 1999-12-31 to 2018-12-31\n",
      "Data columns (total 5 columns):\n",
      "Close          4780 non-null float64\n",
      "previous_1d    4779 non-null float64\n",
      "EMA_12         4768 non-null float64\n",
      "willr_14       4766 non-null float64\n",
      "OBV_7          4779 non-null float64\n",
      "dtypes: float64(5)\n",
      "memory usage: 224.1+ KB\n",
      "None\n",
      "Calculating labels\n"
     ]
    },
    {
     "data": {
      "application/vnd.jupyter.widget-view+json": {
       "model_id": "785571e4a6e949aea86a63340570759a",
       "version_major": 2,
       "version_minor": 0
      },
      "text/plain": [
       "HBox(children=(FloatProgress(value=0.0, max=4780.0), HTML(value='')))"
      ]
     },
     "metadata": {},
     "output_type": "display_data"
    },
    {
     "name": "stdout",
     "output_type": "stream",
     "text": [
      "\n",
      "            previous_1d     EMA_12   willr_14     OBV_7  labels\n",
      "Date                                                           \n",
      "2000-01-21      16.0625  14.895987 -18.478261  298700.0     2.0\n",
      "2000-01-24      15.8750  15.046605 -22.222222  293100.0     2.0\n",
      "2000-01-25      15.7500  15.154819 -26.190476  286300.0     2.0\n",
      "2000-01-26      15.7500  15.246386 -29.729730  286300.0     2.0\n",
      "2000-01-27      16.0000  15.362326 -25.000000  311700.0     0.0\n"
     ]
    }
   ],
   "source": [
    "def compile_data():\n",
    "    with open('small_cyclic_tickers.txt') as f:\n",
    "        tickers = [i.strip() for i in f.readlines()]\n",
    "    \n",
    "    for count,ticker in enumerate(tickers):\n",
    "        df = pd.read_csv('data/cyclic_tickers/initial/{}.csv'.format(ticker))\n",
    "        df  = df.dropna()\n",
    "            \n",
    "        high = df['High'].shift(1).values\n",
    "        low = df['Low'].shift(1).values\n",
    "        close = df['Close'].shift(1).values\n",
    "        volume = df['Volume'].shift(1).values\n",
    "\n",
    "        df.drop(['High','Low','Open','Volume','Adj Close'], 1, inplace=True)\n",
    "        print(df.head())\n",
    "            \n",
    "        df['previous_1d'] = df['Close'].shift(1)\n",
    "\n",
    "\n",
    "        ema = EMA(close, timeperiod=12)\n",
    "        arr = np.array(ema)\n",
    "        df['EMA_12'] = arr\n",
    "\n",
    "\n",
    "        willr = WILLR(high, low, close, timeperiod=14)\n",
    "        arr = np.array(willr)\n",
    "        df['willr_14'] = arr\n",
    "            \n",
    "        obv = OBV(close, volume)\n",
    "        arr = np.array(obv)\n",
    "        df['OBV_7'] = arr\n",
    "\n",
    "        df.set_index('Date', inplace=True)\n",
    "        \n",
    "        print(df.head())\n",
    "        print(df.info())\n",
    "        \n",
    "        labels = create_labels(df, 'Close', 15)\n",
    "        df['labels'] = labels\n",
    "        df.drop(['Close'], 1, inplace=True)\n",
    "        df  = df.dropna()\n",
    "        \n",
    "        print(df.head())\n",
    "        df.to_csv('data/cyclic_tickers/initial_indicators/{}_data.csv'.format(ticker))\n",
    "    \n",
    "compile_data()"
   ]
  },
  {
   "cell_type": "markdown",
   "metadata": {},
   "source": [
    "### Non-cyclic Indicators"
   ]
  },
  {
   "cell_type": "code",
   "execution_count": 16,
   "metadata": {},
   "outputs": [
    {
     "name": "stdout",
     "output_type": "stream",
     "text": [
      "         Date     Close\n",
      "0  2001-08-27  7.074920\n",
      "1  2001-08-28  7.335628\n",
      "2  2001-08-29  7.240101\n",
      "3  2001-08-30  7.383391\n",
      "4  2001-08-31  7.365480\n",
      "               Close  previous_1d  EMA_12  willr_14        OBV_7\n",
      "Date                                                            \n",
      "2001-08-27  7.074920          NaN     NaN       NaN          NaN\n",
      "2001-08-28  7.335628     7.074920     NaN       NaN  204166311.0\n",
      "2001-08-29  7.240101     7.335628     NaN       NaN  269311618.0\n",
      "2001-08-30  7.383391     7.240101     NaN       NaN  242553224.0\n",
      "2001-08-31  7.365480     7.383391     NaN       NaN  266678784.0\n",
      "<class 'pandas.core.frame.DataFrame'>\n",
      "Index: 4141 entries, 2001-08-27 to 2018-12-28\n",
      "Data columns (total 5 columns):\n",
      "Close          4141 non-null float64\n",
      "previous_1d    4140 non-null float64\n",
      "EMA_12         4129 non-null float64\n",
      "willr_14       4127 non-null float64\n",
      "OBV_7          4140 non-null float64\n",
      "dtypes: float64(5)\n",
      "memory usage: 194.1+ KB\n",
      "None\n",
      "Calculating labels\n"
     ]
    },
    {
     "data": {
      "application/vnd.jupyter.widget-view+json": {
       "model_id": "c354657ba8704db383e46fcb561a8107",
       "version_major": 2,
       "version_minor": 0
      },
      "text/plain": [
       "HBox(children=(FloatProgress(value=0.0, max=4141.0), HTML(value='')))"
      ]
     },
     "metadata": {},
     "output_type": "display_data"
    },
    {
     "name": "stdout",
     "output_type": "stream",
     "text": [
      "\n",
      "            previous_1d    EMA_12   willr_14        OBV_7  labels\n",
      "Date                                                             \n",
      "2001-09-14     7.142585  7.257483 -41.873824  204624213.0     2.0\n",
      "2001-09-17     7.224180  7.252359 -51.296847  208479649.0     2.0\n",
      "2001-09-18     7.132634  7.233940 -72.964156  203965392.0     2.0\n",
      "2001-09-19     7.214230  7.230908 -59.609037  209378730.0     2.0\n",
      "2001-09-20     7.347568  7.248855 -37.785092  213725440.0     2.0\n",
      "         Date      Close\n",
      "0  1999-12-31  45.625000\n",
      "1  2000-01-03  44.500000\n",
      "2  2000-01-04  42.062500\n",
      "3  2000-01-05  42.781250\n",
      "4  2000-01-06  43.640625\n",
      "                Close  previous_1d  EMA_12  willr_14       OBV_7\n",
      "Date                                                            \n",
      "1999-12-31  45.625000          NaN     NaN       NaN         NaN\n",
      "2000-01-03  44.500000     45.62500     NaN       NaN   1163000.0\n",
      "2000-01-04  42.062500     44.50000     NaN       NaN  -4894400.0\n",
      "2000-01-05  42.781250     42.06250     NaN       NaN -10617200.0\n",
      "2000-01-06  43.640625     42.78125     NaN       NaN  -2890800.0\n",
      "<class 'pandas.core.frame.DataFrame'>\n",
      "Index: 4780 entries, 1999-12-31 to 2018-12-31\n",
      "Data columns (total 5 columns):\n",
      "Close          4780 non-null float64\n",
      "previous_1d    4779 non-null float64\n",
      "EMA_12         4768 non-null float64\n",
      "willr_14       4766 non-null float64\n",
      "OBV_7          4779 non-null float64\n",
      "dtypes: float64(5)\n",
      "memory usage: 224.1+ KB\n",
      "None\n",
      "Calculating labels\n"
     ]
    },
    {
     "data": {
      "application/vnd.jupyter.widget-view+json": {
       "model_id": "90e85255103b43c3ade93e35df037af7",
       "version_major": 2,
       "version_minor": 0
      },
      "text/plain": [
       "HBox(children=(FloatProgress(value=0.0, max=4780.0), HTML(value='')))"
      ]
     },
     "metadata": {},
     "output_type": "display_data"
    },
    {
     "name": "stdout",
     "output_type": "stream",
     "text": [
      "\n",
      "            previous_1d     EMA_12   willr_14       OBV_7  labels\n",
      "Date                                                             \n",
      "2000-01-21      50.0000  47.379245 -27.700831  21139400.0     2.0\n",
      "2000-01-24      48.5000  47.551669 -40.997230  17619200.0     2.0\n",
      "2000-01-25      47.0000  47.466797 -54.293629  12613700.0     2.0\n",
      "2000-01-26      49.6875  47.808444 -30.470914  16344500.0     2.0\n",
      "2000-01-27      50.4375  48.212914 -27.215190  20127300.0     2.0\n",
      "         Date     Close\n",
      "0  1999-12-31  54.78125\n",
      "1  2000-01-03  53.59375\n",
      "2  2000-01-04  52.56250\n",
      "3  2000-01-05  51.56250\n",
      "4  2000-01-06  53.93750\n",
      "               Close  previous_1d  EMA_12  willr_14       OBV_7\n",
      "Date                                                           \n",
      "1999-12-31  54.78125          NaN     NaN       NaN         NaN\n",
      "2000-01-03  53.59375     54.78125     NaN       NaN    614200.0\n",
      "2000-01-04  52.56250     53.59375     NaN       NaN  -3660800.0\n",
      "2000-01-05  51.56250     52.56250     NaN       NaN  -7931600.0\n",
      "2000-01-06  53.93750     51.56250     NaN       NaN -13030000.0\n",
      "<class 'pandas.core.frame.DataFrame'>\n",
      "Index: 4780 entries, 1999-12-31 to 2018-12-31\n",
      "Data columns (total 5 columns):\n",
      "Close          4780 non-null float64\n",
      "previous_1d    4779 non-null float64\n",
      "EMA_12         4768 non-null float64\n",
      "willr_14       4766 non-null float64\n",
      "OBV_7          4779 non-null float64\n",
      "dtypes: float64(5)\n",
      "memory usage: 224.1+ KB\n",
      "None\n",
      "Calculating labels\n"
     ]
    },
    {
     "data": {
      "application/vnd.jupyter.widget-view+json": {
       "model_id": "bd217068702a407e8c3694875608e3ae",
       "version_major": 2,
       "version_minor": 0
      },
      "text/plain": [
       "HBox(children=(FloatProgress(value=0.0, max=4780.0), HTML(value='')))"
      ]
     },
     "metadata": {},
     "output_type": "display_data"
    },
    {
     "name": "stdout",
     "output_type": "stream",
     "text": [
      "\n",
      "            previous_1d     EMA_12   willr_14       OBV_7  labels\n",
      "Date                                                             \n",
      "2000-01-21     56.28125  56.412106 -36.614173 -25968400.0     2.0\n",
      "2000-01-24     51.34375  55.632359 -83.112583 -50347200.0     2.0\n",
      "2000-01-25     51.56250  55.006226 -64.721485 -21792600.0     1.0\n",
      "2000-01-26     48.75000  54.043730 -88.594164 -38890400.0     2.0\n",
      "2000-01-27     50.31250  53.469695 -75.331565 -28647200.0     2.0\n",
      "         Date     Close\n",
      "0  2000-01-04  4.053544\n",
      "1  2000-01-05  4.091251\n",
      "2  2000-01-06  4.255548\n",
      "3  2000-01-07  4.405031\n",
      "4  2000-01-10  4.418498\n",
      "               Close  previous_1d  EMA_12  willr_14       OBV_7\n",
      "Date                                                           \n",
      "2000-01-04  4.053544          NaN     NaN       NaN         NaN\n",
      "2000-01-05  4.091251     4.053544     NaN       NaN   5211144.0\n",
      "2000-01-06  4.255548     4.091251     NaN       NaN  16146401.0\n",
      "2000-01-07  4.405031     4.255548     NaN       NaN  29138906.0\n",
      "2000-01-10  4.418498     4.405031     NaN       NaN  59046044.0\n",
      "<class 'pandas.core.frame.DataFrame'>\n",
      "Index: 4533 entries, 2000-01-04 to 2018-12-28\n",
      "Data columns (total 5 columns):\n",
      "Close          4533 non-null float64\n",
      "previous_1d    4532 non-null float64\n",
      "EMA_12         4521 non-null float64\n",
      "willr_14       4519 non-null float64\n",
      "OBV_7          4532 non-null float64\n",
      "dtypes: float64(5)\n",
      "memory usage: 212.5+ KB\n",
      "None\n",
      "Calculating labels\n"
     ]
    },
    {
     "data": {
      "application/vnd.jupyter.widget-view+json": {
       "model_id": "d09451d334ce4bbab3b6a42d30707fb4",
       "version_major": 2,
       "version_minor": 0
      },
      "text/plain": [
       "HBox(children=(FloatProgress(value=0.0, max=4533.0), HTML(value='')))"
      ]
     },
     "metadata": {},
     "output_type": "display_data"
    },
    {
     "name": "stdout",
     "output_type": "stream",
     "text": [
      "\n",
      "            previous_1d    EMA_12   willr_14        OBV_7  labels\n",
      "Date                                                             \n",
      "2000-01-24     4.396951  4.259450 -20.237909   91957609.0     2.0\n",
      "2000-01-25     4.523540  4.300079 -16.033642  115224048.0     2.0\n",
      "2000-01-26     4.400991  4.315604 -35.231971  105394663.0     2.0\n",
      "2000-01-27     4.399644  4.328533 -51.735021   77180955.0     2.0\n",
      "2000-01-28     4.302682  4.324556 -63.091500   43145413.0     2.0\n",
      "         Date    Close\n",
      "0  1999-12-31  69.1250\n",
      "1  2000-01-03  66.8125\n",
      "2  2000-01-04  64.3125\n",
      "3  2000-01-05  63.0000\n",
      "4  2000-01-06  63.6875\n",
      "              Close  previous_1d  EMA_12  willr_14       OBV_7\n",
      "Date                                                          \n",
      "1999-12-31  69.1250          NaN     NaN       NaN         NaN\n",
      "2000-01-03  66.8125      69.1250     NaN       NaN   2112700.0\n",
      "2000-01-04  64.3125      66.8125     NaN       NaN  -6257200.0\n",
      "2000-01-05  63.0000      64.3125     NaN       NaN -13002300.0\n",
      "2000-01-06  63.6875      63.0000     NaN       NaN -20021000.0\n",
      "<class 'pandas.core.frame.DataFrame'>\n",
      "Index: 4780 entries, 1999-12-31 to 2018-12-31\n",
      "Data columns (total 5 columns):\n",
      "Close          4780 non-null float64\n",
      "previous_1d    4779 non-null float64\n",
      "EMA_12         4768 non-null float64\n",
      "willr_14       4766 non-null float64\n",
      "OBV_7          4779 non-null float64\n",
      "dtypes: float64(5)\n",
      "memory usage: 224.1+ KB\n",
      "None\n",
      "Calculating labels\n"
     ]
    },
    {
     "data": {
      "application/vnd.jupyter.widget-view+json": {
       "model_id": "df4e562d261d43f89b7a68691776ef08",
       "version_major": 2,
       "version_minor": 0
      },
      "text/plain": [
       "HBox(children=(FloatProgress(value=0.0, max=4780.0), HTML(value='')))"
      ]
     },
     "metadata": {},
     "output_type": "display_data"
    },
    {
     "name": "stdout",
     "output_type": "stream",
     "text": [
      "\n",
      "            previous_1d     EMA_12   willr_14       OBV_7  labels\n",
      "Date                                                             \n",
      "2000-01-21      63.3750  65.176128 -85.271318 -26649200.0     2.0\n",
      "2000-01-24      62.4375  64.754801 -94.594595 -33601700.0     2.0\n",
      "2000-01-25      59.3750  63.927139 -83.606557 -41401600.0     2.0\n",
      "2000-01-26      61.1250  63.496041 -68.306011 -34997800.0     2.0\n",
      "2000-01-27      61.9375  63.256265 -61.202186 -30459400.0     2.0\n",
      "         Date  Close\n",
      "0  1999-12-31   52.0\n",
      "1  2000-01-03   54.0\n",
      "2  2000-01-04   50.0\n",
      "3  2000-01-05   49.0\n",
      "4  2000-01-06   48.0\n",
      "            Close  previous_1d  EMA_12  willr_14   OBV_7\n",
      "Date                                                    \n",
      "1999-12-31   52.0          NaN     NaN       NaN     NaN\n",
      "2000-01-03   54.0         52.0     NaN       NaN    50.0\n",
      "2000-01-04   50.0         54.0     NaN       NaN  1306.0\n",
      "2000-01-05   49.0         50.0     NaN       NaN -1794.0\n",
      "2000-01-06   48.0         49.0     NaN       NaN -6013.0\n",
      "<class 'pandas.core.frame.DataFrame'>\n",
      "Index: 4780 entries, 1999-12-31 to 2018-12-31\n",
      "Data columns (total 5 columns):\n",
      "Close          4780 non-null float64\n",
      "previous_1d    4779 non-null float64\n",
      "EMA_12         4768 non-null float64\n",
      "willr_14       4766 non-null float64\n",
      "OBV_7          4779 non-null float64\n",
      "dtypes: float64(5)\n",
      "memory usage: 224.1+ KB\n",
      "None\n",
      "Calculating labels\n"
     ]
    },
    {
     "data": {
      "application/vnd.jupyter.widget-view+json": {
       "model_id": "83f7e520721a480786eae79c04767078",
       "version_major": 2,
       "version_minor": 0
      },
      "text/plain": [
       "HBox(children=(FloatProgress(value=0.0, max=4780.0), HTML(value='')))"
      ]
     },
     "metadata": {},
     "output_type": "display_data"
    },
    {
     "name": "stdout",
     "output_type": "stream",
     "text": [
      "\n",
      "            previous_1d     EMA_12   willr_14    OBV_7  labels\n",
      "Date                                                          \n",
      "2000-01-21         51.0  54.535133 -80.952381 -17732.0     2.0\n",
      "2000-01-24         56.0  54.760497 -57.142857 -10257.0     2.0\n",
      "2000-01-25         58.0  55.258882 -47.619048  -8463.0     2.0\n",
      "2000-01-26         59.0  55.834439 -42.857143  -4944.0     2.0\n",
      "2000-01-27         57.0  56.013756 -52.380952  -5313.0     2.0\n",
      "         Date  Close\n",
      "0  1999-12-31  112.5\n",
      "1  2000-01-03  115.0\n",
      "2  2000-01-04  110.0\n",
      "3  2000-01-05  107.5\n",
      "4  2000-01-06  112.5\n",
      "            Close  previous_1d  EMA_12  willr_14   OBV_7\n",
      "Date                                                    \n",
      "1999-12-31  112.5          NaN     NaN       NaN     NaN\n",
      "2000-01-03  115.0        112.5     NaN       NaN   115.0\n",
      "2000-01-04  110.0        115.0     NaN       NaN  1240.0\n",
      "2000-01-05  107.5        110.0     NaN       NaN   630.0\n",
      "2000-01-06  112.5        107.5     NaN       NaN   175.0\n",
      "<class 'pandas.core.frame.DataFrame'>\n",
      "Index: 4780 entries, 1999-12-31 to 2018-12-31\n",
      "Data columns (total 5 columns):\n",
      "Close          4780 non-null float64\n",
      "previous_1d    4779 non-null float64\n",
      "EMA_12         4768 non-null float64\n",
      "willr_14       4766 non-null float64\n",
      "OBV_7          4779 non-null float64\n",
      "dtypes: float64(5)\n",
      "memory usage: 224.1+ KB\n",
      "None\n",
      "Calculating labels\n"
     ]
    },
    {
     "data": {
      "application/vnd.jupyter.widget-view+json": {
       "model_id": "ebd3595eb7844577a07e8b69a0436f6b",
       "version_major": 2,
       "version_minor": 0
      },
      "text/plain": [
       "HBox(children=(FloatProgress(value=0.0, max=4780.0), HTML(value='')))"
      ]
     },
     "metadata": {},
     "output_type": "display_data"
    },
    {
     "name": "stdout",
     "output_type": "stream",
     "text": [
      "\n",
      "            previous_1d      EMA_12   willr_14    OBV_7  labels\n",
      "Date                                                           \n",
      "2000-01-21       123.75  111.044132  -0.000000    330.0     0.0\n",
      "2000-01-24       145.00  116.268112  -9.090909  10530.0     2.0\n",
      "2000-01-25       130.00  118.380710 -36.363636   6930.0     2.0\n",
      "2000-01-26       132.50  120.552908 -31.818182   9665.0     2.0\n",
      "2000-01-27       140.00  123.544769 -18.181818  11870.0     2.0\n",
      "         Date   Close\n",
      "0  2004-06-10  2.4375\n",
      "1  2004-06-11  2.3250\n",
      "2  2004-06-14  2.3125\n",
      "3  2004-06-15  2.2750\n",
      "4  2004-06-16  2.3000\n",
      "             Close  previous_1d  EMA_12  willr_14        OBV_7\n",
      "Date                                                          \n",
      "2004-06-10  2.4375          NaN     NaN       NaN          NaN\n",
      "2004-06-11  2.3250       2.4375     NaN       NaN  741780948.0\n",
      "2004-06-14  2.3125       2.3250     NaN       NaN  496140948.0\n",
      "2004-06-15  2.2750       2.3125     NaN       NaN  369726948.0\n",
      "2004-06-16  2.3000       2.2750     NaN       NaN  312265896.0\n",
      "<class 'pandas.core.frame.DataFrame'>\n",
      "Index: 3588 entries, 2004-06-10 to 2018-12-31\n",
      "Data columns (total 5 columns):\n",
      "Close          3588 non-null float64\n",
      "previous_1d    3587 non-null float64\n",
      "EMA_12         3576 non-null float64\n",
      "willr_14       3574 non-null float64\n",
      "OBV_7          3587 non-null float64\n",
      "dtypes: float64(5)\n",
      "memory usage: 168.2+ KB\n",
      "None\n",
      "Calculating labels\n"
     ]
    },
    {
     "data": {
      "application/vnd.jupyter.widget-view+json": {
       "model_id": "a846920704c348768d8dba7cb195a22b",
       "version_major": 2,
       "version_minor": 0
      },
      "text/plain": [
       "HBox(children=(FloatProgress(value=0.0, max=3588.0), HTML(value='')))"
      ]
     },
     "metadata": {},
     "output_type": "display_data"
    },
    {
     "name": "stdout",
     "output_type": "stream",
     "text": [
      "\n",
      "            previous_1d    EMA_12   willr_14        OBV_7  labels\n",
      "Date                                                             \n",
      "2004-06-30        2.575  2.436754 -19.047606  495757896.0     2.0\n",
      "2004-07-01        2.525  2.450330 -33.333298  480565876.0     2.0\n",
      "2004-07-02        2.525  2.461818 -33.333298  480565876.0     2.0\n",
      "2004-07-05        2.550  2.475385 -27.777775  505227876.0     2.0\n",
      "2004-07-06        2.550  2.486864 -27.777775  505227876.0     2.0\n",
      "         Date      Close\n",
      "0  2013-09-18  11.264000\n",
      "1  2013-09-23  12.320000\n",
      "2  2013-09-24  11.896000\n",
      "3  2013-09-25  12.013333\n",
      "4  2013-09-26  11.466666\n",
      "                Close  previous_1d  EMA_12  willr_14        OBV_7\n",
      "Date                                                             \n",
      "2013-09-18  11.264000          NaN     NaN       NaN          NaN\n",
      "2013-09-23  12.320000    11.264000     NaN       NaN  145836577.0\n",
      "2013-09-24  11.896000    12.320000     NaN       NaN  265280099.0\n",
      "2013-09-25  12.013333    11.896000     NaN       NaN  190263172.0\n",
      "2013-09-26  11.466666    12.013333     NaN       NaN  254632432.0\n",
      "<class 'pandas.core.frame.DataFrame'>\n",
      "Index: 1288 entries, 2013-09-18 to 2018-12-28\n",
      "Data columns (total 5 columns):\n",
      "Close          1288 non-null float64\n",
      "previous_1d    1287 non-null float64\n",
      "EMA_12         1276 non-null float64\n",
      "willr_14       1274 non-null float64\n",
      "OBV_7          1287 non-null float64\n",
      "dtypes: float64(5)\n",
      "memory usage: 60.4+ KB\n",
      "None\n",
      "Calculating labels\n"
     ]
    },
    {
     "data": {
      "application/vnd.jupyter.widget-view+json": {
       "model_id": "af3e91559d5845db967794e77b02082d",
       "version_major": 2,
       "version_minor": 0
      },
      "text/plain": [
       "HBox(children=(FloatProgress(value=0.0, max=1288.0), HTML(value='')))"
      ]
     },
     "metadata": {},
     "output_type": "display_data"
    },
    {
     "name": "stdout",
     "output_type": "stream",
     "text": [
      "\n",
      "            previous_1d     EMA_12   willr_14        OBV_7  labels\n",
      "Date                                                              \n",
      "2013-10-17    11.912000  11.900182 -34.022038  235647532.0     1.0\n",
      "2013-10-18    11.896000  11.899539 -39.103542  214825024.0     2.0\n",
      "2013-10-21    12.269333  11.956430 -24.093825  253903732.0     2.0\n",
      "2013-10-22    12.760000  12.080056  -4.424713  304775737.0     2.0\n",
      "2013-10-23    12.645333  12.167022 -15.187657  273970459.0     2.0\n",
      "         Date     Close\n",
      "0  1999-12-31  36.71875\n",
      "1  2000-01-03  36.03125\n",
      "2  2000-01-04  34.46875\n",
      "3  2000-01-05  33.68750\n",
      "4  2000-01-06  32.09375\n",
      "               Close  previous_1d  EMA_12  willr_14      OBV_7\n",
      "Date                                                          \n",
      "1999-12-31  36.71875          NaN     NaN       NaN        NaN\n",
      "2000-01-03  36.03125     36.71875     NaN       NaN  1152800.0\n",
      "2000-01-04  34.46875     36.03125     NaN       NaN -1717600.0\n",
      "2000-01-05  33.68750     34.46875     NaN       NaN -5574000.0\n",
      "2000-01-06  32.09375     33.68750     NaN       NaN -9904600.0\n",
      "<class 'pandas.core.frame.DataFrame'>\n",
      "Index: 4780 entries, 1999-12-31 to 2018-12-31\n",
      "Data columns (total 5 columns):\n",
      "Close          4780 non-null float64\n",
      "previous_1d    4779 non-null float64\n",
      "EMA_12         4768 non-null float64\n",
      "willr_14       4766 non-null float64\n",
      "OBV_7          4779 non-null float64\n",
      "dtypes: float64(5)\n",
      "memory usage: 224.1+ KB\n",
      "None\n",
      "Calculating labels\n"
     ]
    },
    {
     "data": {
      "application/vnd.jupyter.widget-view+json": {
       "model_id": "13a361be191b48ad9173c7edff699b8f",
       "version_major": 2,
       "version_minor": 0
      },
      "text/plain": [
       "HBox(children=(FloatProgress(value=0.0, max=4780.0), HTML(value='')))"
      ]
     },
     "metadata": {},
     "output_type": "display_data"
    },
    {
     "name": "stdout",
     "output_type": "stream",
     "text": [
      "\n",
      "            previous_1d     EMA_12   willr_14       OBV_7  labels\n",
      "Date                                                             \n",
      "2000-01-21     33.84375  34.268013 -62.130178  -9160800.0     2.0\n",
      "2000-01-24     32.40625  33.981588 -87.586207 -14531000.0     2.0\n",
      "2000-01-25     31.75000  33.638267 -97.080292 -20160400.0     2.0\n",
      "2000-01-26     32.56250  33.472764 -74.825175 -15399000.0     2.0\n",
      "2000-01-27     34.06250  33.563493 -41.258741 -10312000.0     2.0\n",
      "         Date    Close\n",
      "0  1999-12-31  68.7500\n",
      "1  2000-01-03  65.1875\n",
      "2  2000-01-04  61.7500\n",
      "3  2000-01-05  63.0000\n",
      "4  2000-01-06  60.0000\n",
      "              Close  previous_1d  EMA_12  willr_14       OBV_7\n",
      "Date                                                          \n",
      "1999-12-31  68.7500          NaN     NaN       NaN         NaN\n",
      "2000-01-03  65.1875      68.7500     NaN       NaN   3097800.0\n",
      "2000-01-04  61.7500      65.1875     NaN       NaN  -8933000.0\n",
      "2000-01-05  63.0000      61.7500     NaN       NaN -17707500.0\n",
      "2000-01-06  60.0000      63.0000     NaN       NaN -10776100.0\n",
      "<class 'pandas.core.frame.DataFrame'>\n",
      "Index: 4780 entries, 1999-12-31 to 2018-12-31\n",
      "Data columns (total 5 columns):\n",
      "Close          4780 non-null float64\n",
      "previous_1d    4779 non-null float64\n",
      "EMA_12         4768 non-null float64\n",
      "willr_14       4766 non-null float64\n",
      "OBV_7          4779 non-null float64\n",
      "dtypes: float64(5)\n",
      "memory usage: 224.1+ KB\n",
      "None\n",
      "Calculating labels\n"
     ]
    },
    {
     "data": {
      "application/vnd.jupyter.widget-view+json": {
       "model_id": "79dfab6cd8094fa4b9d5de60291a475f",
       "version_major": 2,
       "version_minor": 0
      },
      "text/plain": [
       "HBox(children=(FloatProgress(value=0.0, max=4780.0), HTML(value='')))"
      ]
     },
     "metadata": {},
     "output_type": "display_data"
    },
    {
     "name": "stdout",
     "output_type": "stream",
     "text": [
      "\n",
      "            previous_1d     EMA_12   willr_14       OBV_7  labels\n",
      "Date                                                             \n",
      "2000-01-21      60.8125  62.311914 -90.506329 -32999900.0     2.0\n",
      "2000-01-24      60.0000  61.956235 -94.230769 -39682800.0     2.0\n",
      "2000-01-25      58.0000  61.347584 -82.786885 -47022400.0     2.0\n",
      "2000-01-26      56.1250  60.544109 -85.714286 -57274800.0     2.0\n",
      "2000-01-27      57.3750  60.056554 -71.428571 -48806400.0     2.0\n",
      "         Date     Close\n",
      "0  1999-12-31  29.12500\n",
      "1  2000-01-03  28.18750\n",
      "2  2000-01-04  28.21875\n",
      "3  2000-01-05  28.46875\n",
      "4  2000-01-06  28.50000\n",
      "               Close  previous_1d  EMA_12  willr_14      OBV_7\n",
      "Date                                                          \n",
      "1999-12-31  29.12500          NaN     NaN       NaN        NaN\n",
      "2000-01-03  28.18750     29.12500     NaN       NaN  2829800.0\n",
      "2000-01-04  28.21875     28.18750     NaN       NaN -8167200.0\n",
      "2000-01-05  28.46875     28.21875     NaN       NaN  -859200.0\n",
      "2000-01-06  28.50000     28.46875     NaN       NaN  8598200.0\n",
      "<class 'pandas.core.frame.DataFrame'>\n",
      "Index: 4780 entries, 1999-12-31 to 2018-12-31\n",
      "Data columns (total 5 columns):\n",
      "Close          4780 non-null float64\n",
      "previous_1d    4779 non-null float64\n",
      "EMA_12         4768 non-null float64\n",
      "willr_14       4766 non-null float64\n",
      "OBV_7          4779 non-null float64\n",
      "dtypes: float64(5)\n",
      "memory usage: 224.1+ KB\n",
      "None\n",
      "Calculating labels\n"
     ]
    },
    {
     "data": {
      "application/vnd.jupyter.widget-view+json": {
       "model_id": "67f5d5c138ce4500886a8009118b0912",
       "version_major": 2,
       "version_minor": 0
      },
      "text/plain": [
       "HBox(children=(FloatProgress(value=0.0, max=4780.0), HTML(value='')))"
      ]
     },
     "metadata": {},
     "output_type": "display_data"
    },
    {
     "name": "stdout",
     "output_type": "stream",
     "text": [
      "\n",
      "            previous_1d     EMA_12   willr_14       OBV_7  labels\n",
      "Date                                                             \n",
      "2000-01-21     32.93750  30.599729  -0.584795  80376600.0     0.0\n",
      "2000-01-24     33.43750  31.036309  -0.000000  91762400.0     2.0\n",
      "2000-01-25     32.43750  31.251877 -17.777778  80456400.0     2.0\n",
      "2000-01-26     32.93750  31.511203  -9.248555  90175000.0     2.0\n",
      "2000-01-27     31.53125  31.514288 -36.969697  66451200.0     2.0\n",
      "         Date    Close\n",
      "0  1999-12-31  35.2500\n",
      "1  2000-01-03  36.8750\n",
      "2  2000-01-04  35.9375\n",
      "3  2000-01-05  35.0625\n",
      "4  2000-01-06  36.6250\n",
      "              Close  previous_1d  EMA_12  willr_14      OBV_7\n",
      "Date                                                         \n",
      "1999-12-31  35.2500          NaN     NaN       NaN        NaN\n",
      "2000-01-03  36.8750      35.2500     NaN       NaN  1223500.0\n",
      "2000-01-04  35.9375      36.8750     NaN       NaN  6521900.0\n",
      "2000-01-05  35.0625      35.9375     NaN       NaN  1966200.0\n",
      "2000-01-06  36.6250      35.0625     NaN       NaN -3735700.0\n",
      "<class 'pandas.core.frame.DataFrame'>\n",
      "Index: 4780 entries, 1999-12-31 to 2018-12-31\n",
      "Data columns (total 5 columns):\n",
      "Close          4780 non-null float64\n",
      "previous_1d    4779 non-null float64\n",
      "EMA_12         4768 non-null float64\n",
      "willr_14       4766 non-null float64\n",
      "OBV_7          4779 non-null float64\n",
      "dtypes: float64(5)\n",
      "memory usage: 224.1+ KB\n",
      "None\n",
      "Calculating labels\n"
     ]
    },
    {
     "data": {
      "application/vnd.jupyter.widget-view+json": {
       "model_id": "c0ce365d672d47fea6b416102d8c5483",
       "version_major": 2,
       "version_minor": 0
      },
      "text/plain": [
       "HBox(children=(FloatProgress(value=0.0, max=4780.0), HTML(value='')))"
      ]
     },
     "metadata": {},
     "output_type": "display_data"
    },
    {
     "name": "stdout",
     "output_type": "stream",
     "text": [
      "\n",
      "            previous_1d     EMA_12   willr_14      OBV_7  labels\n",
      "Date                                                            \n",
      "2000-01-21      36.1250  36.296197 -60.606061  5362300.0     2.0\n",
      "2000-01-24      36.1250  36.269859 -60.606061  5362300.0     2.0\n",
      "2000-01-25      35.3125  36.122573 -80.303030  1577300.0     2.0\n",
      "2000-01-26      34.3125  35.844100 -90.789474 -2779200.0     2.0\n",
      "2000-01-27      33.9375  35.550777 -96.153846 -5953300.0     2.0\n"
     ]
    }
   ],
   "source": [
    "def compile_data():\n",
    "    with open('noncyclic_tickers.txt') as f:\n",
    "        tickers = [i.strip() for i in f.readlines()]\n",
    "    \n",
    "    for count,ticker in enumerate(tickers):\n",
    "        df = pd.read_csv('data/noncyclic_tickers/initial/{}.csv'.format(ticker))\n",
    "        df  = df.dropna()\n",
    "            \n",
    "        high = df['High'].shift(1).values\n",
    "        low = df['Low'].shift(1).values\n",
    "        close = df['Close'].shift(1).values\n",
    "        volume = df['Volume'].shift(1).values\n",
    "\n",
    "        df.drop(['High','Low','Open','Volume','Adj Close'], 1, inplace=True)\n",
    "        print(df.head())\n",
    "            \n",
    "        df['previous_1d'] = df['Close'].shift(1)\n",
    "\n",
    "\n",
    "        ema = EMA(close, timeperiod=12)\n",
    "        arr = np.array(ema)\n",
    "        df['EMA_12'] = arr\n",
    "\n",
    "\n",
    "        willr = WILLR(high, low, close, timeperiod=14)\n",
    "        arr = np.array(willr)\n",
    "        df['willr_14'] = arr\n",
    "            \n",
    "        obv = OBV(close, volume)\n",
    "        arr = np.array(obv)\n",
    "        df['OBV_7'] = arr\n",
    "\n",
    "        df.set_index('Date', inplace=True)\n",
    "        \n",
    "        print(df.head())\n",
    "        print(df.info())\n",
    "        \n",
    "        labels = create_labels(df, 'Close', 15)\n",
    "        df['labels'] = labels\n",
    "        df.drop(['Close'], 1, inplace=True)\n",
    "        df  = df.dropna()\n",
    "        \n",
    "        print(df.head())\n",
    "        df.to_csv('data/noncyclic_tickers/initial_indicators/{}_data.csv'.format(ticker))\n",
    "    \n",
    "compile_data()"
   ]
  },
  {
   "cell_type": "code",
   "execution_count": 6,
   "metadata": {},
   "outputs": [
    {
     "name": "stdout",
     "output_type": "stream",
     "text": [
      "         Date     Close\n",
      "0  1999-12-31  5.629787\n",
      "1  2000-01-03  5.464898\n",
      "2  2000-01-04  5.417786\n",
      "3  2000-01-05  5.252897\n",
      "4  2000-01-06  5.370675\n",
      "               Close  previous_1d  EMA_12  willr_14     OBV_7\n",
      "Date                                                         \n",
      "1999-12-31  5.629787          NaN     NaN       NaN       NaN\n",
      "2000-01-03  5.464898     5.629787     NaN       NaN  122052.0\n",
      "2000-01-04  5.417786     5.464898     NaN       NaN  110643.0\n",
      "2000-01-05  5.252897     5.417786     NaN       NaN  -54392.0\n",
      "2000-01-06  5.370675     5.252897     NaN       NaN -180954.0\n",
      "<class 'pandas.core.frame.DataFrame'>\n",
      "Index: 4780 entries, 1999-12-31 to 2018-12-31\n",
      "Data columns (total 5 columns):\n",
      "Close          4780 non-null float64\n",
      "previous_1d    4779 non-null float64\n",
      "EMA_12         4768 non-null float64\n",
      "willr_14       4766 non-null float64\n",
      "OBV_7          4779 non-null float64\n",
      "dtypes: float64(5)\n",
      "memory usage: 224.1+ KB\n",
      "None\n",
      "Calculating labels\n"
     ]
    },
    {
     "data": {
      "application/vnd.jupyter.widget-view+json": {
       "model_id": "d038d486d9b24b1abcbf645a311c45bf",
       "version_major": 2,
       "version_minor": 0
      },
      "text/plain": [
       "HBox(children=(FloatProgress(value=0.0, max=4780.0), HTML(value='')))"
      ]
     },
     "metadata": {},
     "output_type": "display_data"
    },
    {
     "name": "stdout",
     "output_type": "stream",
     "text": [
      "\n",
      "            previous_1d    EMA_12   willr_14     OBV_7  labels\n",
      "Date                                                          \n",
      "2000-01-21     5.464898  5.414302 -41.666477  -72699.0     1.0\n",
      "2000-01-24     5.252897  5.389470 -75.000051 -137174.0     2.0\n",
      "2000-01-25     5.276453  5.372083 -62.499937   23616.0     2.0\n",
      "2000-01-26     5.606231  5.408106 -23.076911  295579.0     2.0\n",
      "2000-01-27     5.936009  5.489322  -0.000000  339624.0     0.0\n",
      "         Date  Close\n",
      "0  1999-12-31  9.000\n",
      "1  2000-01-03  9.000\n",
      "2  2000-01-04  8.875\n",
      "3  2000-01-05  8.500\n",
      "4  2000-01-06  9.750\n",
      "            Close  previous_1d  EMA_12  willr_14    OBV_7\n",
      "Date                                                     \n",
      "1999-12-31  9.000          NaN     NaN       NaN      NaN\n",
      "2000-01-03  9.000        9.000     NaN       NaN  86100.0\n",
      "2000-01-04  8.875        9.000     NaN       NaN  86100.0\n",
      "2000-01-05  8.500        8.875     NaN       NaN  22100.0\n",
      "2000-01-06  9.750        8.500     NaN       NaN -17300.0\n",
      "<class 'pandas.core.frame.DataFrame'>\n",
      "Index: 4780 entries, 1999-12-31 to 2018-12-31\n",
      "Data columns (total 5 columns):\n",
      "Close          4780 non-null float64\n",
      "previous_1d    4779 non-null float64\n",
      "EMA_12         4768 non-null float64\n",
      "willr_14       4766 non-null float64\n",
      "OBV_7          4779 non-null float64\n",
      "dtypes: float64(5)\n",
      "memory usage: 224.1+ KB\n",
      "None\n",
      "Calculating labels\n"
     ]
    },
    {
     "data": {
      "application/vnd.jupyter.widget-view+json": {
       "model_id": "09b294d82977461db41c0cc6c50d691e",
       "version_major": 2,
       "version_minor": 0
      },
      "text/plain": [
       "HBox(children=(FloatProgress(value=0.0, max=4780.0), HTML(value='')))"
      ]
     },
     "metadata": {},
     "output_type": "display_data"
    },
    {
     "name": "stdout",
     "output_type": "stream",
     "text": [
      "\n",
      "            previous_1d    EMA_12   willr_14     OBV_7  labels\n",
      "Date                                                          \n",
      "2000-01-21       8.7500  8.946622 -66.666667   78200.0     2.0\n",
      "2000-01-24       8.8750  8.935603 -58.333333   99900.0     2.0\n",
      "2000-01-25       9.0000  8.945511 -50.000000  123600.0     2.0\n",
      "2000-01-26       8.6875  8.905817 -70.833333   87300.0     2.0\n",
      "2000-01-27       8.5625  8.852999 -76.000000   32400.0     2.0\n",
      "         Date    Close\n",
      "0  1999-12-31  43.5000\n",
      "1  2000-01-03  43.0000\n",
      "2  2000-01-04  42.3125\n",
      "3  2000-01-05  42.8125\n",
      "4  2000-01-06  43.3750\n",
      "              Close  previous_1d  EMA_12  willr_14   OBV_7\n",
      "Date                                                      \n",
      "1999-12-31  43.5000          NaN     NaN       NaN     NaN\n",
      "2000-01-03  43.0000      43.5000     NaN       NaN  6400.0\n",
      "2000-01-04  42.3125      43.0000     NaN       NaN  2500.0\n",
      "2000-01-05  42.8125      42.3125     NaN       NaN -4200.0\n",
      "2000-01-06  43.3750      42.8125     NaN       NaN  1100.0\n",
      "<class 'pandas.core.frame.DataFrame'>\n",
      "Index: 4780 entries, 1999-12-31 to 2018-12-31\n",
      "Data columns (total 5 columns):\n",
      "Close          4780 non-null float64\n",
      "previous_1d    4779 non-null float64\n",
      "EMA_12         4768 non-null float64\n",
      "willr_14       4766 non-null float64\n",
      "OBV_7          4779 non-null float64\n",
      "dtypes: float64(5)\n",
      "memory usage: 224.1+ KB\n",
      "None\n",
      "Calculating labels\n"
     ]
    },
    {
     "data": {
      "application/vnd.jupyter.widget-view+json": {
       "model_id": "d226405206644186a069695f5e64bafe",
       "version_major": 2,
       "version_minor": 0
      },
      "text/plain": [
       "HBox(children=(FloatProgress(value=0.0, max=4780.0), HTML(value='')))"
      ]
     },
     "metadata": {},
     "output_type": "display_data"
    },
    {
     "name": "stdout",
     "output_type": "stream",
     "text": [
      "\n",
      "            previous_1d     EMA_12    willr_14    OBV_7  labels\n",
      "Date                                                           \n",
      "2000-01-21       41.375  42.619144  -78.481013 -43300.0     2.0\n",
      "2000-01-24       40.500  42.293122  -96.202532 -61500.0     1.0\n",
      "2000-01-25       38.000  41.632642 -100.000000 -81600.0     2.0\n",
      "2000-01-26       40.125  41.400697  -70.689655 -63900.0     2.0\n",
      "2000-01-27       40.500  41.262128  -65.517241 -56300.0     2.0\n"
     ]
    }
   ],
   "source": [
    "def compile_data():\n",
    "    with open('small_noncyclic_tickers.txt') as f:\n",
    "        tickers = [i.strip() for i in f.readlines()]\n",
    "    \n",
    "    for count,ticker in enumerate(tickers):\n",
    "        df = pd.read_csv('data/noncyclic_tickers/initial/{}.csv'.format(ticker))\n",
    "        df  = df.dropna()\n",
    "            \n",
    "        high = df['High'].shift(1).values\n",
    "        low = df['Low'].shift(1).values\n",
    "        close = df['Close'].shift(1).values\n",
    "        volume = df['Volume'].shift(1).values\n",
    "\n",
    "        df.drop(['High','Low','Open','Volume','Adj Close'], 1, inplace=True)\n",
    "        print(df.head())\n",
    "            \n",
    "        df['previous_1d'] = df['Close'].shift(1)\n",
    "\n",
    "\n",
    "        ema = EMA(close, timeperiod=12)\n",
    "        arr = np.array(ema)\n",
    "        df['EMA_12'] = arr\n",
    "\n",
    "\n",
    "        willr = WILLR(high, low, close, timeperiod=14)\n",
    "        arr = np.array(willr)\n",
    "        df['willr_14'] = arr\n",
    "            \n",
    "        obv = OBV(close, volume)\n",
    "        arr = np.array(obv)\n",
    "        df['OBV_7'] = arr\n",
    "\n",
    "        df.set_index('Date', inplace=True)\n",
    "        \n",
    "        print(df.head())\n",
    "        print(df.info())\n",
    "        \n",
    "        labels = create_labels(df, 'Close', 15)\n",
    "        df['labels'] = labels\n",
    "        df.drop(['Close'], 1, inplace=True)\n",
    "        df  = df.dropna()\n",
    "        \n",
    "        print(df.head())\n",
    "        df.to_csv('data/noncyclic_tickers/initial_indicators/{}_data.csv'.format(ticker))\n",
    "    \n",
    "compile_data()"
   ]
  },
  {
   "cell_type": "markdown",
   "metadata": {},
   "source": [
    "## Normalize indicators"
   ]
  },
  {
   "cell_type": "code",
   "execution_count": 8,
   "metadata": {},
   "outputs": [],
   "source": [
    "import pandas as pd\n",
    "from sklearn import preprocessing"
   ]
  },
  {
   "cell_type": "code",
   "execution_count": 9,
   "metadata": {
    "scrolled": true
   },
   "outputs": [
    {
     "name": "stdout",
     "output_type": "stream",
     "text": [
      "            previous_1d    EMA_12  willr_14     OBV_7  labels\n",
      "Date                                                         \n",
      "2000-01-21     0.905882  0.956964  0.625000  0.643105     2.0\n",
      "2000-01-24     0.858823  0.945782  0.500000  0.628544     2.0\n",
      "2000-01-25     0.835294  0.932205  0.512195  0.621903     2.0\n",
      "2000-01-26     0.803922  0.915230  0.142858  0.607233     2.0\n",
      "2000-01-27     0.811765  0.902239  0.178571  0.616384     2.0\n",
      "            previous_1d    EMA_12  willr_14     OBV_7  labels\n",
      "Date                                                         \n",
      "2000-01-21     0.328349  0.314429  0.574074  0.975610     2.0\n",
      "2000-01-24     0.321090  0.314799  0.604839  0.973859     2.0\n",
      "2000-01-25     0.321493  0.315176  0.612903  0.976050     2.0\n",
      "2000-01-26     0.331978  0.317188  0.822580  0.978622     2.0\n",
      "2000-01-27     0.356578  0.322859  0.947674  0.981467     2.0\n",
      "            previous_1d    EMA_12  willr_14     OBV_7  labels\n",
      "Date                                                         \n",
      "2000-01-21     0.058381  0.049877  0.805970  0.148571     2.0\n",
      "2000-01-24     0.056169  0.050634  0.708955  0.141142     2.0\n",
      "2000-01-25     0.052425  0.050677  0.544776  0.135551     2.0\n",
      "2000-01-26     0.056169  0.051311  0.651786  0.144104     2.0\n",
      "2000-01-27     0.057531  0.052066  0.723214  0.149330     2.0\n",
      "            previous_1d    EMA_12  willr_14     OBV_7  labels\n",
      "Date                                                         \n",
      "2000-01-21     0.292321  0.304128  0.100000  0.233970     2.0\n",
      "2000-01-24     0.301906  0.302062  0.222222  0.246105     2.0\n",
      "2000-01-25     0.292321  0.298743  0.142857  0.236112     2.0\n",
      "2000-01-26     0.287529  0.295149  0.133335  0.225918     2.0\n",
      "2000-01-27     0.301906  0.294464  0.333334  0.231379     2.0\n",
      "            previous_1d    EMA_12  willr_14     OBV_7  labels\n",
      "Date                                                         \n",
      "2000-01-24     0.025605  0.026138  0.303030  0.000000     2.0\n",
      "2000-01-25     0.026060  0.025937  0.208632  0.000929     2.0\n",
      "2000-01-26     0.031705  0.026662  0.654675  0.004489     2.0\n",
      "2000-01-27     0.028337  0.026741  0.374999  0.002068     2.0\n",
      "2000-01-28     0.027426  0.026663  0.301470  0.000267     2.0\n",
      "            previous_1d    EMA_12  willr_14     OBV_7  labels\n",
      "Date                                                         \n",
      "2004-04-07     0.032967  0.024218  0.428571  0.037230     2.0\n",
      "2004-04-08     0.030220  0.023634  0.210526  0.031936     2.0\n",
      "2004-04-13     0.032967  0.023591  0.473684  0.035297     0.0\n",
      "2004-04-14     0.039835  0.024683  0.895833  0.043559     2.0\n",
      "2004-04-15     0.034341  0.024704  0.479167  0.038699     2.0\n",
      "            previous_1d    EMA_12  willr_14     OBV_7  labels\n",
      "Date                                                         \n",
      "2006-11-17     0.257145  0.123860  0.840579  0.123556     2.0\n",
      "2006-11-20     0.252964  0.134378  0.811594  0.102286     2.0\n",
      "2006-11-21     0.252964  0.143277  0.805970  0.102286     2.0\n",
      "2006-11-22     0.252964  0.150808  0.803030  0.102286     0.0\n",
      "2006-11-23     0.278051  0.161577  0.984375  0.126881     2.0\n"
     ]
    }
   ],
   "source": [
    "# normalize all data columns \n",
    "\n",
    "with open('cyclic_tickers.txt') as f:\n",
    "    tickers = [i.strip() for i in f.readlines()]\n",
    "    \n",
    "for count,ticker in enumerate(tickers):\n",
    "    df = pd.read_csv('data/cyclic_tickers/initial_indicators/{}_data.csv'.format(ticker))\n",
    "    df  = df.dropna()\n",
    "    \n",
    "    df.set_index('Date', inplace=True)\n",
    "    df_target = pd.DataFrame(df['labels'])\n",
    "    df.drop(['labels'], axis='columns', inplace=True)\n",
    "    x = df.values #returns a numpy array\n",
    "    min_max_scaler = preprocessing.MinMaxScaler()\n",
    "    x_scaled = min_max_scaler.fit_transform(x)\n",
    "    df = pd.DataFrame(x_scaled, columns = df.columns, index=df.index)\n",
    "    df_normalized = pd.concat([df,df_target],axis=1)\n",
    "    print(df_normalized.head())\n",
    "    \n",
    "    df_normalized.to_csv('data/cyclic_tickers/normalized/{}_data.csv'.format(ticker))"
   ]
  },
  {
   "cell_type": "code",
   "execution_count": 10,
   "metadata": {},
   "outputs": [
    {
     "name": "stdout",
     "output_type": "stream",
     "text": [
      "            previous_1d    EMA_12  willr_14     OBV_7  labels\n",
      "Date                                                         \n",
      "2001-09-14     0.002663  0.002811  0.581262  0.027844     2.0\n",
      "2001-09-17     0.002765  0.002805  0.487032  0.031152     2.0\n",
      "2001-09-18     0.002650  0.002781  0.270358  0.027279     2.0\n",
      "2001-09-19     0.002753  0.002777  0.403910  0.031923     2.0\n",
      "2001-09-20     0.002921  0.002800  0.622149  0.035653     2.0\n",
      "            previous_1d    EMA_12  willr_14     OBV_7  labels\n",
      "Date                                                         \n",
      "2000-01-21     0.104899  0.091802  0.722992  0.376076     2.0\n",
      "2000-01-24     0.097986  0.092625  0.590028  0.364892     2.0\n",
      "2000-01-25     0.091072  0.092220  0.457064  0.348988     2.0\n",
      "2000-01-26     0.103459  0.093850  0.695291  0.360841     2.0\n",
      "2000-01-27     0.106916  0.095779  0.727848  0.372860     2.0\n",
      "            previous_1d    EMA_12  willr_14     OBV_7  labels\n",
      "Date                                                         \n",
      "2000-01-21     0.422022  0.432266  0.633858  0.525818     2.0\n",
      "2000-01-24     0.351312  0.420538  0.168874  0.501743     2.0\n",
      "2000-01-25     0.354445  0.411121  0.352785  0.529942     1.0\n",
      "2000-01-26     0.314167  0.396644  0.114058  0.513057     2.0\n",
      "2000-01-27     0.336544  0.388011  0.246684  0.523172     2.0\n",
      "            previous_1d    EMA_12  willr_14     OBV_7  labels\n",
      "Date                                                         \n",
      "2000-01-24     0.013557  0.011769  0.797621  0.011590     2.0\n",
      "2000-01-25     0.014987  0.012253  0.839664  0.013400     2.0\n",
      "2000-01-26     0.013603  0.012437  0.647680  0.012635     2.0\n",
      "2000-01-27     0.013587  0.012591  0.482650  0.010440     2.0\n",
      "2000-01-28     0.012492  0.012544  0.369085  0.007792     2.0\n",
      "            previous_1d    EMA_12  willr_14     OBV_7  labels\n",
      "Date                                                         \n",
      "2000-01-21     0.313689  0.352759  0.147287  0.649243     2.0\n",
      "2000-01-24     0.299755  0.346039  0.054054  0.641947     2.0\n",
      "2000-01-25     0.254236  0.332839  0.163934  0.633761     2.0\n",
      "2000-01-26     0.280247  0.325963  0.316940  0.640482     2.0\n",
      "2000-01-27     0.292323  0.322139  0.387978  0.645245     2.0\n",
      "            previous_1d    EMA_12  willr_14     OBV_7  labels\n",
      "Date                                                         \n",
      "2000-01-21     0.264551  0.375467  0.190476  0.000000     2.0\n",
      "2000-01-24     0.290817  0.377044  0.428571  0.000069     2.0\n",
      "2000-01-25     0.301324  0.380531  0.523810  0.000086     2.0\n",
      "2000-01-26     0.306577  0.384558  0.571429  0.000118     2.0\n",
      "2000-01-27     0.296071  0.385812  0.476190  0.000115     2.0\n",
      "            previous_1d    EMA_12  willr_14     OBV_7  labels\n",
      "Date                                                         \n",
      "2000-01-21     0.388908  0.360316  1.000000  0.008291     0.0\n",
      "2000-01-24     0.462336  0.379977  0.909091  0.008560     2.0\n",
      "2000-01-25     0.410504  0.387928  0.636364  0.008465     2.0\n",
      "2000-01-26     0.419143  0.396104  0.681818  0.008537     2.0\n",
      "2000-01-27     0.445059  0.407364  0.818182  0.008596     2.0\n",
      "            previous_1d    EMA_12  willr_14     OBV_7  labels\n",
      "Date                                                         \n",
      "2004-06-30     0.008197  0.000000  0.809524  0.682238     2.0\n",
      "2004-07-01     0.006375  0.000519  0.666667  0.672530     2.0\n",
      "2004-07-02     0.006375  0.000958  0.666667  0.672530     2.0\n",
      "2004-07-05     0.007286  0.001477  0.722222  0.688290     2.0\n",
      "2004-07-06     0.007286  0.001915  0.722222  0.688290     2.0\n",
      "            previous_1d    EMA_12  willr_14     OBV_7  labels\n",
      "Date                                                         \n",
      "2013-10-17     0.033421  0.020208  0.659780  0.003930     1.0\n",
      "2013-10-18     0.033113  0.020195  0.608965  0.000000     2.0\n",
      "2013-10-21     0.040300  0.021346  0.759062  0.007376     2.0\n",
      "2013-10-22     0.049746  0.023847  0.955753  0.016979     2.0\n",
      "2013-10-23     0.047538  0.025606  0.848123  0.011164     2.0\n"
     ]
    }
   ],
   "source": [
    "# normalize all data columns \n",
    "\n",
    "with open('noncyclic_tickers.txt') as f:\n",
    "    tickers = [i.strip() for i in f.readlines()]\n",
    "    \n",
    "for count,ticker in enumerate(tickers):\n",
    "    df = pd.read_csv('data/noncyclic_tickers/initial_indicators/{}_data.csv'.format(ticker))\n",
    "    df  = df.dropna()\n",
    "    \n",
    "    df.set_index('Date', inplace=True)\n",
    "    df_target = pd.DataFrame(df['labels'])\n",
    "    df.drop(['labels'], axis='columns', inplace=True)\n",
    "    x = df.values #returns a numpy array\n",
    "    min_max_scaler = preprocessing.MinMaxScaler()\n",
    "    x_scaled = min_max_scaler.fit_transform(x)\n",
    "    df = pd.DataFrame(x_scaled, columns = df.columns, index=df.index)\n",
    "    df_normalized = pd.concat([df,df_target],axis=1)\n",
    "    print(df_normalized.head())\n",
    "    \n",
    "    df_normalized.to_csv('data/noncyclic_tickers/normalized/{}_data.csv'.format(ticker))"
   ]
  },
  {
   "cell_type": "code",
   "execution_count": null,
   "metadata": {},
   "outputs": [],
   "source": []
  }
 ],
 "metadata": {
  "kernelspec": {
   "display_name": "Python 3",
   "language": "python",
   "name": "python3"
  },
  "language_info": {
   "codemirror_mode": {
    "name": "ipython",
    "version": 3
   },
   "file_extension": ".py",
   "mimetype": "text/x-python",
   "name": "python",
   "nbconvert_exporter": "python",
   "pygments_lexer": "ipython3",
   "version": "3.8.3"
  }
 },
 "nbformat": 4,
 "nbformat_minor": 4
}
