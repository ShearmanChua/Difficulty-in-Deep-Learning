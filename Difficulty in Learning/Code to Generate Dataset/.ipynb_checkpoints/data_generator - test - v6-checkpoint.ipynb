{
 "cells": [
  {
   "cell_type": "code",
   "execution_count": 1,
   "metadata": {},
   "outputs": [],
   "source": [
    "import pandas_datareader.data as web\n",
    "import pandas as pd\n",
    "import numpy as np\n",
    "from talib import RSI, BBANDS,WILLR,WMA,SMA,EMA,TEMA,KAMA,CCI,CMO,MACD,PPO,ROC,APO,DX,MOM,STOCH,AROON,ADX,OBV \n",
    "import matplotlib.pyplot as plt\n",
    "import requests\n",
    "import lxml\n",
    "import datetime as dt\n",
    "import os\n"
   ]
  },
  {
   "cell_type": "markdown",
   "metadata": {},
   "source": [
    "## retrieve stock tickers data"
   ]
  },
  {
   "cell_type": "markdown",
   "metadata": {},
   "source": [
    "### Cyclic Tickers"
   ]
  },
  {
   "cell_type": "code",
   "execution_count": 2,
   "metadata": {},
   "outputs": [
    {
     "name": "stdout",
     "output_type": "stream",
     "text": [
      "MFC\n",
      "Already have MFC\n",
      "JPM\n",
      "Already have JPM\n",
      "ON\n",
      "Already have ON\n",
      "TSM\n",
      "Already have TSM\n",
      "APA\n",
      "Already have APA\n",
      "XOM\n",
      "Already have XOM\n",
      "WMT\n",
      "Already have WMT\n",
      "KR\n",
      "Already have KR\n",
      "JBLU\n",
      "Already have JBLU\n",
      "DAL\n",
      "Already have DAL\n"
     ]
    }
   ],
   "source": [
    "#use saved tickers in txt file to get the data of STI stocks from yahoo\n",
    "\n",
    "def get_data_from_yahoo():\n",
    "    \n",
    "    with open('v6_tickers.txt') as f:\n",
    "        tickers = [i.strip() for i in f.readlines()]\n",
    "        \n",
    "    if not os.path.exists('data/variation 6/initial'):\n",
    "        os.makedirs('data/variation 6/initial')\n",
    "        \n",
    "    start = dt.datetime(2019,1,1)\n",
    "    end = dt.datetime(2020,1,1)\n",
    "    \n",
    "    for ticker in tickers:\n",
    "        print(ticker)\n",
    "        if not os.path.exists('data/variation 6/initial/{}_test.csv'.format(ticker)):\n",
    "            df = web.DataReader(ticker,'yahoo',start,end)\n",
    "            df.to_csv('data/variation 6/initial/{}_test.csv'.format(ticker))\n",
    "        else:\n",
    "            print('Already have {}'.format(ticker))\n",
    "            \n",
    "get_data_from_yahoo()"
   ]
  },
  {
   "cell_type": "code",
   "execution_count": 3,
   "metadata": {},
   "outputs": [
    {
     "name": "stdout",
     "output_type": "stream",
     "text": [
      "ANF\n",
      "Already have ANF\n",
      "CTB\n",
      "Already have CTB\n",
      "AXL\n",
      "Already have AXL\n"
     ]
    }
   ],
   "source": [
    "#use saved tickers in txt file to get the data of STI stocks from yahoo\n",
    "\n",
    "def get_data_from_yahoo():\n",
    "    \n",
    "    with open('small_cyclic_tickers.txt') as f:\n",
    "        tickers = [i.strip() for i in f.readlines()]\n",
    "        \n",
    "    if not os.path.exists('data/cyclic_tickers/initial'):\n",
    "        os.makedirs('data/cyclic_tickers/initial')\n",
    "        \n",
    "    start = dt.datetime(2019,1,1)\n",
    "    end = dt.datetime(2020,1,1)\n",
    "    \n",
    "    for ticker in tickers:\n",
    "        print(ticker)\n",
    "        if not os.path.exists('data/cyclic_tickers/initial/{}_test.csv'.format(ticker)):\n",
    "            df = web.DataReader(ticker,'yahoo',start,end)\n",
    "            df.to_csv('data/cyclic_tickers/initial/{}_test.csv'.format(ticker))\n",
    "        else:\n",
    "            print('Already have {}'.format(ticker))\n",
    "            \n",
    "get_data_from_yahoo()"
   ]
  },
  {
   "cell_type": "code",
   "execution_count": 4,
   "metadata": {},
   "outputs": [
    {
     "name": "stdout",
     "output_type": "stream",
     "text": [
      "MFC\n",
      "Already have MFC\n",
      "JPM\n",
      "Already have JPM\n",
      "ON\n",
      "Already have ON\n",
      "TSM\n",
      "Already have TSM\n",
      "APA\n",
      "Already have APA\n",
      "XOM\n",
      "Already have XOM\n",
      "WMT\n",
      "Already have WMT\n",
      "KR\n",
      "Already have KR\n",
      "JBLU\n",
      "Already have JBLU\n",
      "DAL\n",
      "Already have DAL\n"
     ]
    }
   ],
   "source": [
    "#use saved tickers in txt file to get the data of STI stocks from yahoo\n",
    "\n",
    "def get_data_from_yahoo():\n",
    "    \n",
    "    with open('v6_tickers.txt') as f:\n",
    "        tickers = [i.strip() for i in f.readlines()]\n",
    "        \n",
    "    if not os.path.exists('data/variation 6/initial'):\n",
    "        os.makedirs('data/variation 6/initial')\n",
    "        \n",
    "    start = dt.datetime(2020,1,1)\n",
    "    end = dt.datetime(2021,1,1)\n",
    "    \n",
    "    for ticker in tickers:\n",
    "        print(ticker)\n",
    "        if not os.path.exists('data/variation 6/initial/{}_test2.csv'.format(ticker)):\n",
    "            df = web.DataReader(ticker,'yahoo',start,end)\n",
    "            df.to_csv('data/variation 6/initial/{}_test2.csv'.format(ticker))\n",
    "        else:\n",
    "            print('Already have {}'.format(ticker))\n",
    "            \n",
    "get_data_from_yahoo()"
   ]
  },
  {
   "cell_type": "code",
   "execution_count": 5,
   "metadata": {},
   "outputs": [
    {
     "name": "stdout",
     "output_type": "stream",
     "text": [
      "ANF\n",
      "Already have ANF\n",
      "CTB\n",
      "Already have CTB\n",
      "AXL\n",
      "Already have AXL\n"
     ]
    }
   ],
   "source": [
    "#use saved tickers in txt file to get the data of STI stocks from yahoo\n",
    "\n",
    "def get_data_from_yahoo():\n",
    "    \n",
    "    with open('small_cyclic_tickers.txt') as f:\n",
    "        tickers = [i.strip() for i in f.readlines()]\n",
    "        \n",
    "    if not os.path.exists('data/cyclic_tickers/initial'):\n",
    "        os.makedirs('data/cyclic_tickers/initial')\n",
    "        \n",
    "    start = dt.datetime(2020,1,1)\n",
    "    end = dt.datetime(2021,1,1)\n",
    "    \n",
    "    for ticker in tickers:\n",
    "        print(ticker)\n",
    "        if not os.path.exists('data/cyclic_tickers/initial/{}_test2.csv'.format(ticker)):\n",
    "            df = web.DataReader(ticker,'yahoo',start,end)\n",
    "            df.to_csv('data/cyclic_tickers/initial/{}_test2.csv'.format(ticker))\n",
    "        else:\n",
    "            print('Already have {}'.format(ticker))\n",
    "            \n",
    "get_data_from_yahoo()"
   ]
  },
  {
   "cell_type": "markdown",
   "metadata": {},
   "source": [
    "### Non-Cyclic Tickers"
   ]
  },
  {
   "cell_type": "code",
   "execution_count": 6,
   "metadata": {},
   "outputs": [
    {
     "name": "stdout",
     "output_type": "stream",
     "text": [
      "600519.SS\n",
      "Already have 600519.SS\n",
      "COST\n",
      "Already have COST\n",
      "PG\n",
      "Already have PG\n",
      "000858.SZ\n",
      "Already have 000858.SZ\n",
      "WMT\n",
      "Already have WMT\n",
      "INO\n",
      "Already have INO\n",
      "NVAX\n",
      "Already have NVAX\n",
      "2319.HK\n",
      "Already have 2319.HK\n",
      "000333.SZ\n",
      "Already have 000333.SZ\n"
     ]
    }
   ],
   "source": [
    "#use saved tickers in txt file to get the data of STI stocks from yahoo\n",
    "\n",
    "def get_data_from_yahoo():\n",
    "    \n",
    "    with open('noncyclic_tickers.txt') as f:\n",
    "        tickers = [i.strip() for i in f.readlines()]\n",
    "        \n",
    "    if not os.path.exists('data/noncyclic_tickers/initial'):\n",
    "        os.makedirs('data/noncyclic_tickers/initial')\n",
    "        \n",
    "    start = dt.datetime(2019,1,1)\n",
    "    end = dt.datetime(2020,1,1)\n",
    "    \n",
    "    for ticker in tickers:\n",
    "        print(ticker)\n",
    "        if not os.path.exists('data/noncyclic_tickers/initial/{}_test.csv'.format(ticker)):\n",
    "            df = web.DataReader(ticker,'yahoo',start,end)\n",
    "            df.to_csv('data/noncyclic_tickers/initial/{}_test.csv'.format(ticker))\n",
    "        else:\n",
    "            print('Already have {}'.format(ticker))\n",
    "            \n",
    "get_data_from_yahoo()"
   ]
  },
  {
   "cell_type": "code",
   "execution_count": 7,
   "metadata": {},
   "outputs": [
    {
     "name": "stdout",
     "output_type": "stream",
     "text": [
      "VGR\n",
      "Already have VGR\n",
      "FDP\n",
      "Already have FDP\n",
      "WMK\n",
      "Already have WMK\n"
     ]
    }
   ],
   "source": [
    "#use saved tickers in txt file to get the data of STI stocks from yahoo\n",
    "\n",
    "def get_data_from_yahoo():\n",
    "    \n",
    "    with open('small_noncyclic_tickers.txt') as f:\n",
    "        tickers = [i.strip() for i in f.readlines()]\n",
    "        \n",
    "    if not os.path.exists('data/noncyclic_tickers/initial'):\n",
    "        os.makedirs('data/noncyclic_tickers/initial')\n",
    "        \n",
    "    start = dt.datetime(2019,1,1)\n",
    "    end = dt.datetime(2020,1,1)\n",
    "    \n",
    "    for ticker in tickers:\n",
    "        print(ticker)\n",
    "        if not os.path.exists('data/noncyclic_tickers/initial/{}_test.csv'.format(ticker)):\n",
    "            df = web.DataReader(ticker,'yahoo',start,end)\n",
    "            df.to_csv('data/noncyclic_tickers/initial/{}_test.csv'.format(ticker))\n",
    "        else:\n",
    "            print('Already have {}'.format(ticker))\n",
    "            \n",
    "get_data_from_yahoo()"
   ]
  },
  {
   "cell_type": "code",
   "execution_count": 8,
   "metadata": {},
   "outputs": [
    {
     "name": "stdout",
     "output_type": "stream",
     "text": [
      "600519.SS\n",
      "Already have 600519.SS\n",
      "COST\n",
      "Already have COST\n",
      "PG\n",
      "Already have PG\n",
      "000858.SZ\n",
      "Already have 000858.SZ\n",
      "WMT\n",
      "Already have WMT\n",
      "INO\n",
      "Already have INO\n",
      "NVAX\n",
      "Already have NVAX\n",
      "2319.HK\n",
      "Already have 2319.HK\n",
      "000333.SZ\n",
      "Already have 000333.SZ\n"
     ]
    }
   ],
   "source": [
    "#use saved tickers in txt file to get the data of STI stocks from yahoo\n",
    "\n",
    "def get_data_from_yahoo():\n",
    "    \n",
    "    with open('noncyclic_tickers.txt') as f:\n",
    "        tickers = [i.strip() for i in f.readlines()]\n",
    "        \n",
    "    if not os.path.exists('data/noncyclic_tickers/initial'):\n",
    "        os.makedirs('data/noncyclic_tickers/initial')\n",
    "        \n",
    "    start = dt.datetime(2020,1,1)\n",
    "    end = dt.datetime(2021,1,1)\n",
    "    \n",
    "    for ticker in tickers:\n",
    "        print(ticker)\n",
    "        if not os.path.exists('data/noncyclic_tickers/initial/{}_test2.csv'.format(ticker)):\n",
    "            df = web.DataReader(ticker,'yahoo',start,end)\n",
    "            df.to_csv('data/noncyclic_tickers/initial/{}_test2.csv'.format(ticker))\n",
    "        else:\n",
    "            print('Already have {}'.format(ticker))\n",
    "            \n",
    "get_data_from_yahoo()"
   ]
  },
  {
   "cell_type": "code",
   "execution_count": 9,
   "metadata": {},
   "outputs": [
    {
     "name": "stdout",
     "output_type": "stream",
     "text": [
      "VGR\n",
      "Already have VGR\n",
      "FDP\n",
      "Already have FDP\n",
      "WMK\n",
      "Already have WMK\n"
     ]
    }
   ],
   "source": [
    "#use saved tickers in txt file to get the data of STI stocks from yahoo\n",
    "\n",
    "def get_data_from_yahoo():\n",
    "    \n",
    "    with open('small_noncyclic_tickers.txt') as f:\n",
    "        tickers = [i.strip() for i in f.readlines()]\n",
    "        \n",
    "    if not os.path.exists('data/noncyclic_tickers/initial'):\n",
    "        os.makedirs('data/noncyclic_tickers/initial')\n",
    "        \n",
    "    start = dt.datetime(2020,1,1)\n",
    "    end = dt.datetime(2021,1,1)\n",
    "    \n",
    "    for ticker in tickers:\n",
    "        print(ticker)\n",
    "        if not os.path.exists('data/noncyclic_tickers/initial/{}_test2.csv'.format(ticker)):\n",
    "            df = web.DataReader(ticker,'yahoo',start,end)\n",
    "            df.to_csv('data/noncyclic_tickers/initial/{}_test2.csv'.format(ticker))\n",
    "        else:\n",
    "            print('Already have {}'.format(ticker))\n",
    "            \n",
    "get_data_from_yahoo()"
   ]
  },
  {
   "cell_type": "markdown",
   "metadata": {},
   "source": [
    "## Function to create labels"
   ]
  },
  {
   "cell_type": "code",
   "execution_count": 10,
   "metadata": {},
   "outputs": [],
   "source": [
    "import os\n",
    "import re\n",
    "from operator import itemgetter\n",
    "\n",
    "import pandas as pd\n",
    "import pickle\n",
    "import numpy as np\n",
    "from sklearn.feature_selection import SelectKBest, f_classif, mutual_info_classif\n",
    "from sklearn.model_selection import train_test_split\n",
    "from sklearn.preprocessing import MinMaxScaler, OneHotEncoder\n",
    "from sklearn.utils import compute_class_weight\n",
    "from tqdm.auto import tqdm\n",
    "\n",
    "def create_labels(df, col_name, window_size=15):\n",
    "        \"\"\"\n",
    "        Data is labeled as per the logic in research paper\n",
    "        Label code : BUY => 1, SELL => 0, HOLD => 2\n",
    "        params :\n",
    "            df => Dataframe with data\n",
    "            col_name => name of column which should be used to determine strategy\n",
    "        returns : numpy array with integer codes for labels with\n",
    "                  size = total-(window_size)+1\n",
    "        \"\"\"\n",
    "        row_counter = 0\n",
    "        total_rows = len(df)\n",
    "        labels = np.zeros(total_rows)\n",
    "        labels[:] = np.nan\n",
    "        print(\"Calculating labels\")\n",
    "        pbar = tqdm(total=total_rows)\n",
    "\n",
    "        while row_counter < total_rows:\n",
    "            if row_counter >= window_size - 1:\n",
    "                window_begin = row_counter - (window_size - 1)\n",
    "                window_end = row_counter\n",
    "                window_middle = (window_begin + window_end) / 2\n",
    "                window_middle = int(window_middle)\n",
    "\n",
    "                min_ = np.inf\n",
    "                min_index = -1\n",
    "                max_ = -np.inf\n",
    "                max_index = -1\n",
    "                for i in range(window_begin, window_end + 1):\n",
    "                    price = df.iloc[i][col_name]\n",
    "                    if price < min_:\n",
    "                        min_ = price\n",
    "                        min_index = i\n",
    "                    if price > max_:\n",
    "                        max_ = price\n",
    "                        max_index = i\n",
    "                        \n",
    "                end_price = df.iloc[window_end][col_name]\n",
    "                mid_price = df.iloc[window_middle][col_name]\n",
    "\n",
    "                if max_index == window_middle:\n",
    "                    labels[window_middle] = 0\n",
    "                elif min_index == window_middle:\n",
    "                    labels[window_middle] = 1\n",
    "                else:\n",
    "                    labels[window_middle] = 2\n",
    "\n",
    "            row_counter = row_counter + 1\n",
    "            pbar.update(1)\n",
    "\n",
    "        pbar.close()\n",
    "        return labels"
   ]
  },
  {
   "cell_type": "markdown",
   "metadata": {},
   "source": [
    "## Generate technical indicators"
   ]
  },
  {
   "cell_type": "markdown",
   "metadata": {},
   "source": [
    "### Cyclic indicators"
   ]
  },
  {
   "cell_type": "code",
   "execution_count": 11,
   "metadata": {},
   "outputs": [
    {
     "name": "stdout",
     "output_type": "stream",
     "text": [
      "         Date  Close\n",
      "0  2018-12-31  14.19\n",
      "1  2019-01-02  14.32\n",
      "2  2019-01-03  14.28\n",
      "3  2019-01-04  14.83\n",
      "4  2019-01-07  14.93\n",
      "            Close  previous_1d  EMA_12  willr_14      OBV_7\n",
      "Date                                                       \n",
      "2018-12-31  14.19          NaN     NaN       NaN        NaN\n",
      "2019-01-02  14.32        14.19     NaN       NaN  2988700.0\n",
      "2019-01-03  14.28        14.32     NaN       NaN  4818300.0\n",
      "2019-01-04  14.83        14.28     NaN       NaN  2895300.0\n",
      "2019-01-07  14.93        14.83     NaN       NaN  5199700.0\n",
      "<class 'pandas.core.frame.DataFrame'>\n",
      "Index: 253 entries, 2018-12-31 to 2019-12-31\n",
      "Data columns (total 5 columns):\n",
      "Close          253 non-null float64\n",
      "previous_1d    252 non-null float64\n",
      "EMA_12         241 non-null float64\n",
      "willr_14       239 non-null float64\n",
      "OBV_7          252 non-null float64\n",
      "dtypes: float64(5)\n",
      "memory usage: 11.9+ KB\n",
      "None\n",
      "Calculating labels\n"
     ]
    },
    {
     "data": {
      "application/vnd.jupyter.widget-view+json": {
       "model_id": "da561caea8e64d4a924392a5cedcb284",
       "version_major": 2,
       "version_minor": 0
      },
      "text/plain": [
       "HBox(children=(FloatProgress(value=0.0, max=253.0), HTML(value='')))"
      ]
     },
     "metadata": {},
     "output_type": "display_data"
    },
    {
     "name": "stdout",
     "output_type": "stream",
     "text": [
      "\n",
      "            previous_1d     EMA_12   willr_14       OBV_7  labels\n",
      "Date                                                             \n",
      "2019-01-22        16.10  15.369379  -4.347841  12991200.0     2.0\n",
      "2019-01-23        15.75  15.427936 -19.565241  11195700.0     2.0\n",
      "2019-01-24        15.79  15.483638 -19.902947  12310800.0     2.0\n",
      "2019-01-25        15.63  15.506155 -34.131754  10454700.0     2.0\n",
      "2019-01-28        15.75  15.543670 -30.405447  11863600.0     2.0\n",
      "         Date       Close\n",
      "0  2018-12-31   97.620003\n",
      "1  2019-01-02   99.309998\n",
      "2  2019-01-03   97.110001\n",
      "3  2019-01-04  100.690002\n",
      "4  2019-01-07  100.760002\n",
      "                 Close  previous_1d  EMA_12  willr_14       OBV_7\n",
      "Date                                                             \n",
      "2018-12-31   97.620003          NaN     NaN       NaN         NaN\n",
      "2019-01-02   99.309998    97.620003     NaN       NaN  13237200.0\n",
      "2019-01-03   97.110001    99.309998     NaN       NaN  28908100.0\n",
      "2019-01-04  100.690002    97.110001     NaN       NaN  12621700.0\n",
      "2019-01-07  100.760002   100.690002     NaN       NaN  29556900.0\n",
      "<class 'pandas.core.frame.DataFrame'>\n",
      "Index: 253 entries, 2018-12-31 to 2019-12-31\n",
      "Data columns (total 5 columns):\n",
      "Close          253 non-null float64\n",
      "previous_1d    252 non-null float64\n",
      "EMA_12         241 non-null float64\n",
      "willr_14       239 non-null float64\n",
      "OBV_7          252 non-null float64\n",
      "dtypes: float64(5)\n",
      "memory usage: 11.9+ KB\n",
      "None\n",
      "Calculating labels\n"
     ]
    },
    {
     "data": {
      "application/vnd.jupyter.widget-view+json": {
       "model_id": "2984e0f4291d4de5a0ddc63a7abe015d",
       "version_major": 2,
       "version_minor": 0
      },
      "text/plain": [
       "HBox(children=(FloatProgress(value=0.0, max=253.0), HTML(value='')))"
      ]
     },
     "metadata": {},
     "output_type": "display_data"
    },
    {
     "name": "stdout",
     "output_type": "stream",
     "text": [
      "\n",
      "            previous_1d      EMA_12   willr_14       OBV_7  labels\n",
      "Date                                                              \n",
      "2019-01-22   104.589996  101.198442  -3.459880  84335200.0     2.0\n",
      "2019-01-23   102.940002  101.466374 -21.874992  67251500.0     2.0\n",
      "2019-01-24   102.680000  101.653086 -27.040213  55104800.0     2.0\n",
      "2019-01-25   102.739998  101.820303 -32.628441  66401600.0     2.0\n",
      "2019-01-28   103.389999  102.061795 -23.968276  80771000.0     2.0\n",
      "         Date      Close\n",
      "0  2018-12-31  16.510000\n",
      "1  2019-01-02  16.780001\n",
      "2  2019-01-03  15.650000\n",
      "3  2019-01-04  16.500000\n",
      "4  2019-01-07  17.000000\n",
      "                Close  previous_1d  EMA_12  willr_14      OBV_7\n",
      "Date                                                           \n",
      "2018-12-31  16.510000          NaN     NaN       NaN        NaN\n",
      "2019-01-02  16.780001    16.510000     NaN       NaN  2985400.0\n",
      "2019-01-03  15.650000    16.780001     NaN       NaN  7019500.0\n",
      "2019-01-04  16.500000    15.650000     NaN       NaN  -658400.0\n",
      "2019-01-07  17.000000    16.500000     NaN       NaN  9211500.0\n",
      "<class 'pandas.core.frame.DataFrame'>\n",
      "Index: 253 entries, 2018-12-31 to 2019-12-31\n",
      "Data columns (total 5 columns):\n",
      "Close          253 non-null float64\n",
      "previous_1d    252 non-null float64\n",
      "EMA_12         241 non-null float64\n",
      "willr_14       239 non-null float64\n",
      "OBV_7          252 non-null float64\n",
      "dtypes: float64(5)\n",
      "memory usage: 11.9+ KB\n",
      "None\n",
      "Calculating labels\n"
     ]
    },
    {
     "data": {
      "application/vnd.jupyter.widget-view+json": {
       "model_id": "862f03300004413287bd792695bfbc36",
       "version_major": 2,
       "version_minor": 0
      },
      "text/plain": [
       "HBox(children=(FloatProgress(value=0.0, max=253.0), HTML(value='')))"
      ]
     },
     "metadata": {},
     "output_type": "display_data"
    },
    {
     "name": "stdout",
     "output_type": "stream",
     "text": [
      "\n",
      "            previous_1d     EMA_12   willr_14       OBV_7  labels\n",
      "Date                                                             \n",
      "2019-01-22    18.410000  17.463881 -16.959062  38067400.0     2.0\n",
      "2019-01-23    17.760000  17.509437 -35.964898  32120500.0     1.0\n",
      "2019-01-24    17.610001  17.524909 -40.350852  27571200.0     2.0\n",
      "2019-01-25    18.990000  17.750307  -5.688638  39283300.0     2.0\n",
      "2019-01-28    20.120001  18.114876  -3.499985  49475700.0     2.0\n",
      "         Date      Close\n",
      "0  2018-12-31  36.910000\n",
      "1  2019-01-02  36.520000\n",
      "2  2019-01-03  34.360001\n",
      "3  2019-01-04  34.970001\n",
      "4  2019-01-07  35.230000\n",
      "                Close  previous_1d  EMA_12  willr_14       OBV_7\n",
      "Date                                                            \n",
      "2018-12-31  36.910000          NaN     NaN       NaN         NaN\n",
      "2019-01-02  36.520000    36.910000     NaN       NaN   4600600.0\n",
      "2019-01-03  34.360001    36.520000     NaN       NaN   -672500.0\n",
      "2019-01-04  34.970001    34.360001     NaN       NaN -16670500.0\n",
      "2019-01-07  35.230000    34.970001     NaN       NaN  -2492300.0\n",
      "<class 'pandas.core.frame.DataFrame'>\n",
      "Index: 253 entries, 2018-12-31 to 2019-12-31\n",
      "Data columns (total 5 columns):\n",
      "Close          253 non-null float64\n",
      "previous_1d    252 non-null float64\n",
      "EMA_12         241 non-null float64\n",
      "willr_14       239 non-null float64\n",
      "OBV_7          252 non-null float64\n",
      "dtypes: float64(5)\n",
      "memory usage: 11.9+ KB\n",
      "None\n",
      "Calculating labels\n"
     ]
    },
    {
     "data": {
      "application/vnd.jupyter.widget-view+json": {
       "model_id": "81bcfb8ae494433bb661776d04c3b4c0",
       "version_major": 2,
       "version_minor": 0
      },
      "text/plain": [
       "HBox(children=(FloatProgress(value=0.0, max=253.0), HTML(value='')))"
      ]
     },
     "metadata": {},
     "output_type": "display_data"
    },
    {
     "name": "stdout",
     "output_type": "stream",
     "text": [
      "\n",
      "            previous_1d     EMA_12   willr_14       OBV_7  labels\n",
      "Date                                                             \n",
      "2019-01-22    36.840000  35.988585 -22.189342  49908500.0     2.0\n",
      "2019-01-23    36.369999  36.047264 -22.857127  36526800.0     2.0\n",
      "2019-01-24    36.490002  36.115377 -18.571314  50445400.0     2.0\n",
      "2019-01-25    37.639999  36.349935  -0.000000  64539500.0     2.0\n",
      "2019-01-28    38.139999  36.625329  -3.314889  81303200.0     2.0\n",
      "         Date      Close\n",
      "0  2018-12-31  26.250000\n",
      "1  2019-01-02  27.110001\n",
      "2  2019-01-03  27.180000\n",
      "3  2019-01-04  28.320000\n",
      "4  2019-01-07  28.930000\n",
      "                Close  previous_1d  EMA_12  willr_14       OBV_7\n",
      "Date                                                            \n",
      "2018-12-31  26.250000          NaN     NaN       NaN         NaN\n",
      "2019-01-02  27.110001    26.250000     NaN       NaN   4429900.0\n",
      "2019-01-03  27.180000    27.110001     NaN       NaN   9059300.0\n",
      "2019-01-04  28.320000    27.180000     NaN       NaN  14410700.0\n",
      "2019-01-07  28.930000    28.320000     NaN       NaN  18626400.0\n",
      "<class 'pandas.core.frame.DataFrame'>\n",
      "Index: 253 entries, 2018-12-31 to 2019-12-31\n",
      "Data columns (total 5 columns):\n",
      "Close          253 non-null float64\n",
      "previous_1d    252 non-null float64\n",
      "EMA_12         241 non-null float64\n",
      "willr_14       239 non-null float64\n",
      "OBV_7          252 non-null float64\n",
      "dtypes: float64(5)\n",
      "memory usage: 11.9+ KB\n",
      "None\n",
      "Calculating labels\n"
     ]
    },
    {
     "data": {
      "application/vnd.jupyter.widget-view+json": {
       "model_id": "8ae62715a93a4ac38e845b1282ce04f0",
       "version_major": 2,
       "version_minor": 0
      },
      "text/plain": [
       "HBox(children=(FloatProgress(value=0.0, max=253.0), HTML(value='')))"
      ]
     },
     "metadata": {},
     "output_type": "display_data"
    },
    {
     "name": "stdout",
     "output_type": "stream",
     "text": [
      "\n",
      "            previous_1d     EMA_12   willr_14       OBV_7  labels\n",
      "Date                                                             \n",
      "2019-01-22    32.090000  30.219349  -6.069339  51546400.0     2.0\n",
      "2019-01-23    31.520000  30.419449 -14.306331  47385100.0     1.0\n",
      "2019-01-24    30.969999  30.504149 -26.101688  43194000.0     2.0\n",
      "2019-01-25    31.840000  30.709665 -13.293617  47637700.0     2.0\n",
      "2019-01-28    32.060001  30.917409  -9.803859  52112900.0     2.0\n",
      "         Date      Close\n",
      "0  2018-12-31  68.190002\n",
      "1  2019-01-02  69.690002\n",
      "2  2019-01-03  68.620003\n",
      "3  2019-01-04  71.150002\n",
      "4  2019-01-07  71.519997\n",
      "                Close  previous_1d  EMA_12  willr_14       OBV_7\n",
      "Date                                                            \n",
      "2018-12-31  68.190002          NaN     NaN       NaN         NaN\n",
      "2019-01-02  69.690002    68.190002     NaN       NaN  15807000.0\n",
      "2019-01-03  68.620003    69.690002     NaN       NaN  32534200.0\n",
      "2019-01-04  71.150002    68.620003     NaN       NaN  18668100.0\n",
      "2019-01-07  71.519997    71.150002     NaN       NaN  34711700.0\n",
      "<class 'pandas.core.frame.DataFrame'>\n",
      "Index: 253 entries, 2018-12-31 to 2019-12-31\n",
      "Data columns (total 5 columns):\n",
      "Close          253 non-null float64\n",
      "previous_1d    252 non-null float64\n",
      "EMA_12         241 non-null float64\n",
      "willr_14       239 non-null float64\n",
      "OBV_7          252 non-null float64\n",
      "dtypes: float64(5)\n",
      "memory usage: 11.9+ KB\n",
      "None\n",
      "Calculating labels\n"
     ]
    },
    {
     "data": {
      "application/vnd.jupyter.widget-view+json": {
       "model_id": "e671e2a2618f4942aa8295a57db0fdb4",
       "version_major": 2,
       "version_minor": 0
      },
      "text/plain": [
       "HBox(children=(FloatProgress(value=0.0, max=253.0), HTML(value='')))"
      ]
     },
     "metadata": {},
     "output_type": "display_data"
    },
    {
     "name": "stdout",
     "output_type": "stream",
     "text": [
      "\n",
      "            previous_1d     EMA_12   willr_14       OBV_7  labels\n",
      "Date                                                             \n",
      "2019-01-22    72.989998  71.473540  -4.975176  60118400.0     2.0\n",
      "2019-01-23    71.889999  71.537611 -23.217277  45082800.0     2.0\n",
      "2019-01-24    71.300003  71.501056 -40.365066  31895600.0     2.0\n",
      "2019-01-25    71.400002  71.485509 -48.091584  43168100.0     2.0\n",
      "2019-01-28    71.720001  71.521585 -59.245237  52164300.0     1.0\n",
      "         Date      Close\n",
      "0  2018-12-31  93.150002\n",
      "1  2019-01-02  93.339996\n",
      "2  2019-01-03  92.860001\n",
      "3  2019-01-04  93.440002\n",
      "4  2019-01-07  94.540001\n",
      "                Close  previous_1d  EMA_12  willr_14       OBV_7\n",
      "Date                                                            \n",
      "2018-12-31  93.150002          NaN     NaN       NaN         NaN\n",
      "2019-01-02  93.339996    93.150002     NaN       NaN   7005800.0\n",
      "2019-01-03  92.860001    93.339996     NaN       NaN  15158500.0\n",
      "2019-01-04  93.440002    92.860001     NaN       NaN   6881200.0\n",
      "2019-01-07  94.540001    93.440002     NaN       NaN  14910300.0\n",
      "<class 'pandas.core.frame.DataFrame'>\n",
      "Index: 253 entries, 2018-12-31 to 2019-12-31\n",
      "Data columns (total 5 columns):\n",
      "Close          253 non-null float64\n",
      "previous_1d    252 non-null float64\n",
      "EMA_12         241 non-null float64\n",
      "willr_14       239 non-null float64\n",
      "OBV_7          252 non-null float64\n",
      "dtypes: float64(5)\n",
      "memory usage: 11.9+ KB\n",
      "None\n",
      "Calculating labels\n"
     ]
    },
    {
     "data": {
      "application/vnd.jupyter.widget-view+json": {
       "model_id": "1ed87970776f457c9a525c2e7dc49e38",
       "version_major": 2,
       "version_minor": 0
      },
      "text/plain": [
       "HBox(children=(FloatProgress(value=0.0, max=253.0), HTML(value='')))"
      ]
     },
     "metadata": {},
     "output_type": "display_data"
    },
    {
     "name": "stdout",
     "output_type": "stream",
     "text": [
      "\n",
      "            previous_1d     EMA_12   willr_14       OBV_7  labels\n",
      "Date                                                             \n",
      "2019-01-22    97.730003  95.334462  -7.164539  58918700.0     2.0\n",
      "2019-01-23    97.489998  95.666083 -13.843922  50855500.0     0.0\n",
      "2019-01-24    98.709999  96.134378  -9.609606  59201300.0     2.0\n",
      "2019-01-25    98.360001  96.476781 -14.864842  51591600.0     2.0\n",
      "2019-01-28    96.940002  96.548046 -38.683751  44373400.0     2.0\n",
      "         Date      Close\n",
      "0  2018-12-31  27.500000\n",
      "1  2019-01-02  27.299999\n",
      "2  2019-01-03  27.350000\n",
      "3  2019-01-04  27.660000\n",
      "4  2019-01-07  27.920000\n",
      "                Close  previous_1d  EMA_12  willr_14       OBV_7\n",
      "Date                                                            \n",
      "2018-12-31  27.500000          NaN     NaN       NaN         NaN\n",
      "2019-01-02  27.299999    27.500000     NaN       NaN   5122800.0\n",
      "2019-01-03  27.350000    27.299999     NaN       NaN   -389400.0\n",
      "2019-01-04  27.660000    27.350000     NaN       NaN   8391300.0\n",
      "2019-01-07  27.920000    27.660000     NaN       NaN  18690300.0\n",
      "<class 'pandas.core.frame.DataFrame'>\n",
      "Index: 253 entries, 2018-12-31 to 2019-12-31\n",
      "Data columns (total 5 columns):\n",
      "Close          253 non-null float64\n",
      "previous_1d    252 non-null float64\n",
      "EMA_12         241 non-null float64\n",
      "willr_14       239 non-null float64\n",
      "OBV_7          252 non-null float64\n",
      "dtypes: float64(5)\n",
      "memory usage: 11.9+ KB\n",
      "None\n",
      "Calculating labels\n"
     ]
    },
    {
     "data": {
      "application/vnd.jupyter.widget-view+json": {
       "model_id": "b03e9caacf7140e0a50208e3699630b6",
       "version_major": 2,
       "version_minor": 0
      },
      "text/plain": [
       "HBox(children=(FloatProgress(value=0.0, max=253.0), HTML(value='')))"
      ]
     },
     "metadata": {},
     "output_type": "display_data"
    },
    {
     "name": "stdout",
     "output_type": "stream",
     "text": [
      "\n",
      "            previous_1d     EMA_12   willr_14       OBV_7  labels\n",
      "Date                                                             \n",
      "2019-01-22    29.430000  28.387007  -4.858258  41061300.0     2.0\n",
      "2019-01-23    29.320000  28.530544  -9.311725  36484100.0     2.0\n",
      "2019-01-24    29.240000  28.639691 -14.919380  31104500.0     2.0\n",
      "2019-01-25    28.709999  28.650508 -38.135648  21525300.0     2.0\n",
      "2019-01-28    28.120001  28.568891 -63.135567  13527400.0     2.0\n",
      "         Date      Close\n",
      "0  2018-12-31  16.059999\n",
      "1  2019-01-02  16.200001\n",
      "2  2019-01-03  15.930000\n",
      "3  2019-01-04  16.549999\n",
      "4  2019-01-07  16.690001\n",
      "                Close  previous_1d  EMA_12  willr_14      OBV_7\n",
      "Date                                                           \n",
      "2018-12-31  16.059999          NaN     NaN       NaN        NaN\n",
      "2019-01-02  16.200001    16.059999     NaN       NaN  3884600.0\n",
      "2019-01-03  15.930000    16.200001     NaN       NaN  6474000.0\n",
      "2019-01-04  16.549999    15.930000     NaN       NaN    43200.0\n",
      "2019-01-07  16.690001    16.549999     NaN       NaN  4797300.0\n",
      "<class 'pandas.core.frame.DataFrame'>\n",
      "Index: 253 entries, 2018-12-31 to 2019-12-31\n",
      "Data columns (total 5 columns):\n",
      "Close          253 non-null float64\n",
      "previous_1d    252 non-null float64\n",
      "EMA_12         241 non-null float64\n",
      "willr_14       239 non-null float64\n",
      "OBV_7          252 non-null float64\n",
      "dtypes: float64(5)\n",
      "memory usage: 11.9+ KB\n",
      "None\n",
      "Calculating labels\n"
     ]
    },
    {
     "data": {
      "application/vnd.jupyter.widget-view+json": {
       "model_id": "95ac0fc25c4f4100948078b1ab3ce451",
       "version_major": 2,
       "version_minor": 0
      },
      "text/plain": [
       "HBox(children=(FloatProgress(value=0.0, max=253.0), HTML(value='')))"
      ]
     },
     "metadata": {},
     "output_type": "display_data"
    },
    {
     "name": "stdout",
     "output_type": "stream",
     "text": [
      "\n",
      "            previous_1d     EMA_12   willr_14       OBV_7  labels\n",
      "Date                                                             \n",
      "2019-01-22    17.600000  17.005903  -4.149392  23132100.0     2.0\n",
      "2019-01-23    17.370001  17.061918 -14.049519  19087600.0     2.0\n",
      "2019-01-24    17.240000  17.089315 -19.421466  14999400.0     2.0\n",
      "2019-01-25    18.120001  17.247882  -5.555506  23032100.0     2.0\n",
      "2019-01-28    17.709999  17.318977 -26.363710  14531900.0     2.0\n",
      "         Date      Close\n",
      "0  2018-12-31  49.900002\n",
      "1  2019-01-02  50.090000\n",
      "2  2019-01-03  45.610001\n",
      "3  2019-01-04  47.790001\n",
      "4  2019-01-07  47.849998\n",
      "                Close  previous_1d  EMA_12  willr_14       OBV_7\n",
      "Date                                                            \n",
      "2018-12-31  49.900002          NaN     NaN       NaN         NaN\n",
      "2019-01-02  50.090000    49.900002     NaN       NaN   6231700.0\n",
      "2019-01-03  45.610001    50.090000     NaN       NaN  11502400.0\n",
      "2019-01-04  47.790001    45.610001     NaN       NaN  -7191700.0\n",
      "2019-01-07  47.849998    47.790001     NaN       NaN   3845300.0\n",
      "<class 'pandas.core.frame.DataFrame'>\n",
      "Index: 253 entries, 2018-12-31 to 2019-12-31\n",
      "Data columns (total 5 columns):\n",
      "Close          253 non-null float64\n",
      "previous_1d    252 non-null float64\n",
      "EMA_12         241 non-null float64\n",
      "willr_14       239 non-null float64\n",
      "OBV_7          252 non-null float64\n",
      "dtypes: float64(5)\n",
      "memory usage: 11.9+ KB\n",
      "None\n",
      "Calculating labels\n"
     ]
    },
    {
     "data": {
      "application/vnd.jupyter.widget-view+json": {
       "model_id": "7ea76e364dbd426e8debc83978149575",
       "version_major": 2,
       "version_minor": 0
      },
      "text/plain": [
       "HBox(children=(FloatProgress(value=0.0, max=253.0), HTML(value='')))"
      ]
     },
     "metadata": {},
     "output_type": "display_data"
    },
    {
     "name": "stdout",
     "output_type": "stream",
     "text": [
      "\n",
      "            previous_1d     EMA_12   willr_14       OBV_7  labels\n",
      "Date                                                             \n",
      "2019-01-22    48.110001  48.138043 -45.698927   9500900.0     1.0\n",
      "2019-01-23    47.099998  47.978344 -60.236271   1356500.0     2.0\n",
      "2019-01-24    47.299999  47.873983 -47.268459   9456400.0     2.0\n",
      "2019-01-25    47.520000  47.819524 -51.008641  18513600.0     2.0\n",
      "2019-01-28    47.689999  47.799597 -46.109560  30352800.0     2.0\n"
     ]
    }
   ],
   "source": [
    "def compile_data():\n",
    "    with open('v6_tickers.txt') as f:\n",
    "        tickers = [i.strip() for i in f.readlines()]\n",
    "    \n",
    "    for count,ticker in enumerate(tickers):\n",
    "        df = pd.read_csv('data/variation 6/initial/{}_test.csv'.format(ticker))\n",
    "        df  = df.dropna()\n",
    "            \n",
    "        high = df['High'].shift(1).values\n",
    "        low = df['Low'].shift(1).values\n",
    "        close = df['Close'].shift(1).values\n",
    "        volume = df['Volume'].shift(1).values\n",
    "\n",
    "        df.drop(['High','Low','Open','Volume','Adj Close'], 1, inplace=True)\n",
    "        print(df.head())\n",
    "            \n",
    "        df['previous_1d'] = df['Close'].shift(1)\n",
    "\n",
    "\n",
    "        ema = EMA(close, timeperiod=12)\n",
    "        arr = np.array(ema)\n",
    "        df['EMA_12'] = arr\n",
    "\n",
    "\n",
    "        willr = WILLR(high, low, close, timeperiod=14)\n",
    "        arr = np.array(willr)\n",
    "        df['willr_14'] = arr\n",
    "            \n",
    "        obv = OBV(close, volume)\n",
    "        arr = np.array(obv)\n",
    "        df['OBV_7'] = arr\n",
    "\n",
    "        df.set_index('Date', inplace=True)\n",
    "        \n",
    "        print(df.head())\n",
    "        print(df.info())\n",
    "        \n",
    "        labels = create_labels(df, 'Close', 15)\n",
    "        df['labels'] = labels\n",
    "        df.drop(['Close'], 1, inplace=True)\n",
    "        df  = df.dropna()\n",
    "        \n",
    "        print(df.head())\n",
    "        df.to_csv('data/variation 6/initial_indicators/{}_data_test.csv'.format(ticker))\n",
    "    \n",
    "compile_data()"
   ]
  },
  {
   "cell_type": "code",
   "execution_count": 12,
   "metadata": {},
   "outputs": [
    {
     "name": "stdout",
     "output_type": "stream",
     "text": [
      "         Date      Close\n",
      "0  2018-12-31  20.049999\n",
      "1  2019-01-02  20.639999\n",
      "2  2019-01-03  19.770000\n",
      "3  2019-01-04  19.969999\n",
      "4  2019-01-07  20.920000\n",
      "                Close  previous_1d  EMA_12  willr_14      OBV_7\n",
      "Date                                                           \n",
      "2018-12-31  20.049999          NaN     NaN       NaN        NaN\n",
      "2019-01-02  20.639999    20.049999     NaN       NaN  2660400.0\n",
      "2019-01-03  19.770000    20.639999     NaN       NaN  4996500.0\n",
      "2019-01-04  19.969999    19.770000     NaN       NaN  2799700.0\n",
      "2019-01-07  20.920000    19.969999     NaN       NaN  4763800.0\n",
      "<class 'pandas.core.frame.DataFrame'>\n",
      "Index: 253 entries, 2018-12-31 to 2019-12-31\n",
      "Data columns (total 5 columns):\n",
      "Close          253 non-null float64\n",
      "previous_1d    252 non-null float64\n",
      "EMA_12         241 non-null float64\n",
      "willr_14       239 non-null float64\n",
      "OBV_7          252 non-null float64\n",
      "dtypes: float64(5)\n",
      "memory usage: 11.9+ KB\n",
      "None\n",
      "Calculating labels\n"
     ]
    },
    {
     "data": {
      "application/vnd.jupyter.widget-view+json": {
       "model_id": "6ac8739c58bf49478564ade394b1d2e8",
       "version_major": 2,
       "version_minor": 0
      },
      "text/plain": [
       "HBox(children=(FloatProgress(value=0.0, max=253.0), HTML(value='')))"
      ]
     },
     "metadata": {},
     "output_type": "display_data"
    },
    {
     "name": "stdout",
     "output_type": "stream",
     "text": [
      "\n",
      "            previous_1d     EMA_12   willr_14       OBV_7  labels\n",
      "Date                                                             \n",
      "2019-01-22    20.719999  20.100409 -27.483454  13079300.0     2.0\n",
      "2019-01-23    20.070000  20.095731 -49.006631  11296000.0     2.0\n",
      "2019-01-24    20.080000  20.093311 -48.675497  12920200.0     2.0\n",
      "2019-01-25    20.389999  20.138955 -38.410609  14346300.0     2.0\n",
      "2019-01-28    21.270000  20.312962  -9.271487  16212900.0     2.0\n",
      "         Date      Close\n",
      "0  2018-12-31  32.330002\n",
      "1  2019-01-02  31.950001\n",
      "2  2019-01-03  31.510000\n",
      "3  2019-01-04  32.610001\n",
      "4  2019-01-07  32.500000\n",
      "                Close  previous_1d  EMA_12  willr_14     OBV_7\n",
      "Date                                                          \n",
      "2018-12-31  32.330002          NaN     NaN       NaN       NaN\n",
      "2019-01-02  31.950001    32.330002     NaN       NaN  331200.0\n",
      "2019-01-03  31.510000    31.950001     NaN       NaN -116900.0\n",
      "2019-01-04  32.610001    31.510000     NaN       NaN -426800.0\n",
      "2019-01-07  32.500000    32.610001     NaN       NaN   84300.0\n",
      "<class 'pandas.core.frame.DataFrame'>\n",
      "Index: 253 entries, 2018-12-31 to 2019-12-31\n",
      "Data columns (total 5 columns):\n",
      "Close          253 non-null float64\n",
      "previous_1d    252 non-null float64\n",
      "EMA_12         241 non-null float64\n",
      "willr_14       239 non-null float64\n",
      "OBV_7          252 non-null float64\n",
      "dtypes: float64(5)\n",
      "memory usage: 11.9+ KB\n",
      "None\n",
      "Calculating labels\n"
     ]
    },
    {
     "data": {
      "application/vnd.jupyter.widget-view+json": {
       "model_id": "3f348316165247c7922dcd45f981c5ff",
       "version_major": 2,
       "version_minor": 0
      },
      "text/plain": [
       "HBox(children=(FloatProgress(value=0.0, max=253.0), HTML(value='')))"
      ]
     },
     "metadata": {},
     "output_type": "display_data"
    },
    {
     "name": "stdout",
     "output_type": "stream",
     "text": [
      "\n",
      "            previous_1d     EMA_12   willr_14      OBV_7  labels\n",
      "Date                                                            \n",
      "2019-01-22    33.980000  32.981159 -15.561981  -769400.0     2.0\n",
      "2019-01-23    33.799999  33.107134 -20.749307 -1155700.0     2.0\n",
      "2019-01-24    33.500000  33.167575 -29.394816 -1640200.0     2.0\n",
      "2019-01-25    33.750000  33.257179 -22.580660 -1400100.0     2.0\n",
      "2019-01-28    34.110001  33.388382 -12.023456  -999900.0     2.0\n",
      "         Date  Close\n",
      "0  2018-12-31  11.10\n",
      "1  2019-01-02  11.34\n",
      "2  2019-01-03  11.19\n",
      "3  2019-01-04  11.78\n",
      "4  2019-01-07  12.27\n",
      "            Close  previous_1d  EMA_12  willr_14      OBV_7\n",
      "Date                                                       \n",
      "2018-12-31  11.10          NaN     NaN       NaN        NaN\n",
      "2019-01-02  11.34        11.10     NaN       NaN  1142200.0\n",
      "2019-01-03  11.19        11.34     NaN       NaN  2563100.0\n",
      "2019-01-04  11.78        11.19     NaN       NaN  1391200.0\n",
      "2019-01-07  12.27        11.78     NaN       NaN  2946000.0\n",
      "<class 'pandas.core.frame.DataFrame'>\n",
      "Index: 253 entries, 2018-12-31 to 2019-12-31\n",
      "Data columns (total 5 columns):\n",
      "Close          253 non-null float64\n",
      "previous_1d    252 non-null float64\n",
      "EMA_12         241 non-null float64\n",
      "willr_14       239 non-null float64\n",
      "OBV_7          252 non-null float64\n",
      "dtypes: float64(5)\n",
      "memory usage: 11.9+ KB\n",
      "None\n",
      "Calculating labels\n"
     ]
    },
    {
     "data": {
      "application/vnd.jupyter.widget-view+json": {
       "model_id": "bbee6ee2ff4149b990e3b42ac991bac5",
       "version_major": 2,
       "version_minor": 0
      },
      "text/plain": [
       "HBox(children=(FloatProgress(value=0.0, max=253.0), HTML(value='')))"
      ]
     },
     "metadata": {},
     "output_type": "display_data"
    },
    {
     "name": "stdout",
     "output_type": "stream",
     "text": [
      "\n",
      "            previous_1d     EMA_12   willr_14       OBV_7  labels\n",
      "Date                                                             \n",
      "2019-01-22        14.61  13.028180  -0.258404  23356600.0     2.0\n",
      "2019-01-23        14.52  13.257691  -3.886001  21174700.0     2.0\n",
      "2019-01-24        14.18  13.399585 -13.535906  19629300.0     2.0\n",
      "2019-01-25        14.38  13.550418  -8.579880  20903300.0     2.0\n",
      "2019-01-28        14.71  13.728815  -4.790414  22287500.0     2.0\n"
     ]
    }
   ],
   "source": [
    "def compile_data():\n",
    "    with open('small_cyclic_tickers.txt') as f:\n",
    "        tickers = [i.strip() for i in f.readlines()]\n",
    "    \n",
    "    for count,ticker in enumerate(tickers):\n",
    "        df = pd.read_csv('data/cyclic_tickers/initial/{}_test.csv'.format(ticker))\n",
    "        df  = df.dropna()\n",
    "            \n",
    "        high = df['High'].shift(1).values\n",
    "        low = df['Low'].shift(1).values\n",
    "        close = df['Close'].shift(1).values\n",
    "        volume = df['Volume'].shift(1).values\n",
    "\n",
    "        df.drop(['High','Low','Open','Volume','Adj Close'], 1, inplace=True)\n",
    "        print(df.head())\n",
    "            \n",
    "        df['previous_1d'] = df['Close'].shift(1)\n",
    "\n",
    "\n",
    "        ema = EMA(close, timeperiod=12)\n",
    "        arr = np.array(ema)\n",
    "        df['EMA_12'] = arr\n",
    "\n",
    "\n",
    "        willr = WILLR(high, low, close, timeperiod=14)\n",
    "        arr = np.array(willr)\n",
    "        df['willr_14'] = arr\n",
    "            \n",
    "        obv = OBV(close, volume)\n",
    "        arr = np.array(obv)\n",
    "        df['OBV_7'] = arr\n",
    "\n",
    "        df.set_index('Date', inplace=True)\n",
    "        \n",
    "        print(df.head())\n",
    "        print(df.info())\n",
    "        \n",
    "        labels = create_labels(df, 'Close', 15)\n",
    "        df['labels'] = labels\n",
    "        df.drop(['Close'], 1, inplace=True)\n",
    "        df  = df.dropna()\n",
    "        \n",
    "        print(df.head())\n",
    "        df.to_csv('data/cyclic_tickers/initial_indicators/{}_data_test.csv'.format(ticker))\n",
    "    \n",
    "compile_data()"
   ]
  },
  {
   "cell_type": "code",
   "execution_count": 13,
   "metadata": {},
   "outputs": [
    {
     "name": "stdout",
     "output_type": "stream",
     "text": [
      "         Date      Close\n",
      "0  2019-12-31  20.290001\n",
      "1  2020-01-02  20.559999\n",
      "2  2020-01-03  20.379999\n",
      "3  2020-01-06  20.490000\n",
      "4  2020-01-07  20.639999\n",
      "                Close  previous_1d  EMA_12  willr_14      OBV_7\n",
      "Date                                                           \n",
      "2019-12-31  20.290001          NaN     NaN       NaN        NaN\n",
      "2020-01-02  20.559999    20.290001     NaN       NaN  1263000.0\n",
      "2020-01-03  20.379999    20.559999     NaN       NaN  2817500.0\n",
      "2020-01-06  20.490000    20.379999     NaN       NaN  1530600.0\n",
      "2020-01-07  20.639999    20.490000     NaN       NaN  2703800.0\n",
      "<class 'pandas.core.frame.DataFrame'>\n",
      "Index: 254 entries, 2019-12-31 to 2020-12-31\n",
      "Data columns (total 5 columns):\n",
      "Close          254 non-null float64\n",
      "previous_1d    253 non-null float64\n",
      "EMA_12         242 non-null float64\n",
      "willr_14       240 non-null float64\n",
      "OBV_7          253 non-null float64\n",
      "dtypes: float64(5)\n",
      "memory usage: 11.9+ KB\n",
      "None\n",
      "Calculating labels\n"
     ]
    },
    {
     "data": {
      "application/vnd.jupyter.widget-view+json": {
       "model_id": "b4f246717c8a4281bf104419b9a87115",
       "version_major": 2,
       "version_minor": 0
      },
      "text/plain": [
       "HBox(children=(FloatProgress(value=0.0, max=254.0), HTML(value='')))"
      ]
     },
     "metadata": {},
     "output_type": "display_data"
    },
    {
     "name": "stdout",
     "output_type": "stream",
     "text": [
      "\n",
      "            previous_1d     EMA_12   willr_14      OBV_7  labels\n",
      "Date                                                            \n",
      "2020-01-22    20.620001  20.787224 -56.481365  5587900.0     2.0\n",
      "2020-01-23    20.760000  20.783036 -48.453572  7034300.0     2.0\n",
      "2020-01-24    20.799999  20.785645 -44.329960  8383300.0     2.0\n",
      "2020-01-27    20.650000  20.764777 -59.793849  5159000.0     2.0\n",
      "2020-01-28    20.030001  20.651734 -87.591226  2998800.0     2.0\n",
      "         Date       Close\n",
      "0  2019-12-31  139.399994\n",
      "1  2020-01-02  141.089996\n",
      "2  2020-01-03  138.339996\n",
      "3  2020-01-06  138.229996\n",
      "4  2020-01-07  135.880005\n",
      "                 Close  previous_1d  EMA_12  willr_14       OBV_7\n",
      "Date                                                             \n",
      "2019-12-31  139.399994          NaN     NaN       NaN         NaN\n",
      "2020-01-02  141.089996   139.399994     NaN       NaN   7201600.0\n",
      "2020-01-03  138.339996   141.089996     NaN       NaN  18005300.0\n",
      "2020-01-06  138.229996   138.339996     NaN       NaN   7618500.0\n",
      "2020-01-07  135.880005   138.229996     NaN       NaN  -2640500.0\n",
      "<class 'pandas.core.frame.DataFrame'>\n",
      "Index: 254 entries, 2019-12-31 to 2020-12-31\n",
      "Data columns (total 5 columns):\n",
      "Close          254 non-null float64\n",
      "previous_1d    253 non-null float64\n",
      "EMA_12         242 non-null float64\n",
      "willr_14       240 non-null float64\n",
      "OBV_7          253 non-null float64\n",
      "dtypes: float64(5)\n",
      "memory usage: 11.9+ KB\n",
      "None\n",
      "Calculating labels\n"
     ]
    },
    {
     "data": {
      "application/vnd.jupyter.widget-view+json": {
       "model_id": "23f8fda88cd94a69b1d83dbc6a5fda4d",
       "version_major": 2,
       "version_minor": 0
      },
      "text/plain": [
       "HBox(children=(FloatProgress(value=0.0, max=254.0), HTML(value='')))"
      ]
     },
     "metadata": {},
     "output_type": "display_data"
    },
    {
     "name": "stdout",
     "output_type": "stream",
     "text": [
      "\n",
      "            previous_1d      EMA_12   willr_14       OBV_7  labels\n",
      "Date                                                              \n",
      "2020-01-22   136.839996  137.690058 -77.454723  33776700.0     2.0\n",
      "2020-01-23   136.679993  137.534664 -80.363881  26227600.0     2.0\n",
      "2020-01-24   136.539993  137.381637 -69.867648  16881900.0     2.0\n",
      "2020-01-27   133.149994  136.730615 -90.166021   1715500.0     1.0\n",
      "2020-01-28   132.029999  136.007444 -79.004573 -11145000.0     2.0\n",
      "         Date      Close\n",
      "0  2019-12-31  24.379999\n",
      "1  2020-01-02  25.059999\n",
      "2  2020-01-03  24.690001\n",
      "3  2020-01-06  24.070000\n",
      "4  2020-01-07  24.660000\n",
      "                Close  previous_1d  EMA_12  willr_14      OBV_7\n",
      "Date                                                           \n",
      "2019-12-31  24.379999          NaN     NaN       NaN        NaN\n",
      "2020-01-02  25.059999    24.379999     NaN       NaN  2451500.0\n",
      "2020-01-03  24.690001    25.059999     NaN       NaN  8102500.0\n",
      "2020-01-06  24.070000    24.690001     NaN       NaN  3689800.0\n",
      "2020-01-07  24.660000    24.070000     NaN       NaN -4894600.0\n",
      "<class 'pandas.core.frame.DataFrame'>\n",
      "Index: 254 entries, 2019-12-31 to 2020-12-31\n",
      "Data columns (total 5 columns):\n",
      "Close          254 non-null float64\n",
      "previous_1d    253 non-null float64\n",
      "EMA_12         242 non-null float64\n",
      "willr_14       240 non-null float64\n",
      "OBV_7          253 non-null float64\n",
      "dtypes: float64(5)\n",
      "memory usage: 11.9+ KB\n",
      "None\n",
      "Calculating labels\n"
     ]
    },
    {
     "data": {
      "application/vnd.jupyter.widget-view+json": {
       "model_id": "de49dbeb4d7a4346a72cfb4df05cfcc0",
       "version_major": 2,
       "version_minor": 0
      },
      "text/plain": [
       "HBox(children=(FloatProgress(value=0.0, max=254.0), HTML(value='')))"
      ]
     },
     "metadata": {},
     "output_type": "display_data"
    },
    {
     "name": "stdout",
     "output_type": "stream",
     "text": [
      "\n",
      "            previous_1d     EMA_12   willr_14       OBV_7  labels\n",
      "Date                                                             \n",
      "2020-01-22    24.790001  24.846573 -58.549170  15793400.0     2.0\n",
      "2020-01-23    24.799999  24.839408 -58.031122  19314300.0     2.0\n",
      "2020-01-24    25.469999  24.936422 -23.316098  25250200.0     2.0\n",
      "2020-01-27    24.990000  24.944665 -48.186537  19824200.0     2.0\n",
      "2020-01-28    23.660000  24.747024 -96.170207  12158200.0     2.0\n",
      "         Date      Close\n",
      "0  2019-12-31  58.099998\n",
      "1  2020-01-02  60.040001\n",
      "2  2020-01-03  58.060001\n",
      "3  2020-01-06  57.389999\n",
      "4  2020-01-07  58.320000\n",
      "                Close  previous_1d  EMA_12  willr_14       OBV_7\n",
      "Date                                                            \n",
      "2019-12-31  58.099998          NaN     NaN       NaN         NaN\n",
      "2020-01-02  60.040001    58.099998     NaN       NaN   2950200.0\n",
      "2020-01-03  58.060001    60.040001     NaN       NaN  11382800.0\n",
      "2020-01-06  57.389999    58.060001     NaN       NaN    836400.0\n",
      "2020-01-07  58.320000    57.389999     NaN       NaN  -8060800.0\n",
      "<class 'pandas.core.frame.DataFrame'>\n",
      "Index: 254 entries, 2019-12-31 to 2020-12-31\n",
      "Data columns (total 5 columns):\n",
      "Close          254 non-null float64\n",
      "previous_1d    253 non-null float64\n",
      "EMA_12         242 non-null float64\n",
      "willr_14       240 non-null float64\n",
      "OBV_7          253 non-null float64\n",
      "dtypes: float64(5)\n",
      "memory usage: 11.9+ KB\n",
      "None\n",
      "Calculating labels\n"
     ]
    },
    {
     "data": {
      "application/vnd.jupyter.widget-view+json": {
       "model_id": "6b9c097213224c84ba295c89f60e2ea5",
       "version_major": 2,
       "version_minor": 0
      },
      "text/plain": [
       "HBox(children=(FloatProgress(value=0.0, max=254.0), HTML(value='')))"
      ]
     },
     "metadata": {},
     "output_type": "display_data"
    },
    {
     "name": "stdout",
     "output_type": "stream",
     "text": [
      "\n",
      "            previous_1d     EMA_12   willr_14       OBV_7  labels\n",
      "Date                                                             \n",
      "2020-01-22    58.240002  58.725183 -61.538439   1540100.0     2.0\n",
      "2020-01-23    58.349998  58.667462 -58.718007   9664600.0     2.0\n",
      "2020-01-24    57.480000  58.484776 -78.606952   -334600.0     2.0\n",
      "2020-01-27    57.730000  58.368656 -72.388048  10067600.0     2.0\n",
      "2020-01-28    55.259998  57.890401 -96.415824    392100.0     2.0\n",
      "         Date      Close\n",
      "0  2019-12-31  25.590000\n",
      "1  2020-01-02  25.360001\n",
      "2  2020-01-03  25.690001\n",
      "3  2020-01-06  25.639999\n",
      "4  2020-01-07  32.509998\n",
      "                Close  previous_1d  EMA_12  willr_14      OBV_7\n",
      "Date                                                           \n",
      "2019-12-31  25.590000          NaN     NaN       NaN        NaN\n",
      "2020-01-02  25.360001    25.590000     NaN       NaN  3347600.0\n",
      "2020-01-03  25.690001    25.360001     NaN       NaN   -47500.0\n",
      "2020-01-06  25.639999    25.690001     NaN       NaN  5893100.0\n",
      "2020-01-07  32.509998    25.639999     NaN       NaN  1421400.0\n",
      "<class 'pandas.core.frame.DataFrame'>\n",
      "Index: 254 entries, 2019-12-31 to 2020-12-31\n",
      "Data columns (total 5 columns):\n",
      "Close          254 non-null float64\n",
      "previous_1d    253 non-null float64\n",
      "EMA_12         242 non-null float64\n",
      "willr_14       240 non-null float64\n",
      "OBV_7          253 non-null float64\n",
      "dtypes: float64(5)\n",
      "memory usage: 11.9+ KB\n",
      "None\n",
      "Calculating labels\n"
     ]
    },
    {
     "data": {
      "application/vnd.jupyter.widget-view+json": {
       "model_id": "cde25a31bf164289a2cd0072a1d045bc",
       "version_major": 2,
       "version_minor": 0
      },
      "text/plain": [
       "HBox(children=(FloatProgress(value=0.0, max=254.0), HTML(value='')))"
      ]
     },
     "metadata": {},
     "output_type": "display_data"
    },
    {
     "name": "stdout",
     "output_type": "stream",
     "text": [
      "\n",
      "            previous_1d     EMA_12   willr_14       OBV_7  labels\n",
      "Date                                                             \n",
      "2020-01-22    31.740000  30.898076 -22.580653  22551800.0     2.0\n",
      "2020-01-23    30.870001  30.893757 -33.564805  17841100.0     2.0\n",
      "2020-01-24    30.270000  30.797795 -40.697673  13024900.0     2.0\n",
      "2020-01-27    29.980000  30.671980 -44.069776   9552800.0     2.0\n",
      "2020-01-28    28.850000  30.391675 -95.533989   5310000.0     2.0\n",
      "         Date      Close\n",
      "0  2019-12-31  69.779999\n",
      "1  2020-01-02  70.900002\n",
      "2  2020-01-03  70.330002\n",
      "3  2020-01-06  70.870003\n",
      "4  2020-01-07  70.290001\n",
      "                Close  previous_1d  EMA_12  willr_14       OBV_7\n",
      "Date                                                            \n",
      "2019-12-31  69.779999          NaN     NaN       NaN         NaN\n",
      "2020-01-02  70.900002    69.779999     NaN       NaN  13151800.0\n",
      "2020-01-03  70.330002    70.900002     NaN       NaN  25608200.0\n",
      "2020-01-06  70.870003    70.330002     NaN       NaN   8221300.0\n",
      "2020-01-07  70.290001    70.870003     NaN       NaN  28303200.0\n",
      "<class 'pandas.core.frame.DataFrame'>\n",
      "Index: 254 entries, 2019-12-31 to 2020-12-31\n",
      "Data columns (total 5 columns):\n",
      "Close          254 non-null float64\n",
      "previous_1d    253 non-null float64\n",
      "EMA_12         242 non-null float64\n",
      "willr_14       240 non-null float64\n",
      "OBV_7          253 non-null float64\n",
      "dtypes: float64(5)\n",
      "memory usage: 11.9+ KB\n",
      "None\n",
      "Calculating labels\n"
     ]
    },
    {
     "data": {
      "application/vnd.jupyter.widget-view+json": {
       "model_id": "0ebf97708fd1402587808c58d59d5072",
       "version_major": 2,
       "version_minor": 0
      },
      "text/plain": [
       "HBox(children=(FloatProgress(value=0.0, max=254.0), HTML(value='')))"
      ]
     },
     "metadata": {},
     "output_type": "display_data"
    },
    {
     "name": "stdout",
     "output_type": "stream",
     "text": [
      "\n",
      "            previous_1d     EMA_12   willr_14        OBV_7  labels\n",
      "Date                                                              \n",
      "2020-01-22    67.580002  69.273773 -98.186537  -68570400.0     2.0\n",
      "2020-01-23    67.190002  68.953193 -95.652121  -85603500.0     2.0\n",
      "2020-01-24    66.769997  68.617316 -86.466285 -105209400.0     2.0\n",
      "2020-01-27    66.320000  68.263883 -94.736865 -123448000.0     2.0\n",
      "2020-01-28    64.739998  67.721747 -99.312699 -144679000.0     2.0\n",
      "         Date       Close\n",
      "0  2019-12-31  118.839996\n",
      "1  2020-01-02  118.940002\n",
      "2  2020-01-03  117.889999\n",
      "3  2020-01-06  117.650002\n",
      "4  2020-01-07  116.559998\n",
      "                 Close  previous_1d  EMA_12  willr_14       OBV_7\n",
      "Date                                                             \n",
      "2019-12-31  118.839996          NaN     NaN       NaN         NaN\n",
      "2020-01-02  118.940002   118.839996     NaN       NaN   4912000.0\n",
      "2020-01-03  117.889999   118.940002     NaN       NaN  11676900.0\n",
      "2020-01-06  117.650002   117.889999     NaN       NaN   6277700.0\n",
      "2020-01-07  116.559998   117.650002     NaN       NaN   -167800.0\n",
      "<class 'pandas.core.frame.DataFrame'>\n",
      "Index: 254 entries, 2019-12-31 to 2020-12-31\n",
      "Data columns (total 5 columns):\n",
      "Close          254 non-null float64\n",
      "previous_1d    253 non-null float64\n",
      "EMA_12         242 non-null float64\n",
      "willr_14       240 non-null float64\n",
      "OBV_7          253 non-null float64\n",
      "dtypes: float64(5)\n",
      "memory usage: 11.9+ KB\n",
      "None\n",
      "Calculating labels\n"
     ]
    },
    {
     "data": {
      "application/vnd.jupyter.widget-view+json": {
       "model_id": "c4b8e24478244563ac9cf29e0ada07e5",
       "version_major": 2,
       "version_minor": 0
      },
      "text/plain": [
       "HBox(children=(FloatProgress(value=0.0, max=254.0), HTML(value='')))"
      ]
     },
     "metadata": {},
     "output_type": "display_data"
    },
    {
     "name": "stdout",
     "output_type": "stream",
     "text": [
      "\n",
      "            previous_1d      EMA_12   willr_14       OBV_7  labels\n",
      "Date                                                              \n",
      "2020-01-22   115.589996  116.459043 -80.074504 -17684500.0     2.0\n",
      "2020-01-23   116.099998  116.403805 -70.577262 -12758400.0     2.0\n",
      "2020-01-24   115.809998  116.312450 -69.789236 -17063500.0     2.0\n",
      "2020-01-27   114.370003  116.013612 -94.416205 -21446900.0     2.0\n",
      "2020-01-28   115.860001  115.989979 -34.297465 -14428500.0     2.0\n",
      "         Date      Close\n",
      "0  2019-12-31  28.990000\n",
      "1  2020-01-02  28.660000\n",
      "2  2020-01-03  28.700001\n",
      "3  2020-01-06  28.799999\n",
      "4  2020-01-07  28.590000\n",
      "                Close  previous_1d  EMA_12  willr_14      OBV_7\n",
      "Date                                                           \n",
      "2019-12-31  28.990000          NaN     NaN       NaN        NaN\n",
      "2020-01-02  28.660000    28.990000     NaN       NaN  3752500.0\n",
      "2020-01-03  28.700001    28.660000     NaN       NaN -2472400.0\n",
      "2020-01-06  28.799999    28.700001     NaN       NaN  2969600.0\n",
      "2020-01-07  28.590000    28.799999     NaN       NaN  9899200.0\n",
      "<class 'pandas.core.frame.DataFrame'>\n",
      "Index: 254 entries, 2019-12-31 to 2020-12-31\n",
      "Data columns (total 5 columns):\n",
      "Close          254 non-null float64\n",
      "previous_1d    253 non-null float64\n",
      "EMA_12         242 non-null float64\n",
      "willr_14       240 non-null float64\n",
      "OBV_7          253 non-null float64\n",
      "dtypes: float64(5)\n",
      "memory usage: 11.9+ KB\n",
      "None\n",
      "Calculating labels\n"
     ]
    },
    {
     "data": {
      "application/vnd.jupyter.widget-view+json": {
       "model_id": "956f1fab9e30411f8181fd740fd41e31",
       "version_major": 2,
       "version_minor": 0
      },
      "text/plain": [
       "HBox(children=(FloatProgress(value=0.0, max=254.0), HTML(value='')))"
      ]
     },
     "metadata": {},
     "output_type": "display_data"
    },
    {
     "name": "stdout",
     "output_type": "stream",
     "text": [
      "\n",
      "            previous_1d     EMA_12   willr_14      OBV_7  labels\n",
      "Date                                                            \n",
      "2020-01-22    28.410000  28.475794 -65.217413  9500700.0     2.0\n",
      "2020-01-23    28.370001  28.459518 -68.695589  4678900.0     2.0\n",
      "2020-01-24    28.440001  28.456515 -52.222168  8638500.0     2.0\n",
      "2020-01-27    28.190001  28.415513 -79.999958  3996300.0     2.0\n",
      "2020-01-28    28.330000  28.402357 -50.434793  8238000.0     2.0\n",
      "         Date      Close\n",
      "0  2019-12-31  18.719999\n",
      "1  2020-01-02  18.889999\n",
      "2  2020-01-03  18.570000\n",
      "3  2020-01-06  18.480000\n",
      "4  2020-01-07  18.410000\n",
      "                Close  previous_1d  EMA_12  willr_14      OBV_7\n",
      "Date                                                           \n",
      "2019-12-31  18.719999          NaN     NaN       NaN        NaN\n",
      "2020-01-02  18.889999    18.719999     NaN       NaN  3468400.0\n",
      "2020-01-03  18.570000    18.889999     NaN       NaN  6667800.0\n",
      "2020-01-06  18.480000    18.570000     NaN       NaN  1233500.0\n",
      "2020-01-07  18.410000    18.480000     NaN       NaN -1600800.0\n",
      "<class 'pandas.core.frame.DataFrame'>\n",
      "Index: 254 entries, 2019-12-31 to 2020-12-31\n",
      "Data columns (total 5 columns):\n",
      "Close          254 non-null float64\n",
      "previous_1d    253 non-null float64\n",
      "EMA_12         242 non-null float64\n",
      "willr_14       240 non-null float64\n",
      "OBV_7          253 non-null float64\n",
      "dtypes: float64(5)\n",
      "memory usage: 11.9+ KB\n",
      "None\n",
      "Calculating labels\n"
     ]
    },
    {
     "data": {
      "application/vnd.jupyter.widget-view+json": {
       "model_id": "8501f45c53f14b839a9a86d8de615682",
       "version_major": 2,
       "version_minor": 0
      },
      "text/plain": [
       "HBox(children=(FloatProgress(value=0.0, max=254.0), HTML(value='')))"
      ]
     },
     "metadata": {},
     "output_type": "display_data"
    },
    {
     "name": "stdout",
     "output_type": "stream",
     "text": [
      "\n",
      "            previous_1d     EMA_12   willr_14       OBV_7  labels\n",
      "Date                                                             \n",
      "2020-01-22    19.049999  18.785034 -29.629734  -5172900.0     2.0\n",
      "2020-01-23    19.790001  18.939644 -15.920381   7229600.0     0.0\n",
      "2020-01-24    21.070000  19.267391  -2.622949  23219300.0     2.0\n",
      "2020-01-27    20.650000  19.480100 -18.060233  11950900.0     2.0\n",
      "2020-01-28    20.040001  19.566239 -38.461529   3416600.0     2.0\n",
      "         Date      Close\n",
      "0  2019-12-31  58.480000\n",
      "1  2020-01-02  59.040001\n",
      "2  2020-01-03  58.060001\n",
      "3  2020-01-06  57.660000\n",
      "4  2020-01-07  57.610001\n",
      "                Close  previous_1d  EMA_12  willr_14      OBV_7\n",
      "Date                                                           \n",
      "2019-12-31  58.480000          NaN     NaN       NaN        NaN\n",
      "2020-01-02  59.040001    58.480000     NaN       NaN  2917300.0\n",
      "2020-01-03  58.060001    59.040001     NaN       NaN  7376500.0\n",
      "2020-01-06  57.660000    58.060001     NaN       NaN -1701600.0\n",
      "2020-01-07  57.610001    57.660000     NaN       NaN -7205900.0\n",
      "<class 'pandas.core.frame.DataFrame'>\n",
      "Index: 254 entries, 2019-12-31 to 2020-12-31\n",
      "Data columns (total 5 columns):\n",
      "Close          254 non-null float64\n",
      "previous_1d    253 non-null float64\n",
      "EMA_12         242 non-null float64\n",
      "willr_14       240 non-null float64\n",
      "OBV_7          253 non-null float64\n",
      "dtypes: float64(5)\n",
      "memory usage: 11.9+ KB\n",
      "None\n",
      "Calculating labels\n"
     ]
    },
    {
     "data": {
      "application/vnd.jupyter.widget-view+json": {
       "model_id": "7d1c12bb6f464aad86d39a1dab75e6a8",
       "version_major": 2,
       "version_minor": 0
      },
      "text/plain": [
       "HBox(children=(FloatProgress(value=0.0, max=254.0), HTML(value='')))"
      ]
     },
     "metadata": {},
     "output_type": "display_data"
    },
    {
     "name": "stdout",
     "output_type": "stream",
     "text": [
      "\n",
      "            previous_1d     EMA_12   willr_14       OBV_7  labels\n",
      "Date                                                             \n",
      "2020-01-22    60.340000  59.859537 -36.769751  36316500.0     2.0\n",
      "2020-01-23    59.639999  59.825762 -48.797256  29220100.0     2.0\n",
      "2020-01-24    60.270000  59.894106 -37.972495  36994600.0     2.0\n",
      "2020-01-27    58.810001  59.727321 -63.058391  26005100.0     2.0\n",
      "2020-01-28    56.830002  59.281579 -82.361475  12914900.0     2.0\n"
     ]
    }
   ],
   "source": [
    "def compile_data():\n",
    "    with open('v6_tickers.txt') as f:\n",
    "        tickers = [i.strip() for i in f.readlines()]\n",
    "    \n",
    "    for count,ticker in enumerate(tickers):\n",
    "        df = pd.read_csv('data/variation 6/initial/{}_test2.csv'.format(ticker))\n",
    "        df  = df.dropna()\n",
    "            \n",
    "        high = df['High'].shift(1).values\n",
    "        low = df['Low'].shift(1).values\n",
    "        close = df['Close'].shift(1).values\n",
    "        volume = df['Volume'].shift(1).values\n",
    "\n",
    "        df.drop(['High','Low','Open','Volume','Adj Close'], 1, inplace=True)\n",
    "        print(df.head())\n",
    "            \n",
    "        df['previous_1d'] = df['Close'].shift(1)\n",
    "\n",
    "\n",
    "        ema = EMA(close, timeperiod=12)\n",
    "        arr = np.array(ema)\n",
    "        df['EMA_12'] = arr\n",
    "\n",
    "\n",
    "        willr = WILLR(high, low, close, timeperiod=14)\n",
    "        arr = np.array(willr)\n",
    "        df['willr_14'] = arr\n",
    "            \n",
    "        obv = OBV(close, volume)\n",
    "        arr = np.array(obv)\n",
    "        df['OBV_7'] = arr\n",
    "\n",
    "        df.set_index('Date', inplace=True)\n",
    "        \n",
    "        print(df.head())\n",
    "        print(df.info())\n",
    "        \n",
    "        labels = create_labels(df, 'Close', 15)\n",
    "        df['labels'] = labels\n",
    "        df.drop(['Close'], 1, inplace=True)\n",
    "        df  = df.dropna()\n",
    "        \n",
    "        print(df.head())\n",
    "        df.to_csv('data/variation 6/initial_indicators/{}_data_test2.csv'.format(ticker))\n",
    "    \n",
    "compile_data()"
   ]
  },
  {
   "cell_type": "code",
   "execution_count": 14,
   "metadata": {},
   "outputs": [
    {
     "name": "stdout",
     "output_type": "stream",
     "text": [
      "         Date      Close\n",
      "0  2019-12-31  17.290001\n",
      "1  2020-01-02  17.480000\n",
      "2  2020-01-03  17.379999\n",
      "3  2020-01-06  17.260000\n",
      "4  2020-01-07  17.750000\n",
      "                Close  previous_1d  EMA_12  willr_14      OBV_7\n",
      "Date                                                           \n",
      "2019-12-31  17.290001          NaN     NaN       NaN        NaN\n",
      "2020-01-02  17.480000    17.290001     NaN       NaN  1619100.0\n",
      "2020-01-03  17.379999    17.480000     NaN       NaN  2971300.0\n",
      "2020-01-06  17.260000    17.379999     NaN       NaN  1785800.0\n",
      "2020-01-07  17.750000    17.260000     NaN       NaN   206100.0\n",
      "<class 'pandas.core.frame.DataFrame'>\n",
      "Index: 254 entries, 2019-12-31 to 2020-12-31\n",
      "Data columns (total 5 columns):\n",
      "Close          254 non-null float64\n",
      "previous_1d    253 non-null float64\n",
      "EMA_12         242 non-null float64\n",
      "willr_14       240 non-null float64\n",
      "OBV_7          253 non-null float64\n",
      "dtypes: float64(5)\n",
      "memory usage: 11.9+ KB\n",
      "None\n",
      "Calculating labels\n"
     ]
    },
    {
     "data": {
      "application/vnd.jupyter.widget-view+json": {
       "model_id": "001a8c05b5a14f289d60f5e410a2a9cc",
       "version_major": 2,
       "version_minor": 0
      },
      "text/plain": [
       "HBox(children=(FloatProgress(value=0.0, max=254.0), HTML(value='')))"
      ]
     },
     "metadata": {},
     "output_type": "display_data"
    },
    {
     "name": "stdout",
     "output_type": "stream",
     "text": [
      "\n",
      "            previous_1d     EMA_12   willr_14      OBV_7  labels\n",
      "Date                                                            \n",
      "2020-01-22    17.209999  17.666164 -79.024461  2495600.0     2.0\n",
      "2020-01-23    17.459999  17.634446 -74.456561  4074900.0     2.0\n",
      "2020-01-24    17.240000  17.573762 -85.945936  2705500.0     2.0\n",
      "2020-01-27    16.780001  17.451645 -87.233996  1065300.0     2.0\n",
      "2020-01-28    16.600000  17.320623 -91.393404 -1324100.0     2.0\n",
      "         Date      Close\n",
      "0  2019-12-31  28.750000\n",
      "1  2020-01-02  29.049999\n",
      "2  2020-01-03  28.330000\n",
      "3  2020-01-06  28.389999\n",
      "4  2020-01-07  28.230000\n",
      "                Close  previous_1d  EMA_12  willr_14     OBV_7\n",
      "Date                                                          \n",
      "2019-12-31  28.750000          NaN     NaN       NaN       NaN\n",
      "2020-01-02  29.049999    28.750000     NaN       NaN  255900.0\n",
      "2020-01-03  28.330000    29.049999     NaN       NaN  527300.0\n",
      "2020-01-06  28.389999    28.330000     NaN       NaN  324300.0\n",
      "2020-01-07  28.230000    28.389999     NaN       NaN  510900.0\n",
      "<class 'pandas.core.frame.DataFrame'>\n",
      "Index: 254 entries, 2019-12-31 to 2020-12-31\n",
      "Data columns (total 5 columns):\n",
      "Close          254 non-null float64\n",
      "previous_1d    253 non-null float64\n",
      "EMA_12         242 non-null float64\n",
      "willr_14       240 non-null float64\n",
      "OBV_7          253 non-null float64\n",
      "dtypes: float64(5)\n",
      "memory usage: 11.9+ KB\n",
      "None\n",
      "Calculating labels\n"
     ]
    },
    {
     "data": {
      "application/vnd.jupyter.widget-view+json": {
       "model_id": "c02b3121c5e245c5a4808c45fa4f0674",
       "version_major": 2,
       "version_minor": 0
      },
      "text/plain": [
       "HBox(children=(FloatProgress(value=0.0, max=254.0), HTML(value='')))"
      ]
     },
     "metadata": {},
     "output_type": "display_data"
    },
    {
     "name": "stdout",
     "output_type": "stream",
     "text": [
      "\n",
      "            previous_1d     EMA_12   willr_14     OBV_7  labels\n",
      "Date                                                           \n",
      "2020-01-22    28.530001  28.293023 -37.946364  -99400.0     2.0\n",
      "2020-01-23    28.459999  28.318711 -34.000015 -272200.0     2.0\n",
      "2020-01-24    28.530001  28.351217 -24.864810   57200.0     2.0\n",
      "2020-01-27    27.820000  28.269492 -63.243234 -160000.0     2.0\n",
      "2020-01-28    27.100000  28.089570 -79.411767 -355200.0     2.0\n",
      "         Date  Close\n",
      "0  2019-12-31  10.76\n",
      "1  2020-01-02  10.97\n",
      "2  2020-01-03  10.30\n",
      "3  2020-01-06   9.92\n",
      "4  2020-01-07  10.22\n",
      "            Close  previous_1d  EMA_12  willr_14      OBV_7\n",
      "Date                                                       \n",
      "2019-12-31  10.76          NaN     NaN       NaN        NaN\n",
      "2020-01-02  10.97        10.76     NaN       NaN   810800.0\n",
      "2020-01-03  10.30        10.97     NaN       NaN  1967400.0\n",
      "2020-01-06   9.92        10.30     NaN       NaN   -23900.0\n",
      "2020-01-07  10.22         9.92     NaN       NaN -1888500.0\n",
      "<class 'pandas.core.frame.DataFrame'>\n",
      "Index: 254 entries, 2019-12-31 to 2020-12-31\n",
      "Data columns (total 5 columns):\n",
      "Close          254 non-null float64\n",
      "previous_1d    253 non-null float64\n",
      "EMA_12         242 non-null float64\n",
      "willr_14       240 non-null float64\n",
      "OBV_7          253 non-null float64\n",
      "dtypes: float64(5)\n",
      "memory usage: 11.9+ KB\n",
      "None\n",
      "Calculating labels\n"
     ]
    },
    {
     "data": {
      "application/vnd.jupyter.widget-view+json": {
       "model_id": "f27440aaf8454fb799751053e3643250",
       "version_major": 2,
       "version_minor": 0
      },
      "text/plain": [
       "HBox(children=(FloatProgress(value=0.0, max=254.0), HTML(value='')))"
      ]
     },
     "metadata": {},
     "output_type": "display_data"
    },
    {
     "name": "stdout",
     "output_type": "stream",
     "text": [
      "\n",
      "            previous_1d    EMA_12   willr_14      OBV_7  labels\n",
      "Date                                                           \n",
      "2020-01-22         9.39  9.715390 -73.059349 -3592400.0     2.0\n",
      "2020-01-23         9.34  9.657637 -75.342463 -4550300.0     2.0\n",
      "2020-01-24         9.50  9.633386 -65.000010 -3092000.0     2.0\n",
      "2020-01-27         9.31  9.583634 -66.883101 -4332600.0     2.0\n",
      "2020-01-28         9.39  9.553844 -61.688301 -2300800.0     2.0\n"
     ]
    }
   ],
   "source": [
    "def compile_data():\n",
    "    with open('small_cyclic_tickers.txt') as f:\n",
    "        tickers = [i.strip() for i in f.readlines()]\n",
    "    \n",
    "    for count,ticker in enumerate(tickers):\n",
    "        df = pd.read_csv('data/cyclic_tickers/initial/{}_test2.csv'.format(ticker))\n",
    "        df  = df.dropna()\n",
    "            \n",
    "        high = df['High'].shift(1).values\n",
    "        low = df['Low'].shift(1).values\n",
    "        close = df['Close'].shift(1).values\n",
    "        volume = df['Volume'].shift(1).values\n",
    "\n",
    "        df.drop(['High','Low','Open','Volume','Adj Close'], 1, inplace=True)\n",
    "        print(df.head())\n",
    "            \n",
    "        df['previous_1d'] = df['Close'].shift(1)\n",
    "\n",
    "\n",
    "        ema = EMA(close, timeperiod=12)\n",
    "        arr = np.array(ema)\n",
    "        df['EMA_12'] = arr\n",
    "\n",
    "\n",
    "        willr = WILLR(high, low, close, timeperiod=14)\n",
    "        arr = np.array(willr)\n",
    "        df['willr_14'] = arr\n",
    "            \n",
    "        obv = OBV(close, volume)\n",
    "        arr = np.array(obv)\n",
    "        df['OBV_7'] = arr\n",
    "\n",
    "        df.set_index('Date', inplace=True)\n",
    "        \n",
    "        print(df.head())\n",
    "        print(df.info())\n",
    "        \n",
    "        labels = create_labels(df, 'Close', 15)\n",
    "        df['labels'] = labels\n",
    "        df.drop(['Close'], 1, inplace=True)\n",
    "        df  = df.dropna()\n",
    "        \n",
    "        print(df.head())\n",
    "        df.to_csv('data/cyclic_tickers/initial_indicators/{}_data_test2.csv'.format(ticker))\n",
    "    \n",
    "compile_data()"
   ]
  },
  {
   "cell_type": "markdown",
   "metadata": {},
   "source": [
    "### Non-cyclic Indicators"
   ]
  },
  {
   "cell_type": "code",
   "execution_count": 15,
   "metadata": {},
   "outputs": [
    {
     "name": "stdout",
     "output_type": "stream",
     "text": [
      "         Date       Close\n",
      "0  2019-01-02  598.979980\n",
      "1  2019-01-03  590.000000\n",
      "2  2019-01-04  602.000000\n",
      "3  2019-01-07  605.489990\n",
      "4  2019-01-08  604.789978\n",
      "                 Close  previous_1d  EMA_12  willr_14       OBV_7\n",
      "Date                                                             \n",
      "2019-01-02  598.979980          NaN     NaN       NaN         NaN\n",
      "2019-01-03  590.000000    598.97998     NaN       NaN   6228649.0\n",
      "2019-01-04  602.000000    590.00000     NaN       NaN   3130914.0\n",
      "2019-01-07  605.489990    602.00000     NaN       NaN   6899261.0\n",
      "2019-01-08  604.789978    605.48999     NaN       NaN  10374274.0\n",
      "<class 'pandas.core.frame.DataFrame'>\n",
      "Index: 242 entries, 2019-01-02 to 2019-12-31\n",
      "Data columns (total 5 columns):\n",
      "Close          242 non-null float64\n",
      "previous_1d    241 non-null float64\n",
      "EMA_12         230 non-null float64\n",
      "willr_14       228 non-null float64\n",
      "OBV_7          241 non-null float64\n",
      "dtypes: float64(5)\n",
      "memory usage: 11.3+ KB\n",
      "None\n",
      "Calculating labels\n"
     ]
    },
    {
     "data": {
      "application/vnd.jupyter.widget-view+json": {
       "model_id": "54b7cf7e39b044cfa3cdd01cd595d8f6",
       "version_major": 2,
       "version_minor": 0
      },
      "text/plain": [
       "HBox(children=(FloatProgress(value=0.0, max=242.0), HTML(value='')))"
      ]
     },
     "metadata": {},
     "output_type": "display_data"
    },
    {
     "name": "stdout",
     "output_type": "stream",
     "text": [
      "\n",
      "            previous_1d      EMA_12   willr_14       OBV_7  labels\n",
      "Date                                                              \n",
      "2019-01-22   686.979980  640.790403 -10.183147  35030093.0     2.0\n",
      "2019-01-23   671.000000  645.438034 -23.857615  30817872.0     2.0\n",
      "2019-01-24   665.659973  648.549101 -28.427209  27455391.0     2.0\n",
      "2019-01-25   672.500000  652.233855 -26.754575  30370918.0     2.0\n",
      "2019-01-28   679.700012  656.459418 -19.452330  33269553.0     2.0\n",
      "         Date       Close\n",
      "0  2018-12-31  203.710007\n",
      "1  2019-01-02  204.759995\n",
      "2  2019-01-03  200.419998\n",
      "3  2019-01-04  206.240005\n",
      "4  2019-01-07  207.000000\n",
      "                 Close  previous_1d  EMA_12  willr_14      OBV_7\n",
      "Date                                                            \n",
      "2018-12-31  203.710007          NaN     NaN       NaN        NaN\n",
      "2019-01-02  204.759995   203.710007     NaN       NaN  1729400.0\n",
      "2019-01-03  200.419998   204.759995     NaN       NaN  3872500.0\n",
      "2019-01-04  206.240005   200.419998     NaN       NaN   994800.0\n",
      "2019-01-07  207.000000   206.240005     NaN       NaN  3756400.0\n",
      "<class 'pandas.core.frame.DataFrame'>\n",
      "Index: 253 entries, 2018-12-31 to 2019-12-31\n",
      "Data columns (total 5 columns):\n",
      "Close          253 non-null float64\n",
      "previous_1d    252 non-null float64\n",
      "EMA_12         241 non-null float64\n",
      "willr_14       239 non-null float64\n",
      "OBV_7          252 non-null float64\n",
      "dtypes: float64(5)\n",
      "memory usage: 11.9+ KB\n",
      "None\n",
      "Calculating labels\n"
     ]
    },
    {
     "data": {
      "application/vnd.jupyter.widget-view+json": {
       "model_id": "5f1594727be040f281964f2f2f387634",
       "version_major": 2,
       "version_minor": 0
      },
      "text/plain": [
       "HBox(children=(FloatProgress(value=0.0, max=253.0), HTML(value='')))"
      ]
     },
     "metadata": {},
     "output_type": "display_data"
    },
    {
     "name": "stdout",
     "output_type": "stream",
     "text": [
      "\n",
      "            previous_1d      EMA_12   willr_14       OBV_7  labels\n",
      "Date                                                              \n",
      "2019-01-22   213.589996  209.068175  -3.983280  13028300.0     2.0\n",
      "2019-01-23   212.399994  209.580763 -20.114611   9717500.0     2.0\n",
      "2019-01-24   212.089996  209.966799 -22.358249   7497300.0     2.0\n",
      "2019-01-25   210.309998  210.019598 -37.207653   5502900.0     1.0\n",
      "2019-01-28   209.070007  209.873507 -53.993244   3250600.0     2.0\n",
      "         Date      Close\n",
      "0  2018-12-31  91.919998\n",
      "1  2019-01-02  91.279999\n",
      "2  2019-01-03  90.639999\n",
      "3  2019-01-04  92.489998\n",
      "4  2019-01-07  92.120003\n",
      "                Close  previous_1d  EMA_12  willr_14       OBV_7\n",
      "Date                                                            \n",
      "2018-12-31  91.919998          NaN     NaN       NaN         NaN\n",
      "2019-01-02  91.279999    91.919998     NaN       NaN   7239500.0\n",
      "2019-01-03  90.639999    91.279999     NaN       NaN  -2604400.0\n",
      "2019-01-04  92.489998    90.639999     NaN       NaN -12424600.0\n",
      "2019-01-07  92.120003    92.489998     NaN       NaN  -1858900.0\n",
      "<class 'pandas.core.frame.DataFrame'>\n",
      "Index: 253 entries, 2018-12-31 to 2019-12-31\n",
      "Data columns (total 5 columns):\n",
      "Close          253 non-null float64\n",
      "previous_1d    252 non-null float64\n",
      "EMA_12         241 non-null float64\n",
      "willr_14       239 non-null float64\n",
      "OBV_7          252 non-null float64\n",
      "dtypes: float64(5)\n",
      "memory usage: 11.9+ KB\n",
      "None\n",
      "Calculating labels\n"
     ]
    },
    {
     "data": {
      "application/vnd.jupyter.widget-view+json": {
       "model_id": "63e72929848a4dee8fce09b65fa4d8ba",
       "version_major": 2,
       "version_minor": 0
      },
      "text/plain": [
       "HBox(children=(FloatProgress(value=0.0, max=253.0), HTML(value='')))"
      ]
     },
     "metadata": {},
     "output_type": "display_data"
    },
    {
     "name": "stdout",
     "output_type": "stream",
     "text": [
      "\n",
      "            previous_1d     EMA_12   willr_14       OBV_7  labels\n",
      "Date                                                             \n",
      "2019-01-22    91.419998  91.455093 -52.848110  -5093000.0     1.0\n",
      "2019-01-23    90.440002  91.298925 -66.084726 -18611500.0     2.0\n",
      "2019-01-24    94.839996  91.843705 -21.418921   4257500.0     2.0\n",
      "2019-01-25    94.300003  92.221597 -28.785813  -7888900.0     2.0\n",
      "2019-01-28    93.599998  92.433659 -38.335668 -18506900.0     2.0\n",
      "         Date      Close\n",
      "0  2019-01-02  49.939999\n",
      "1  2019-01-03  48.959999\n",
      "2  2019-01-04  49.540001\n",
      "3  2019-01-07  49.310001\n",
      "4  2019-01-08  49.020000\n",
      "                Close  previous_1d  EMA_12  willr_14       OBV_7\n",
      "Date                                                            \n",
      "2019-01-02  49.939999          NaN     NaN       NaN         NaN\n",
      "2019-01-03  48.959999    49.939999     NaN       NaN  23226724.0\n",
      "2019-01-04  49.540001    48.959999     NaN       NaN  -4576238.0\n",
      "2019-01-07  49.310001    49.540001     NaN       NaN  19573563.0\n",
      "2019-01-08  49.020000    49.310001     NaN       NaN  -3806130.0\n",
      "<class 'pandas.core.frame.DataFrame'>\n",
      "Index: 242 entries, 2019-01-02 to 2019-12-31\n",
      "Data columns (total 5 columns):\n",
      "Close          242 non-null float64\n",
      "previous_1d    241 non-null float64\n",
      "EMA_12         230 non-null float64\n",
      "willr_14       228 non-null float64\n",
      "OBV_7          241 non-null float64\n",
      "dtypes: float64(5)\n",
      "memory usage: 11.3+ KB\n",
      "None\n",
      "Calculating labels\n"
     ]
    },
    {
     "data": {
      "application/vnd.jupyter.widget-view+json": {
       "model_id": "55af2a725f1f4919aef6fa8e9c022ec4",
       "version_major": 2,
       "version_minor": 0
      },
      "text/plain": [
       "HBox(children=(FloatProgress(value=0.0, max=242.0), HTML(value='')))"
      ]
     },
     "metadata": {},
     "output_type": "display_data"
    },
    {
     "name": "stdout",
     "output_type": "stream",
     "text": [
      "\n",
      "            previous_1d     EMA_12   willr_14       OBV_7  labels\n",
      "Date                                                             \n",
      "2019-01-22    56.000000  51.668614  -4.420537  97514467.0     2.0\n",
      "2019-01-23    55.209999  52.213443 -13.859020  63945311.0     2.0\n",
      "2019-01-24    55.070000  52.652913 -15.531654  43721083.0     2.0\n",
      "2019-01-25    55.200001  53.044773 -15.620808  63080844.0     2.0\n",
      "2019-01-28    55.250000  53.384039 -14.953261  87254847.0     2.0\n",
      "         Date      Close\n",
      "0  2018-12-31  93.150002\n",
      "1  2019-01-02  93.339996\n",
      "2  2019-01-03  92.860001\n",
      "3  2019-01-04  93.440002\n",
      "4  2019-01-07  94.540001\n",
      "                Close  previous_1d  EMA_12  willr_14       OBV_7\n",
      "Date                                                            \n",
      "2018-12-31  93.150002          NaN     NaN       NaN         NaN\n",
      "2019-01-02  93.339996    93.150002     NaN       NaN   7005800.0\n",
      "2019-01-03  92.860001    93.339996     NaN       NaN  15158500.0\n",
      "2019-01-04  93.440002    92.860001     NaN       NaN   6881200.0\n",
      "2019-01-07  94.540001    93.440002     NaN       NaN  14910300.0\n",
      "<class 'pandas.core.frame.DataFrame'>\n",
      "Index: 253 entries, 2018-12-31 to 2019-12-31\n",
      "Data columns (total 5 columns):\n",
      "Close          253 non-null float64\n",
      "previous_1d    252 non-null float64\n",
      "EMA_12         241 non-null float64\n",
      "willr_14       239 non-null float64\n",
      "OBV_7          252 non-null float64\n",
      "dtypes: float64(5)\n",
      "memory usage: 11.9+ KB\n",
      "None\n",
      "Calculating labels\n"
     ]
    },
    {
     "data": {
      "application/vnd.jupyter.widget-view+json": {
       "model_id": "1dc932f4d0e342d384007e9eec102c04",
       "version_major": 2,
       "version_minor": 0
      },
      "text/plain": [
       "HBox(children=(FloatProgress(value=0.0, max=253.0), HTML(value='')))"
      ]
     },
     "metadata": {},
     "output_type": "display_data"
    },
    {
     "name": "stdout",
     "output_type": "stream",
     "text": [
      "\n",
      "            previous_1d     EMA_12   willr_14       OBV_7  labels\n",
      "Date                                                             \n",
      "2019-01-22    97.730003  95.334462  -7.164539  58918700.0     2.0\n",
      "2019-01-23    97.489998  95.666083 -13.843922  50855500.0     0.0\n",
      "2019-01-24    98.709999  96.134378  -9.609606  59201300.0     2.0\n",
      "2019-01-25    98.360001  96.476781 -14.864842  51591600.0     2.0\n",
      "2019-01-28    96.940002  96.548046 -38.683751  44373400.0     2.0\n",
      "         Date  Close\n",
      "0  2018-12-31   4.00\n",
      "1  2019-01-02   4.22\n",
      "2  2019-01-03   4.28\n",
      "3  2019-01-04   4.60\n",
      "4  2019-01-07   4.93\n",
      "            Close  previous_1d  EMA_12  willr_14      OBV_7\n",
      "Date                                                       \n",
      "2018-12-31   4.00          NaN     NaN       NaN        NaN\n",
      "2019-01-02   4.22         4.00     NaN       NaN   948200.0\n",
      "2019-01-03   4.28         4.22     NaN       NaN  1659400.0\n",
      "2019-01-04   4.60         4.28     NaN       NaN  2532700.0\n",
      "2019-01-07   4.93         4.60     NaN       NaN  3538500.0\n",
      "<class 'pandas.core.frame.DataFrame'>\n",
      "Index: 253 entries, 2018-12-31 to 2019-12-31\n",
      "Data columns (total 5 columns):\n",
      "Close          253 non-null float64\n",
      "previous_1d    252 non-null float64\n",
      "EMA_12         241 non-null float64\n",
      "willr_14       239 non-null float64\n",
      "OBV_7          252 non-null float64\n",
      "dtypes: float64(5)\n",
      "memory usage: 11.9+ KB\n",
      "None\n",
      "Calculating labels\n"
     ]
    },
    {
     "data": {
      "application/vnd.jupyter.widget-view+json": {
       "model_id": "64913d935f984fd9b1928e6d6f4519ff",
       "version_major": 2,
       "version_minor": 0
      },
      "text/plain": [
       "HBox(children=(FloatProgress(value=0.0, max=253.0), HTML(value='')))"
      ]
     },
     "metadata": {},
     "output_type": "display_data"
    },
    {
     "name": "stdout",
     "output_type": "stream",
     "text": [
      "\n",
      "            previous_1d    EMA_12   willr_14      OBV_7  labels\n",
      "Date                                                           \n",
      "2019-01-22         5.09  4.742046  -0.840315  6313800.0     2.0\n",
      "2019-01-23         5.00  4.781732  -8.403355  5520600.0     2.0\n",
      "2019-01-24         4.78  4.781465 -35.164808  4872000.0     2.0\n",
      "2019-01-25         5.01  4.816624 -11.111072  6179900.0     0.0\n",
      "2019-01-28         5.10  4.860221  -1.639381  7036300.0     2.0\n",
      "         Date      Close\n",
      "0  2018-12-31  36.799999\n",
      "1  2019-01-02  39.400002\n",
      "2  2019-01-03  40.799999\n",
      "3  2019-01-04  42.799999\n",
      "4  2019-01-07  45.200001\n",
      "                Close  previous_1d  EMA_12  willr_14      OBV_7\n",
      "Date                                                           \n",
      "2018-12-31  36.799999          NaN     NaN       NaN        NaN\n",
      "2019-01-02  39.400002    36.799999     NaN       NaN   311890.0\n",
      "2019-01-03  40.799999    39.400002     NaN       NaN   820635.0\n",
      "2019-01-04  42.799999    40.799999     NaN       NaN  1305730.0\n",
      "2019-01-07  45.200001    42.799999     NaN       NaN  2208210.0\n",
      "<class 'pandas.core.frame.DataFrame'>\n",
      "Index: 253 entries, 2018-12-31 to 2019-12-31\n",
      "Data columns (total 5 columns):\n",
      "Close          253 non-null float64\n",
      "previous_1d    252 non-null float64\n",
      "EMA_12         241 non-null float64\n",
      "willr_14       239 non-null float64\n",
      "OBV_7          252 non-null float64\n",
      "dtypes: float64(5)\n",
      "memory usage: 11.9+ KB\n",
      "None\n",
      "Calculating labels\n"
     ]
    },
    {
     "data": {
      "application/vnd.jupyter.widget-view+json": {
       "model_id": "b6c161b93b874333999bf9d07a146648",
       "version_major": 2,
       "version_minor": 0
      },
      "text/plain": [
       "HBox(children=(FloatProgress(value=0.0, max=253.0), HTML(value='')))"
      ]
     },
     "metadata": {},
     "output_type": "display_data"
    },
    {
     "name": "stdout",
     "output_type": "stream",
     "text": [
      "\n",
      "            previous_1d     EMA_12   willr_14      OBV_7  labels\n",
      "Date                                                            \n",
      "2019-01-22    41.000000  42.251874 -47.761200  1797960.0     1.0\n",
      "2019-01-23    40.400002  41.966970 -52.238800  1452070.0     2.0\n",
      "2019-01-24    41.200001  41.848975 -68.888897  1666265.0     2.0\n",
      "2019-01-25    41.799999  41.841440 -75.675691  1912795.0     2.0\n",
      "2019-01-28    43.799999  42.142757 -48.648670  2352875.0     2.0\n",
      "         Date      Close\n",
      "0  2019-01-02  23.850000\n",
      "1  2019-01-03  23.299999\n",
      "2  2019-01-04  23.450001\n",
      "3  2019-01-07  22.950001\n",
      "4  2019-01-08  23.200001\n",
      "                Close  previous_1d  EMA_12  willr_14       OBV_7\n",
      "Date                                                            \n",
      "2019-01-02  23.850000          NaN     NaN       NaN         NaN\n",
      "2019-01-03  23.299999    23.850000     NaN       NaN   5721207.0\n",
      "2019-01-04  23.450001    23.299999     NaN       NaN  -4195562.0\n",
      "2019-01-07  22.950001    23.450001     NaN       NaN   3167170.0\n",
      "2019-01-08  23.200001    22.950001     NaN       NaN -10633904.0\n",
      "<class 'pandas.core.frame.DataFrame'>\n",
      "Index: 246 entries, 2019-01-02 to 2019-12-31\n",
      "Data columns (total 5 columns):\n",
      "Close          246 non-null float64\n",
      "previous_1d    245 non-null float64\n",
      "EMA_12         234 non-null float64\n",
      "willr_14       232 non-null float64\n",
      "OBV_7          245 non-null float64\n",
      "dtypes: float64(5)\n",
      "memory usage: 11.5+ KB\n",
      "None\n",
      "Calculating labels\n"
     ]
    },
    {
     "data": {
      "application/vnd.jupyter.widget-view+json": {
       "model_id": "8eca3a65f8894545a4771d0773710ef1",
       "version_major": 2,
       "version_minor": 0
      },
      "text/plain": [
       "HBox(children=(FloatProgress(value=0.0, max=246.0), HTML(value='')))"
      ]
     },
     "metadata": {},
     "output_type": "display_data"
    },
    {
     "name": "stdout",
     "output_type": "stream",
     "text": [
      "\n",
      "            previous_1d     EMA_12   willr_14       OBV_7  labels\n",
      "Date                                                             \n",
      "2019-01-22    25.400000  24.604019 -17.647072  30883732.0     2.0\n",
      "2019-01-23    25.150000  24.688016 -25.000014  23763418.0     2.0\n",
      "2019-01-24    25.150000  24.759090 -25.000014  23763418.0     2.0\n",
      "2019-01-25    25.200001  24.826923 -23.529392  32277948.0     2.0\n",
      "2019-01-28    25.250000  24.892012 -22.058826  40237510.0     2.0\n",
      "         Date      Close\n",
      "0  2019-01-02  36.439999\n",
      "1  2019-01-03  36.200001\n",
      "2  2019-01-04  36.990002\n",
      "3  2019-01-07  36.990002\n",
      "4  2019-01-08  36.860001\n",
      "                Close  previous_1d  EMA_12  willr_14       OBV_7\n",
      "Date                                                            \n",
      "2019-01-02  36.439999          NaN     NaN       NaN         NaN\n",
      "2019-01-03  36.200001    36.439999     NaN       NaN  20862411.0\n",
      "2019-01-04  36.990002    36.200001     NaN       NaN   6539068.0\n",
      "2019-01-07  36.990002    36.990002     NaN       NaN  34250900.0\n",
      "2019-01-08  36.860001    36.990002     NaN       NaN  34250900.0\n",
      "<class 'pandas.core.frame.DataFrame'>\n",
      "Index: 242 entries, 2019-01-02 to 2019-12-31\n",
      "Data columns (total 5 columns):\n",
      "Close          242 non-null float64\n",
      "previous_1d    241 non-null float64\n",
      "EMA_12         230 non-null float64\n",
      "willr_14       228 non-null float64\n",
      "OBV_7          241 non-null float64\n",
      "dtypes: float64(5)\n",
      "memory usage: 11.3+ KB\n",
      "None\n",
      "Calculating labels\n"
     ]
    },
    {
     "data": {
      "application/vnd.jupyter.widget-view+json": {
       "model_id": "9654a48ae616472fa483b14fddaf4b2b",
       "version_major": 2,
       "version_minor": 0
      },
      "text/plain": [
       "HBox(children=(FloatProgress(value=0.0, max=242.0), HTML(value='')))"
      ]
     },
     "metadata": {},
     "output_type": "display_data"
    },
    {
     "name": "stdout",
     "output_type": "stream",
     "text": [
      "\n",
      "            previous_1d     EMA_12   willr_14        OBV_7  labels\n",
      "Date                                                              \n",
      "2019-01-22    42.090000  39.647816 -10.142844  258783172.0     2.0\n",
      "2019-01-23    41.299999  39.901998 -21.428571  234314954.0     2.0\n",
      "2019-01-24    41.459999  40.141691 -19.142859  253542262.0     2.0\n",
      "2019-01-25    41.590000  40.364507 -19.706827  275498548.0     2.0\n",
      "2019-01-28    41.900002  40.600737 -14.705848  302253363.0     2.0\n"
     ]
    }
   ],
   "source": [
    "def compile_data():\n",
    "    with open('noncyclic_tickers.txt') as f:\n",
    "        tickers = [i.strip() for i in f.readlines()]\n",
    "    \n",
    "    for count,ticker in enumerate(tickers):\n",
    "        df = pd.read_csv('data/noncyclic_tickers/initial/{}_test.csv'.format(ticker))\n",
    "        df  = df.dropna()\n",
    "            \n",
    "        high = df['High'].shift(1).values\n",
    "        low = df['Low'].shift(1).values\n",
    "        close = df['Close'].shift(1).values\n",
    "        volume = df['Volume'].shift(1).values\n",
    "\n",
    "        df.drop(['High','Low','Open','Volume','Adj Close'], 1, inplace=True)\n",
    "        print(df.head())\n",
    "            \n",
    "        df['previous_1d'] = df['Close'].shift(1)\n",
    "\n",
    "\n",
    "        ema = EMA(close, timeperiod=12)\n",
    "        arr = np.array(ema)\n",
    "        df['EMA_12'] = arr\n",
    "\n",
    "\n",
    "        willr = WILLR(high, low, close, timeperiod=14)\n",
    "        arr = np.array(willr)\n",
    "        df['willr_14'] = arr\n",
    "            \n",
    "        obv = OBV(close, volume)\n",
    "        arr = np.array(obv)\n",
    "        df['OBV_7'] = arr\n",
    "\n",
    "        df.set_index('Date', inplace=True)\n",
    "        \n",
    "        print(df.head())\n",
    "        print(df.info())\n",
    "        \n",
    "        labels = create_labels(df, 'Close', 15)\n",
    "        df['labels'] = labels\n",
    "        df.drop(['Close'], 1, inplace=True)\n",
    "        df  = df.dropna()\n",
    "        \n",
    "        print(df.head())\n",
    "        df.to_csv('data/noncyclic_tickers/initial_indicators/{}_data_test.csv'.format(ticker))\n",
    "    \n",
    "compile_data()"
   ]
  },
  {
   "cell_type": "code",
   "execution_count": 16,
   "metadata": {},
   "outputs": [
    {
     "name": "stdout",
     "output_type": "stream",
     "text": [
      "         Date      Close\n",
      "0  2018-12-31   9.266667\n",
      "1  2019-01-02   9.390476\n",
      "2  2019-01-03   9.466667\n",
      "3  2019-01-04   9.885714\n",
      "4  2019-01-07  10.057143\n",
      "                Close  previous_1d  EMA_12  willr_14      OBV_7\n",
      "Date                                                           \n",
      "2018-12-31   9.266667          NaN     NaN       NaN        NaN\n",
      "2019-01-02   9.390476     9.266667     NaN       NaN  1609545.0\n",
      "2019-01-03   9.466667     9.390476     NaN       NaN  3465945.0\n",
      "2019-01-04   9.885714     9.466667     NaN       NaN  4904655.0\n",
      "2019-01-07  10.057143     9.885714     NaN       NaN  6482595.0\n",
      "<class 'pandas.core.frame.DataFrame'>\n",
      "Index: 253 entries, 2018-12-31 to 2019-12-31\n",
      "Data columns (total 5 columns):\n",
      "Close          253 non-null float64\n",
      "previous_1d    252 non-null float64\n",
      "EMA_12         241 non-null float64\n",
      "willr_14       239 non-null float64\n",
      "OBV_7          252 non-null float64\n",
      "dtypes: float64(5)\n",
      "memory usage: 11.9+ KB\n",
      "None\n",
      "Calculating labels\n"
     ]
    },
    {
     "data": {
      "application/vnd.jupyter.widget-view+json": {
       "model_id": "45fae8d619254ab0bb3f0fd753b14c29",
       "version_major": 2,
       "version_minor": 0
      },
      "text/plain": [
       "HBox(children=(FloatProgress(value=0.0, max=253.0), HTML(value='')))"
      ]
     },
     "metadata": {},
     "output_type": "display_data"
    },
    {
     "name": "stdout",
     "output_type": "stream",
     "text": [
      "\n",
      "            previous_1d     EMA_12   willr_14      OBV_7  labels\n",
      "Date                                                            \n",
      "2019-01-22    10.266667  10.023411 -11.038870  6574050.0     2.0\n",
      "2019-01-23    10.000000  10.019809 -30.201320  5536020.0     2.0\n",
      "2019-01-24     9.885714   9.999179 -49.137968  4541460.0     1.0\n",
      "2019-01-25     9.342857   9.898206 -95.798251  3275370.0     2.0\n",
      "2019-01-28     9.476190   9.833281 -84.033639  4052685.0     2.0\n",
      "         Date      Close\n",
      "0  2018-12-31  28.270000\n",
      "1  2019-01-02  28.320000\n",
      "2  2019-01-03  29.360001\n",
      "3  2019-01-04  29.459999\n",
      "4  2019-01-07  29.850000\n",
      "                Close  previous_1d  EMA_12  willr_14     OBV_7\n",
      "Date                                                          \n",
      "2018-12-31  28.270000          NaN     NaN       NaN       NaN\n",
      "2019-01-02  28.320000    28.270000     NaN       NaN  164200.0\n",
      "2019-01-03  29.360001    28.320000     NaN       NaN  348000.0\n",
      "2019-01-04  29.459999    29.360001     NaN       NaN  598700.0\n",
      "2019-01-07  29.850000    29.459999     NaN       NaN  923700.0\n",
      "<class 'pandas.core.frame.DataFrame'>\n",
      "Index: 253 entries, 2018-12-31 to 2019-12-31\n",
      "Data columns (total 5 columns):\n",
      "Close          253 non-null float64\n",
      "previous_1d    252 non-null float64\n",
      "EMA_12         241 non-null float64\n",
      "willr_14       239 non-null float64\n",
      "OBV_7          252 non-null float64\n",
      "dtypes: float64(5)\n",
      "memory usage: 11.9+ KB\n",
      "None\n",
      "Calculating labels\n"
     ]
    },
    {
     "data": {
      "application/vnd.jupyter.widget-view+json": {
       "model_id": "c33a6dd9524f4295a4c71585fe8aef79",
       "version_major": 2,
       "version_minor": 0
      },
      "text/plain": [
       "HBox(children=(FloatProgress(value=0.0, max=253.0), HTML(value='')))"
      ]
     },
     "metadata": {},
     "output_type": "display_data"
    },
    {
     "name": "stdout",
     "output_type": "stream",
     "text": [
      "\n",
      "            previous_1d     EMA_12   willr_14      OBV_7  labels\n",
      "Date                                                            \n",
      "2019-01-22    30.219999  29.918096 -32.033467  1515700.0     2.0\n",
      "2019-01-23    30.480000  30.004543 -24.791121  1646600.0     2.0\n",
      "2019-01-24    30.459999  30.074613 -28.980936  1528300.0     2.0\n",
      "2019-01-25    30.639999  30.161596 -35.265743  1632300.0     2.0\n",
      "2019-01-28    30.879999  30.272119 -23.671560  1731100.0     2.0\n",
      "         Date      Close\n",
      "0  2018-12-31  47.779999\n",
      "1  2019-01-02  47.779999\n",
      "2  2019-01-03  46.810001\n",
      "3  2019-01-04  48.320000\n",
      "4  2019-01-07  48.099998\n",
      "                Close  previous_1d  EMA_12  willr_14     OBV_7\n",
      "Date                                                          \n",
      "2018-12-31  47.779999          NaN     NaN       NaN       NaN\n",
      "2019-01-02  47.779999    47.779999     NaN       NaN   79700.0\n",
      "2019-01-03  46.810001    47.779999     NaN       NaN   79700.0\n",
      "2019-01-04  48.320000    46.810001     NaN       NaN  -32400.0\n",
      "2019-01-07  48.099998    48.320000     NaN       NaN  153100.0\n",
      "<class 'pandas.core.frame.DataFrame'>\n",
      "Index: 253 entries, 2018-12-31 to 2019-12-31\n",
      "Data columns (total 5 columns):\n",
      "Close          253 non-null float64\n",
      "previous_1d    252 non-null float64\n",
      "EMA_12         241 non-null float64\n",
      "willr_14       239 non-null float64\n",
      "OBV_7          252 non-null float64\n",
      "dtypes: float64(5)\n",
      "memory usage: 11.9+ KB\n",
      "None\n",
      "Calculating labels\n"
     ]
    },
    {
     "data": {
      "application/vnd.jupyter.widget-view+json": {
       "model_id": "841bde004a67464f9ae93e02b4ad3c55",
       "version_major": 2,
       "version_minor": 0
      },
      "text/plain": [
       "HBox(children=(FloatProgress(value=0.0, max=253.0), HTML(value='')))"
      ]
     },
     "metadata": {},
     "output_type": "display_data"
    },
    {
     "name": "stdout",
     "output_type": "stream",
     "text": [
      "\n",
      "            previous_1d     EMA_12   willr_14     OBV_7  labels\n",
      "Date                                                           \n",
      "2019-01-22    49.070000  48.224659 -13.081423  405300.0     2.0\n",
      "2019-01-23    49.160000  48.368558 -17.426317  504800.0     0.0\n",
      "2019-01-24    49.509998  48.544164  -8.042978  572300.0     2.0\n",
      "2019-01-25    48.990002  48.612755 -28.275837  511800.0     2.0\n",
      "2019-01-28    48.669998  48.621561 -46.341539  448900.0     2.0\n"
     ]
    }
   ],
   "source": [
    "def compile_data():\n",
    "    with open('small_noncyclic_tickers.txt') as f:\n",
    "        tickers = [i.strip() for i in f.readlines()]\n",
    "    \n",
    "    for count,ticker in enumerate(tickers):\n",
    "        df = pd.read_csv('data/noncyclic_tickers/initial/{}_test.csv'.format(ticker))\n",
    "        df  = df.dropna()\n",
    "            \n",
    "        high = df['High'].shift(1).values\n",
    "        low = df['Low'].shift(1).values\n",
    "        close = df['Close'].shift(1).values\n",
    "        volume = df['Volume'].shift(1).values\n",
    "\n",
    "        df.drop(['High','Low','Open','Volume','Adj Close'], 1, inplace=True)\n",
    "        print(df.head())\n",
    "            \n",
    "        df['previous_1d'] = df['Close'].shift(1)\n",
    "\n",
    "\n",
    "        ema = EMA(close, timeperiod=12)\n",
    "        arr = np.array(ema)\n",
    "        df['EMA_12'] = arr\n",
    "\n",
    "\n",
    "        willr = WILLR(high, low, close, timeperiod=14)\n",
    "        arr = np.array(willr)\n",
    "        df['willr_14'] = arr\n",
    "            \n",
    "        obv = OBV(close, volume)\n",
    "        arr = np.array(obv)\n",
    "        df['OBV_7'] = arr\n",
    "\n",
    "        df.set_index('Date', inplace=True)\n",
    "        \n",
    "        print(df.head())\n",
    "        print(df.info())\n",
    "        \n",
    "        labels = create_labels(df, 'Close', 15)\n",
    "        df['labels'] = labels\n",
    "        df.drop(['Close'], 1, inplace=True)\n",
    "        df  = df.dropna()\n",
    "        \n",
    "        print(df.head())\n",
    "        df.to_csv('data/noncyclic_tickers/initial_indicators/{}_data_test.csv'.format(ticker))\n",
    "    \n",
    "compile_data()"
   ]
  },
  {
   "cell_type": "code",
   "execution_count": 17,
   "metadata": {},
   "outputs": [
    {
     "name": "stdout",
     "output_type": "stream",
     "text": [
      "         Date        Close\n",
      "0  2020-01-02  1130.000000\n",
      "1  2020-01-03  1078.560059\n",
      "2  2020-01-06  1077.989990\n",
      "3  2020-01-07  1094.530029\n",
      "4  2020-01-08  1088.140015\n",
      "                  Close  previous_1d  EMA_12  willr_14       OBV_7\n",
      "Date                                                              \n",
      "2020-01-02  1130.000000          NaN     NaN       NaN         NaN\n",
      "2020-01-03  1078.560059  1130.000000     NaN       NaN  14809916.0\n",
      "2020-01-06  1077.989990  1078.560059     NaN       NaN   1778038.0\n",
      "2020-01-07  1094.530029  1077.989990     NaN       NaN  -4563440.0\n",
      "2020-01-08  1088.140015  1094.530029     NaN       NaN    221919.0\n",
      "<class 'pandas.core.frame.DataFrame'>\n",
      "Index: 243 entries, 2020-01-02 to 2020-12-31\n",
      "Data columns (total 5 columns):\n",
      "Close          243 non-null float64\n",
      "previous_1d    242 non-null float64\n",
      "EMA_12         231 non-null float64\n",
      "willr_14       229 non-null float64\n",
      "OBV_7          242 non-null float64\n",
      "dtypes: float64(5)\n",
      "memory usage: 11.4+ KB\n",
      "None\n",
      "Calculating labels\n"
     ]
    },
    {
     "data": {
      "application/vnd.jupyter.widget-view+json": {
       "model_id": "5ded64e19478473fbdb2073e19aa141e",
       "version_major": 2,
       "version_minor": 0
      },
      "text/plain": [
       "HBox(children=(FloatProgress(value=0.0, max=243.0), HTML(value='')))"
      ]
     },
     "metadata": {},
     "output_type": "display_data"
    },
    {
     "name": "stdout",
     "output_type": "stream",
     "text": [
      "\n",
      "            previous_1d       EMA_12   willr_14       OBV_7  labels\n",
      "Date                                                               \n",
      "2020-01-22  1075.300049  1097.577291 -89.711935   1200864.0     2.0\n",
      "2020-01-23  1075.510010  1094.182325 -70.779503   4820868.0     2.0\n",
      "2020-02-03  1052.800049  1087.815821 -81.895216   -525975.0     1.0\n",
      "2020-02-04  1003.919983  1074.908769 -83.419991 -12870263.0     2.0\n",
      "2020-02-05  1038.010010  1069.232037 -59.790669  -6607845.0     2.0\n",
      "         Date       Close\n",
      "0  2019-12-31  293.920013\n",
      "1  2020-01-02  291.489990\n",
      "2  2020-01-03  291.730011\n",
      "3  2020-01-06  291.809998\n",
      "4  2020-01-07  291.350006\n",
      "                 Close  previous_1d  EMA_12  willr_14      OBV_7\n",
      "Date                                                            \n",
      "2019-12-31  293.920013          NaN     NaN       NaN        NaN\n",
      "2020-01-02  291.489990   293.920013     NaN       NaN  1550700.0\n",
      "2020-01-03  291.730011   291.489990     NaN       NaN  -552900.0\n",
      "2020-01-06  291.809998   291.730011     NaN       NaN  1373100.0\n",
      "2020-01-07  291.350006   291.809998     NaN       NaN  4028200.0\n",
      "<class 'pandas.core.frame.DataFrame'>\n",
      "Index: 254 entries, 2019-12-31 to 2020-12-31\n",
      "Data columns (total 5 columns):\n",
      "Close          254 non-null float64\n",
      "previous_1d    253 non-null float64\n",
      "EMA_12         242 non-null float64\n",
      "willr_14       240 non-null float64\n",
      "OBV_7          253 non-null float64\n",
      "dtypes: float64(5)\n",
      "memory usage: 11.9+ KB\n",
      "None\n",
      "Calculating labels\n"
     ]
    },
    {
     "data": {
      "application/vnd.jupyter.widget-view+json": {
       "model_id": "59299d8b9c1a4c7185fa3100b15b1711",
       "version_major": 2,
       "version_minor": 0
      },
      "text/plain": [
       "HBox(children=(FloatProgress(value=0.0, max=254.0), HTML(value='')))"
      ]
     },
     "metadata": {},
     "output_type": "display_data"
    },
    {
     "name": "stdout",
     "output_type": "stream",
     "text": [
      "\n",
      "            previous_1d      EMA_12   willr_14       OBV_7  labels\n",
      "Date                                                              \n",
      "2020-01-22   313.260010  299.971481  -0.323570  15568300.0     2.0\n",
      "2020-01-23   311.890015  301.805102  -6.696001  13349400.0     2.0\n",
      "2020-01-24   312.880005  303.508933  -2.726514  14885300.0     2.0\n",
      "2020-01-27   310.510010  304.586022 -14.692083  12899200.0     2.0\n",
      "2020-01-28   309.450012  305.334328 -19.319946  10634100.0     2.0\n",
      "         Date       Close\n",
      "0  2019-12-31  124.900002\n",
      "1  2020-01-02  123.410004\n",
      "2  2020-01-03  122.580002\n",
      "3  2020-01-06  122.750000\n",
      "4  2020-01-07  121.989998\n",
      "                 Close  previous_1d  EMA_12  willr_14       OBV_7\n",
      "Date                                                             \n",
      "2019-12-31  124.900002          NaN     NaN       NaN         NaN\n",
      "2020-01-02  123.410004   124.900002     NaN       NaN   4798900.0\n",
      "2020-01-03  122.580002   123.410004     NaN       NaN  -3331900.0\n",
      "2020-01-06  122.750000   122.580002     NaN       NaN -11302400.0\n",
      "2020-01-07  121.989998   122.750000     NaN       NaN  -4628000.0\n",
      "<class 'pandas.core.frame.DataFrame'>\n",
      "Index: 254 entries, 2019-12-31 to 2020-12-31\n",
      "Data columns (total 5 columns):\n",
      "Close          254 non-null float64\n",
      "previous_1d    253 non-null float64\n",
      "EMA_12         242 non-null float64\n",
      "willr_14       240 non-null float64\n",
      "OBV_7          253 non-null float64\n",
      "dtypes: float64(5)\n",
      "memory usage: 11.9+ KB\n",
      "None\n",
      "Calculating labels\n"
     ]
    },
    {
     "data": {
      "application/vnd.jupyter.widget-view+json": {
       "model_id": "87b0b5f566404424b2bef701170d52ae",
       "version_major": 2,
       "version_minor": 0
      },
      "text/plain": [
       "HBox(children=(FloatProgress(value=0.0, max=254.0), HTML(value='')))"
      ]
     },
     "metadata": {},
     "output_type": "display_data"
    },
    {
     "name": "stdout",
     "output_type": "stream",
     "text": [
      "\n",
      "            previous_1d      EMA_12   willr_14       OBV_7  labels\n",
      "Date                                                              \n",
      "2020-01-22   126.089996  124.609014 -17.704354  17463800.0     2.0\n",
      "2020-01-23   126.309998  124.870704 -13.424174  24860500.0     2.0\n",
      "2020-01-24   124.989998  124.889057 -39.105105  13764000.0     2.0\n",
      "2020-01-27   125.139999  124.927663 -36.257341  23272600.0     2.0\n",
      "2020-01-28   125.690002  125.044946 -25.536028  32611000.0     2.0\n",
      "         Date       Close\n",
      "0  2020-01-02  132.080002\n",
      "1  2020-01-03  130.550003\n",
      "2  2020-01-06  129.199997\n",
      "3  2020-01-07  129.369995\n",
      "4  2020-01-08  128.889999\n",
      "                 Close  previous_1d  EMA_12  willr_14       OBV_7\n",
      "Date                                                             \n",
      "2020-01-02  132.080002          NaN     NaN       NaN         NaN\n",
      "2020-01-03  130.550003   132.080002     NaN       NaN  30667439.0\n",
      "2020-01-06  129.199997   130.550003     NaN       NaN  10198191.0\n",
      "2020-01-07  129.369995   129.199997     NaN       NaN -15738788.0\n",
      "2020-01-08  128.889999   129.369995     NaN       NaN   6589005.0\n",
      "<class 'pandas.core.frame.DataFrame'>\n",
      "Index: 243 entries, 2020-01-02 to 2020-12-31\n",
      "Data columns (total 5 columns):\n",
      "Close          243 non-null float64\n",
      "previous_1d    242 non-null float64\n",
      "EMA_12         231 non-null float64\n",
      "willr_14       229 non-null float64\n",
      "OBV_7          242 non-null float64\n",
      "dtypes: float64(5)\n",
      "memory usage: 11.4+ KB\n",
      "None\n",
      "Calculating labels\n"
     ]
    },
    {
     "data": {
      "application/vnd.jupyter.widget-view+json": {
       "model_id": "17bbfb16743945b7a2257f47c01b5ecb",
       "version_major": 2,
       "version_minor": 0
      },
      "text/plain": [
       "HBox(children=(FloatProgress(value=0.0, max=243.0), HTML(value='')))"
      ]
     },
     "metadata": {},
     "output_type": "display_data"
    },
    {
     "name": "stdout",
     "output_type": "stream",
     "text": [
      "\n",
      "            previous_1d      EMA_12    willr_14       OBV_7  labels\n",
      "Date                                                               \n",
      "2020-01-22   132.619995  134.532144  -69.037983  36658288.0     2.0\n",
      "2020-01-23   131.699997  134.096429  -75.271035  10905237.0     2.0\n",
      "2020-02-03   126.160004  132.875441  -93.486784 -30688431.0     1.0\n",
      "2020-02-04   113.540001  129.900758 -100.000000 -47452331.0     2.0\n",
      "2020-02-05   114.500000  127.531410  -83.732622  23569095.0     2.0\n",
      "         Date       Close\n",
      "0  2019-12-31  118.839996\n",
      "1  2020-01-02  118.940002\n",
      "2  2020-01-03  117.889999\n",
      "3  2020-01-06  117.650002\n",
      "4  2020-01-07  116.559998\n",
      "                 Close  previous_1d  EMA_12  willr_14       OBV_7\n",
      "Date                                                             \n",
      "2019-12-31  118.839996          NaN     NaN       NaN         NaN\n",
      "2020-01-02  118.940002   118.839996     NaN       NaN   4912000.0\n",
      "2020-01-03  117.889999   118.940002     NaN       NaN  11676900.0\n",
      "2020-01-06  117.650002   117.889999     NaN       NaN   6277700.0\n",
      "2020-01-07  116.559998   117.650002     NaN       NaN   -167800.0\n",
      "<class 'pandas.core.frame.DataFrame'>\n",
      "Index: 254 entries, 2019-12-31 to 2020-12-31\n",
      "Data columns (total 5 columns):\n",
      "Close          254 non-null float64\n",
      "previous_1d    253 non-null float64\n",
      "EMA_12         242 non-null float64\n",
      "willr_14       240 non-null float64\n",
      "OBV_7          253 non-null float64\n",
      "dtypes: float64(5)\n",
      "memory usage: 11.9+ KB\n",
      "None\n",
      "Calculating labels\n"
     ]
    },
    {
     "data": {
      "application/vnd.jupyter.widget-view+json": {
       "model_id": "74bd17029c964e38ac981669cb0d4fdb",
       "version_major": 2,
       "version_minor": 0
      },
      "text/plain": [
       "HBox(children=(FloatProgress(value=0.0, max=254.0), HTML(value='')))"
      ]
     },
     "metadata": {},
     "output_type": "display_data"
    },
    {
     "name": "stdout",
     "output_type": "stream",
     "text": [
      "\n",
      "            previous_1d      EMA_12   willr_14       OBV_7  labels\n",
      "Date                                                              \n",
      "2020-01-22   115.589996  116.459043 -80.074504 -17684500.0     2.0\n",
      "2020-01-23   116.099998  116.403805 -70.577262 -12758400.0     2.0\n",
      "2020-01-24   115.809998  116.312450 -69.789236 -17063500.0     2.0\n",
      "2020-01-27   114.370003  116.013612 -94.416205 -21446900.0     2.0\n",
      "2020-01-28   115.860001  115.989979 -34.297465 -14428500.0     2.0\n",
      "         Date  Close\n",
      "0  2019-12-31   3.30\n",
      "1  2020-01-02   3.21\n",
      "2  2020-01-03   2.98\n",
      "3  2020-01-06   3.14\n",
      "4  2020-01-07   3.15\n",
      "            Close  previous_1d  EMA_12  willr_14      OBV_7\n",
      "Date                                                       \n",
      "2019-12-31   3.30          NaN     NaN       NaN        NaN\n",
      "2020-01-02   3.21         3.30     NaN       NaN   835700.0\n",
      "2020-01-03   2.98         3.21     NaN       NaN  -135400.0\n",
      "2020-01-06   3.14         2.98     NaN       NaN -1340400.0\n",
      "2020-01-07   3.15         3.14     NaN       NaN  -242200.0\n",
      "<class 'pandas.core.frame.DataFrame'>\n",
      "Index: 254 entries, 2019-12-31 to 2020-12-31\n",
      "Data columns (total 5 columns):\n",
      "Close          254 non-null float64\n",
      "previous_1d    253 non-null float64\n",
      "EMA_12         242 non-null float64\n",
      "willr_14       240 non-null float64\n",
      "OBV_7          253 non-null float64\n",
      "dtypes: float64(5)\n",
      "memory usage: 11.9+ KB\n",
      "None\n",
      "Calculating labels\n"
     ]
    },
    {
     "data": {
      "application/vnd.jupyter.widget-view+json": {
       "model_id": "c69702cb4ea34db4a5fd4bef922f1a4a",
       "version_major": 2,
       "version_minor": 0
      },
      "text/plain": [
       "HBox(children=(FloatProgress(value=0.0, max=254.0), HTML(value='')))"
      ]
     },
     "metadata": {},
     "output_type": "display_data"
    },
    {
     "name": "stdout",
     "output_type": "stream",
     "text": [
      "\n",
      "            previous_1d    EMA_12   willr_14       OBV_7  labels\n",
      "Date                                                            \n",
      "2020-01-22         3.56  3.271874 -23.750009   7769400.0     2.0\n",
      "2020-01-23         3.44  3.297739 -38.749995   5767800.0     2.0\n",
      "2020-01-24         3.84  3.381164 -22.608698  18081400.0     2.0\n",
      "2020-01-27         4.24  3.513293 -26.285720  42708100.0     0.0\n",
      "2020-01-28         5.32  3.791248 -21.649473  83567200.0     2.0\n",
      "         Date  Close\n",
      "0  2019-12-31   3.98\n",
      "1  2020-01-02   4.49\n",
      "2  2020-01-03   4.44\n",
      "3  2020-01-06   4.58\n",
      "4  2020-01-07   4.57\n",
      "            Close  previous_1d  EMA_12  willr_14      OBV_7\n",
      "Date                                                       \n",
      "2019-12-31   3.98          NaN     NaN       NaN        NaN\n",
      "2020-01-02   4.49         3.98     NaN       NaN  1324900.0\n",
      "2020-01-03   4.44         4.49     NaN       NaN  7449100.0\n",
      "2020-01-06   4.58         4.44     NaN       NaN  5740100.0\n",
      "2020-01-07   4.57         4.58     NaN       NaN  7851800.0\n",
      "<class 'pandas.core.frame.DataFrame'>\n",
      "Index: 254 entries, 2019-12-31 to 2020-12-31\n",
      "Data columns (total 5 columns):\n",
      "Close          254 non-null float64\n",
      "previous_1d    253 non-null float64\n",
      "EMA_12         242 non-null float64\n",
      "willr_14       240 non-null float64\n",
      "OBV_7          253 non-null float64\n",
      "dtypes: float64(5)\n",
      "memory usage: 11.9+ KB\n",
      "None\n",
      "Calculating labels\n"
     ]
    },
    {
     "data": {
      "application/vnd.jupyter.widget-view+json": {
       "model_id": "2ae99853f31f480ab40fba47122a13bc",
       "version_major": 2,
       "version_minor": 0
      },
      "text/plain": [
       "HBox(children=(FloatProgress(value=0.0, max=254.0), HTML(value='')))"
      ]
     },
     "metadata": {},
     "output_type": "display_data"
    },
    {
     "name": "stdout",
     "output_type": "stream",
     "text": [
      "\n",
      "            previous_1d    EMA_12   willr_14        OBV_7  labels\n",
      "Date                                                             \n",
      "2020-01-22         9.82  5.323560  -2.681389   78304500.0     2.0\n",
      "2020-01-23         7.09  5.595320 -45.741321   61383300.0     2.0\n",
      "2020-01-24         7.66  5.912963 -36.750789   78092700.0     2.0\n",
      "2020-01-27         7.80  6.203277 -34.542582   88646300.0     2.0\n",
      "2020-01-28         8.50  6.556619 -23.501575  105388400.0     2.0\n",
      "         Date      Close\n",
      "0  2020-01-02  31.900000\n",
      "1  2020-01-03  31.799999\n",
      "2  2020-01-06  31.350000\n",
      "3  2020-01-07  31.549999\n",
      "4  2020-01-08  31.700001\n",
      "                Close  previous_1d  EMA_12  willr_14      OBV_7\n",
      "Date                                                           \n",
      "2020-01-02  31.900000          NaN     NaN       NaN        NaN\n",
      "2020-01-03  31.799999    31.900000     NaN       NaN  4161362.0\n",
      "2020-01-06  31.350000    31.799999     NaN       NaN -2894111.0\n",
      "2020-01-07  31.549999    31.350000     NaN       NaN -6208996.0\n",
      "2020-01-08  31.700001    31.549999     NaN       NaN   273998.0\n",
      "<class 'pandas.core.frame.DataFrame'>\n",
      "Index: 248 entries, 2020-01-02 to 2020-12-31\n",
      "Data columns (total 5 columns):\n",
      "Close          248 non-null float64\n",
      "previous_1d    247 non-null float64\n",
      "EMA_12         236 non-null float64\n",
      "willr_14       234 non-null float64\n",
      "OBV_7          247 non-null float64\n",
      "dtypes: float64(5)\n",
      "memory usage: 11.6+ KB\n",
      "None\n",
      "Calculating labels\n"
     ]
    },
    {
     "data": {
      "application/vnd.jupyter.widget-view+json": {
       "model_id": "7adc9bec01ff4fc1b3cf596d9bb5b4df",
       "version_major": 2,
       "version_minor": 0
      },
      "text/plain": [
       "HBox(children=(FloatProgress(value=0.0, max=248.0), HTML(value='')))"
      ]
     },
     "metadata": {},
     "output_type": "display_data"
    },
    {
     "name": "stdout",
     "output_type": "stream",
     "text": [
      "\n",
      "            previous_1d     EMA_12   willr_14       OBV_7  labels\n",
      "Date                                                             \n",
      "2020-01-22    31.400000  32.038683 -76.190481   7860404.0     2.0\n",
      "2020-01-23    32.250000  32.071194 -35.714279  18773045.0     2.0\n",
      "2020-01-24    31.700001  32.014087 -61.904714  11978613.0     2.0\n",
      "2020-01-29    31.549999  31.942689 -69.047643   9114170.0     2.0\n",
      "2020-01-30    31.049999  31.805352 -62.903243  -6519723.0     2.0\n",
      "         Date      Close\n",
      "0  2020-01-02  59.750000\n",
      "1  2020-01-03  58.259998\n",
      "2  2020-01-06  57.200001\n",
      "3  2020-01-07  58.049999\n",
      "4  2020-01-08  58.279999\n",
      "                Close  previous_1d  EMA_12  willr_14       OBV_7\n",
      "Date                                                            \n",
      "2020-01-02  59.750000          NaN     NaN       NaN         NaN\n",
      "2020-01-03  58.259998    59.750000     NaN       NaN  34622557.0\n",
      "2020-01-06  57.200001    58.259998     NaN       NaN   7618302.0\n",
      "2020-01-07  58.049999    57.200001     NaN       NaN -21224231.0\n",
      "2020-01-08  58.279999    58.049999     NaN       NaN   1302276.0\n",
      "<class 'pandas.core.frame.DataFrame'>\n",
      "Index: 243 entries, 2020-01-02 to 2020-12-31\n",
      "Data columns (total 5 columns):\n",
      "Close          243 non-null float64\n",
      "previous_1d    242 non-null float64\n",
      "EMA_12         231 non-null float64\n",
      "willr_14       229 non-null float64\n",
      "OBV_7          242 non-null float64\n",
      "dtypes: float64(5)\n",
      "memory usage: 11.4+ KB\n",
      "None\n",
      "Calculating labels\n"
     ]
    },
    {
     "data": {
      "application/vnd.jupyter.widget-view+json": {
       "model_id": "1936ff3a77274508b71e3081158c9b08",
       "version_major": 2,
       "version_minor": 0
      },
      "text/plain": [
       "HBox(children=(FloatProgress(value=0.0, max=243.0), HTML(value='')))"
      ]
     },
     "metadata": {},
     "output_type": "display_data"
    },
    {
     "name": "stdout",
     "output_type": "stream",
     "text": [
      "\n",
      "            previous_1d     EMA_12   willr_14       OBV_7  labels\n",
      "Date                                                             \n",
      "2020-01-22    58.099998  59.163333 -58.000031  68400881.0     2.0\n",
      "2020-01-23    57.480000  58.904359 -70.400009  27240262.0     2.0\n",
      "2020-02-03    55.029999  58.308304 -99.500020 -27633268.0     1.0\n",
      "2020-02-04    50.189999  57.059334 -94.741468 -98139988.0     2.0\n",
      "2020-02-05    52.790001  56.402513 -71.954419 -57726889.0     2.0\n"
     ]
    }
   ],
   "source": [
    "def compile_data():\n",
    "    with open('noncyclic_tickers.txt') as f:\n",
    "        tickers = [i.strip() for i in f.readlines()]\n",
    "    \n",
    "    for count,ticker in enumerate(tickers):\n",
    "        df = pd.read_csv('data/noncyclic_tickers/initial/{}_test2.csv'.format(ticker))\n",
    "        df  = df.dropna()\n",
    "            \n",
    "        high = df['High'].shift(1).values\n",
    "        low = df['Low'].shift(1).values\n",
    "        close = df['Close'].shift(1).values\n",
    "        volume = df['Volume'].shift(1).values\n",
    "\n",
    "        df.drop(['High','Low','Open','Volume','Adj Close'], 1, inplace=True)\n",
    "        print(df.head())\n",
    "            \n",
    "        df['previous_1d'] = df['Close'].shift(1)\n",
    "\n",
    "\n",
    "        ema = EMA(close, timeperiod=12)\n",
    "        arr = np.array(ema)\n",
    "        df['EMA_12'] = arr\n",
    "\n",
    "\n",
    "        willr = WILLR(high, low, close, timeperiod=14)\n",
    "        arr = np.array(willr)\n",
    "        df['willr_14'] = arr\n",
    "            \n",
    "        obv = OBV(close, volume)\n",
    "        arr = np.array(obv)\n",
    "        df['OBV_7'] = arr\n",
    "\n",
    "        df.set_index('Date', inplace=True)\n",
    "        \n",
    "        print(df.head())\n",
    "        print(df.info())\n",
    "        \n",
    "        labels = create_labels(df, 'Close', 15)\n",
    "        df['labels'] = labels\n",
    "        df.drop(['Close'], 1, inplace=True)\n",
    "        df  = df.dropna()\n",
    "        \n",
    "        print(df.head())\n",
    "        df.to_csv('data/noncyclic_tickers/initial_indicators/{}_data_test2.csv'.format(ticker))\n",
    "    \n",
    "compile_data()"
   ]
  },
  {
   "cell_type": "code",
   "execution_count": 18,
   "metadata": {},
   "outputs": [
    {
     "name": "stdout",
     "output_type": "stream",
     "text": [
      "         Date  Close\n",
      "0  2019-12-31  13.39\n",
      "1  2020-01-02  13.33\n",
      "2  2020-01-03  13.44\n",
      "3  2020-01-06  13.37\n",
      "4  2020-01-07  13.27\n",
      "            Close  previous_1d  EMA_12  willr_14      OBV_7\n",
      "Date                                                       \n",
      "2019-12-31  13.39          NaN     NaN       NaN        NaN\n",
      "2020-01-02  13.33        13.39     NaN       NaN  1250800.0\n",
      "2020-01-03  13.44        13.33     NaN       NaN   334500.0\n",
      "2020-01-06  13.37        13.44     NaN       NaN  1466700.0\n",
      "2020-01-07  13.27        13.37     NaN       NaN   554500.0\n",
      "<class 'pandas.core.frame.DataFrame'>\n",
      "Index: 254 entries, 2019-12-31 to 2020-12-31\n",
      "Data columns (total 5 columns):\n",
      "Close          254 non-null float64\n",
      "previous_1d    253 non-null float64\n",
      "EMA_12         242 non-null float64\n",
      "willr_14       240 non-null float64\n",
      "OBV_7          253 non-null float64\n",
      "dtypes: float64(5)\n",
      "memory usage: 11.9+ KB\n",
      "None\n",
      "Calculating labels\n"
     ]
    },
    {
     "data": {
      "application/vnd.jupyter.widget-view+json": {
       "model_id": "12f1a502cfe34582b1f92b7536e48693",
       "version_major": 2,
       "version_minor": 0
      },
      "text/plain": [
       "HBox(children=(FloatProgress(value=0.0, max=254.0), HTML(value='')))"
      ]
     },
     "metadata": {},
     "output_type": "display_data"
    },
    {
     "name": "stdout",
     "output_type": "stream",
     "text": [
      "\n",
      "            previous_1d     EMA_12   willr_14      OBV_7  labels\n",
      "Date                                                            \n",
      "2020-01-22        13.31  13.389788 -66.666578  -235000.0     2.0\n",
      "2020-01-23        13.31  13.377513 -66.666578  -235000.0     2.0\n",
      "2020-01-24        13.25  13.357896 -74.999967 -1121000.0     2.0\n",
      "2020-01-27        13.25  13.341296 -73.972644 -1121000.0     1.0\n",
      "2020-01-28        13.14  13.310328 -89.041099 -1977700.0     2.0\n",
      "         Date      Close\n",
      "0  2019-12-31  34.980000\n",
      "1  2020-01-02  34.419998\n",
      "2  2020-01-03  34.570000\n",
      "3  2020-01-06  34.259998\n",
      "4  2020-01-07  33.930000\n",
      "                Close  previous_1d  EMA_12  willr_14     OBV_7\n",
      "Date                                                          \n",
      "2019-12-31  34.980000          NaN     NaN       NaN       NaN\n",
      "2020-01-02  34.419998    34.980000     NaN       NaN  129400.0\n",
      "2020-01-03  34.570000    34.419998     NaN       NaN  -55900.0\n",
      "2020-01-06  34.259998    34.570000     NaN       NaN  112500.0\n",
      "2020-01-07  33.930000    34.259998     NaN       NaN  -34800.0\n",
      "<class 'pandas.core.frame.DataFrame'>\n",
      "Index: 254 entries, 2019-12-31 to 2020-12-31\n",
      "Data columns (total 5 columns):\n",
      "Close          254 non-null float64\n",
      "previous_1d    253 non-null float64\n",
      "EMA_12         242 non-null float64\n",
      "willr_14       240 non-null float64\n",
      "OBV_7          253 non-null float64\n",
      "dtypes: float64(5)\n",
      "memory usage: 11.9+ KB\n",
      "None\n",
      "Calculating labels\n"
     ]
    },
    {
     "data": {
      "application/vnd.jupyter.widget-view+json": {
       "model_id": "e52de46f3cfd4faba1a5f44b351b180c",
       "version_major": 2,
       "version_minor": 0
      },
      "text/plain": [
       "HBox(children=(FloatProgress(value=0.0, max=254.0), HTML(value='')))"
      ]
     },
     "metadata": {},
     "output_type": "display_data"
    },
    {
     "name": "stdout",
     "output_type": "stream",
     "text": [
      "\n",
      "            previous_1d     EMA_12   willr_14     OBV_7  labels\n",
      "Date                                                           \n",
      "2020-01-22    34.250000  34.338683 -60.666656  -55800.0     2.0\n",
      "2020-01-23    34.130001  34.306578 -67.360995 -191000.0     2.0\n",
      "2020-01-24    34.520000  34.339413 -36.764689   18500.0     2.0\n",
      "2020-01-27    32.290001  34.024118 -98.555924 -130500.0     2.0\n",
      "2020-01-28    32.160000  33.737331 -85.885906 -280200.0     2.0\n",
      "         Date      Close\n",
      "0  2019-12-31  40.490002\n",
      "1  2020-01-02  40.380001\n",
      "2  2020-01-03  40.439999\n",
      "3  2020-01-06  40.560001\n",
      "4  2020-01-07  40.669998\n",
      "                Close  previous_1d  EMA_12  willr_14    OBV_7\n",
      "Date                                                         \n",
      "2019-12-31  40.490002          NaN     NaN       NaN      NaN\n",
      "2020-01-02  40.380001    40.490002     NaN       NaN  61400.0\n",
      "2020-01-03  40.439999    40.380001     NaN       NaN -93700.0\n",
      "2020-01-06  40.560001    40.439999     NaN       NaN -40000.0\n",
      "2020-01-07  40.669998    40.560001     NaN       NaN   9800.0\n",
      "<class 'pandas.core.frame.DataFrame'>\n",
      "Index: 254 entries, 2019-12-31 to 2020-12-31\n",
      "Data columns (total 5 columns):\n",
      "Close          254 non-null float64\n",
      "previous_1d    253 non-null float64\n",
      "EMA_12         242 non-null float64\n",
      "willr_14       240 non-null float64\n",
      "OBV_7          253 non-null float64\n",
      "dtypes: float64(5)\n",
      "memory usage: 11.9+ KB\n",
      "None\n",
      "Calculating labels\n"
     ]
    },
    {
     "data": {
      "application/vnd.jupyter.widget-view+json": {
       "model_id": "ffecb37266d54e17bc06295e2924ad7f",
       "version_major": 2,
       "version_minor": 0
      },
      "text/plain": [
       "HBox(children=(FloatProgress(value=0.0, max=254.0), HTML(value='')))"
      ]
     },
     "metadata": {},
     "output_type": "display_data"
    },
    {
     "name": "stdout",
     "output_type": "stream",
     "text": [
      "\n",
      "            previous_1d     EMA_12   willr_14     OBV_7  labels\n",
      "Date                                                           \n",
      "2020-01-22    39.040001  39.868363 -83.196718 -130400.0     2.0\n",
      "2020-01-23    39.029999  39.739384 -83.606642 -174700.0     2.0\n",
      "2020-01-24    39.230000  39.661017 -74.493896  -97200.0     2.0\n",
      "2020-01-27    38.639999  39.503937 -94.186131 -150700.0     2.0\n",
      "2020-01-28    38.790001  39.394101 -82.310412 -107000.0     2.0\n"
     ]
    }
   ],
   "source": [
    "def compile_data():\n",
    "    with open('small_noncyclic_tickers.txt') as f:\n",
    "        tickers = [i.strip() for i in f.readlines()]\n",
    "    \n",
    "    for count,ticker in enumerate(tickers):\n",
    "        df = pd.read_csv('data/noncyclic_tickers/initial/{}_test2.csv'.format(ticker))\n",
    "        df  = df.dropna()\n",
    "            \n",
    "        high = df['High'].shift(1).values\n",
    "        low = df['Low'].shift(1).values\n",
    "        close = df['Close'].shift(1).values\n",
    "        volume = df['Volume'].shift(1).values\n",
    "\n",
    "        df.drop(['High','Low','Open','Volume','Adj Close'], 1, inplace=True)\n",
    "        print(df.head())\n",
    "            \n",
    "        df['previous_1d'] = df['Close'].shift(1)\n",
    "\n",
    "\n",
    "        ema = EMA(close, timeperiod=12)\n",
    "        arr = np.array(ema)\n",
    "        df['EMA_12'] = arr\n",
    "\n",
    "\n",
    "        willr = WILLR(high, low, close, timeperiod=14)\n",
    "        arr = np.array(willr)\n",
    "        df['willr_14'] = arr\n",
    "            \n",
    "        obv = OBV(close, volume)\n",
    "        arr = np.array(obv)\n",
    "        df['OBV_7'] = arr\n",
    "\n",
    "        df.set_index('Date', inplace=True)\n",
    "        \n",
    "        print(df.head())\n",
    "        print(df.info())\n",
    "        \n",
    "        labels = create_labels(df, 'Close', 15)\n",
    "        df['labels'] = labels\n",
    "        df.drop(['Close'], 1, inplace=True)\n",
    "        df  = df.dropna()\n",
    "        \n",
    "        print(df.head())\n",
    "        df.to_csv('data/noncyclic_tickers/initial_indicators/{}_data_test2.csv'.format(ticker))\n",
    "    \n",
    "compile_data()"
   ]
  },
  {
   "cell_type": "markdown",
   "metadata": {},
   "source": [
    "## Normalize indicators"
   ]
  },
  {
   "cell_type": "code",
   "execution_count": 19,
   "metadata": {},
   "outputs": [],
   "source": [
    "import pandas as pd\n",
    "from sklearn import preprocessing"
   ]
  },
  {
   "cell_type": "code",
   "execution_count": 20,
   "metadata": {},
   "outputs": [
    {
     "name": "stdout",
     "output_type": "stream",
     "text": [
      "            previous_1d    EMA_12  willr_14     OBV_7  labels\n",
      "Date                                                         \n",
      "2019-01-21     0.597316  0.604427  0.672414  0.717942     2.0\n",
      "2019-01-22     0.624161  0.616978  0.741380  0.751745     2.0\n",
      "2019-01-23     0.610738  0.624841  0.706896  0.726394     1.0\n",
      "2019-01-24     0.536913  0.616329  0.517242  0.688190     2.0\n",
      "2019-01-25     0.697987  0.642214  0.911111  0.767343     2.0\n",
      "            previous_1d    EMA_12  willr_14     OBV_7  labels\n",
      "Date                                                         \n",
      "2019-01-22     0.144204  0.000000  0.966804  0.332474     2.0\n",
      "2019-01-23     0.102166  0.007791  0.777985  0.278751     2.0\n",
      "2019-01-24     0.095541  0.013220  0.725023  0.240554     2.0\n",
      "2019-01-25     0.097070  0.018082  0.667724  0.276079     2.0\n",
      "2019-01-28     0.113631  0.025104  0.756521  0.321266     2.0\n",
      "            previous_1d    EMA_12  willr_14     OBV_7  labels\n",
      "Date                                                         \n",
      "2019-01-22     0.368636  0.122480  0.956647  0.690730     2.0\n",
      "2019-01-23     0.311814  0.143953  0.838558  0.649772     2.0\n",
      "2019-01-24     0.317720  0.163295  0.850833  0.677397     2.0\n",
      "2019-01-25     0.314892  0.179100  0.824556  0.650939     2.0\n",
      "2019-01-28     0.364226  0.202278  0.930369  0.681027     2.0\n",
      "            previous_1d    EMA_12  willr_14     OBV_7  labels\n",
      "Date                                                         \n",
      "2019-01-21     0.760736  0.693262  0.891304  0.486244     2.0\n",
      "2019-01-22     0.748466  0.719310  0.860215  0.454598     2.0\n",
      "2019-01-23     0.607362  0.712317  0.612903  0.416521     1.0\n",
      "2019-01-24     0.533742  0.691251  0.483871  0.357365     2.0\n",
      "2019-01-25     0.552147  0.677214  0.196428  0.398083     2.0\n",
      "            previous_1d    EMA_12  willr_14     OBV_7  labels\n",
      "Date                                                         \n",
      "2019-01-22     0.470207  0.392165  0.883721  0.151053     2.0\n",
      "2019-01-23     0.376943  0.398171  0.572815  0.109557     2.0\n",
      "2019-01-24     0.362694  0.400291  0.519417  0.065665     2.0\n",
      "2019-01-25     0.414508  0.412859  0.713592  0.117794     2.0\n",
      "2019-01-28     0.483161  0.437772  0.904977  0.207693     2.0\n",
      "            previous_1d    EMA_12  willr_14     OBV_7  labels\n",
      "Date                                                         \n",
      "2019-01-22     0.531707  0.354893  0.968992  0.731877     2.0\n",
      "2019-01-23     0.487805  0.372489  0.866531  0.701028     2.0\n",
      "2019-01-24     0.409756  0.372858  0.658915  0.658007     2.0\n",
      "2019-01-25     0.453659  0.381338  0.618787  0.694692     2.0\n",
      "2019-01-28     0.517073  0.400311  0.879617  0.735705     2.0\n",
      "            previous_1d    EMA_12  willr_14     OBV_7  labels\n",
      "Date                                                         \n",
      "2019-01-22     0.751938  0.660059  1.000000  0.740965     2.0\n",
      "2019-01-23     0.720930  0.679525  0.891305  0.699061     2.0\n",
      "2019-01-24     0.736434  0.698805  0.933334  0.734387     2.0\n",
      "2019-01-25     0.751938  0.717926  0.971429  0.768669     2.0\n",
      "2019-01-28     0.852713  0.752355  0.959184  0.837321     2.0\n"
     ]
    }
   ],
   "source": [
    "# normalize all data columns \n",
    "\n",
    "with open('cyclic_tickers.txt') as f:\n",
    "    tickers = [i.strip() for i in f.readlines()]\n",
    "    \n",
    "for count,ticker in enumerate(tickers):\n",
    "    df = pd.read_csv('data/cyclic_tickers/initial_indicators/{}_data_test.csv'.format(ticker))\n",
    "    df  = df.dropna()\n",
    "    \n",
    "    df.set_index('Date', inplace=True)\n",
    "    df_target = pd.DataFrame(df['labels'])\n",
    "    df.drop(['labels'], axis='columns', inplace=True)\n",
    "    x = df.values #returns a numpy array\n",
    "    min_max_scaler = preprocessing.MinMaxScaler()\n",
    "    x_scaled = min_max_scaler.fit_transform(x)\n",
    "    df = pd.DataFrame(x_scaled, columns = df.columns, index=df.index)\n",
    "    df_normalized = pd.concat([df,df_target],axis=1)\n",
    "    print(df_normalized.head())\n",
    "    \n",
    "    df_normalized.to_csv('data/cyclic_tickers/normalized/{}_data_test.csv'.format(ticker))"
   ]
  },
  {
   "cell_type": "code",
   "execution_count": 21,
   "metadata": {},
   "outputs": [
    {
     "name": "stdout",
     "output_type": "stream",
     "text": [
      "            previous_1d    EMA_12  willr_14     OBV_7  labels\n",
      "Date                                                         \n",
      "2019-01-22     0.037529  0.000000  0.897799  0.354655     2.0\n",
      "2019-01-23     0.009400  0.008046  0.760557  0.289423     2.0\n",
      "2019-01-24     0.000000  0.013432  0.714695  0.237350     2.0\n",
      "2019-01-25     0.012040  0.019811  0.731482  0.282501     2.0\n",
      "2019-01-28     0.024714  0.027126  0.804770  0.327390     2.0\n",
      "            previous_1d    EMA_12  willr_14     OBV_7  labels\n",
      "Date                                                         \n",
      "2019-01-22     0.059922  0.000000  0.960325  0.109214     2.0\n",
      "2019-01-23     0.047712  0.005514  0.791379  0.072234     2.0\n",
      "2019-01-24     0.044531  0.009667  0.767881  0.047434     2.0\n",
      "2019-01-25     0.026267  0.010235  0.612361  0.025158     1.0\n",
      "2019-01-28     0.013544  0.008663  0.436563  0.000000     2.0\n",
      "            previous_1d    EMA_12  willr_14     OBV_7  labels\n",
      "Date                                                         \n",
      "2019-01-22     0.027904  0.004723  0.464988  0.086496     1.0\n",
      "2019-01-23     0.000000  0.000000  0.330591  0.036051     2.0\n",
      "2019-01-24     0.125285  0.016476  0.784103  0.121388     2.0\n",
      "2019-01-25     0.109909  0.027905  0.709304  0.076063     2.0\n",
      "2019-01-28     0.089977  0.034319  0.612340  0.036441     2.0\n",
      "            previous_1d    EMA_12  willr_14     OBV_7  labels\n",
      "Date                                                         \n",
      "2019-01-22     0.010712  0.000000  0.955795  0.047865     2.0\n",
      "2019-01-23     0.001613  0.006397  0.861410  0.017995     2.0\n",
      "2019-01-24     0.000000  0.011556  0.844683  0.000000     2.0\n",
      "2019-01-25     0.001497  0.016157  0.843792  0.017226     2.0\n",
      "2019-01-28     0.002073  0.020140  0.850467  0.038736     2.0\n",
      "            previous_1d    EMA_12  willr_14     OBV_7  labels\n",
      "Date                                                         \n",
      "2019-01-22     0.141138  0.000000  0.929013  0.119000     2.0\n",
      "2019-01-23     0.132385  0.013531  0.861464  0.081769     0.0\n",
      "2019-01-24     0.176878  0.032638  0.904286  0.120304     2.0\n",
      "2019-01-25     0.164114  0.046609  0.851140  0.085168     2.0\n",
      "2019-01-28     0.112327  0.049517  0.610259  0.051839     2.0\n",
      "            previous_1d    EMA_12  willr_14     OBV_7  labels\n",
      "Date                                                         \n",
      "2019-01-22     0.996805  0.944236  1.000000  0.971582     2.0\n",
      "2019-01-23     0.968051  0.958526  0.923183  0.940383     2.0\n",
      "2019-01-24     0.897764  0.958430  0.651370  0.914872     2.0\n",
      "2019-01-25     0.971246  0.971090  0.895681  0.966315     0.0\n",
      "2019-01-28     1.000000  0.986789  0.991884  1.000000     2.0\n",
      "            previous_1d    EMA_12  willr_14     OBV_7  labels\n",
      "Date                                                         \n",
      "2019-01-22     0.865460  0.937030  0.522388  0.945691     1.0\n",
      "2019-01-23     0.851543  0.930062  0.477612  0.933497     2.0\n",
      "2019-01-24     0.870100  0.927176  0.311111  0.941048     2.0\n",
      "2019-01-25     0.884018  0.926992  0.243243  0.949739     2.0\n",
      "2019-01-28     0.930411  0.934361  0.513513  0.965252     2.0\n",
      "            previous_1d    EMA_12  willr_14     OBV_7  labels\n",
      "Date                                                         \n",
      "2019-01-22     0.174359  0.029244  0.819425  0.247816     2.0\n",
      "2019-01-23     0.148718  0.040161  0.744186  0.218593     2.0\n",
      "2019-01-24     0.148718  0.049398  0.744186  0.218593     2.0\n",
      "2019-01-25     0.153846  0.058213  0.759234  0.253538     2.0\n",
      "2019-01-28     0.158974  0.066672  0.774282  0.286205     2.0\n",
      "            previous_1d    EMA_12  willr_14     OBV_7  labels\n",
      "Date                                                         \n",
      "2019-01-22     0.042611  0.000000  0.897509  0.024071     2.0\n",
      "2019-01-23     0.000000  0.014302  0.783469  0.000000     2.0\n",
      "2019-01-24     0.008630  0.027788  0.806565  0.018915     2.0\n",
      "2019-01-25     0.015642  0.040325  0.800867  0.040515     2.0\n",
      "2019-01-28     0.032363  0.053617  0.851400  0.066836     2.0\n"
     ]
    }
   ],
   "source": [
    "# normalize all data columns \n",
    "\n",
    "with open('noncyclic_tickers.txt') as f:\n",
    "    tickers = [i.strip() for i in f.readlines()]\n",
    "    \n",
    "for count,ticker in enumerate(tickers):\n",
    "    df = pd.read_csv('data/noncyclic_tickers/initial_indicators/{}_data_test.csv'.format(ticker))\n",
    "    df  = df.dropna()\n",
    "    \n",
    "    df.set_index('Date', inplace=True)\n",
    "    df_target = pd.DataFrame(df['labels'])\n",
    "    df.drop(['labels'], axis='columns', inplace=True)\n",
    "    x = df.values #returns a numpy array\n",
    "    min_max_scaler = preprocessing.MinMaxScaler()\n",
    "    x_scaled = min_max_scaler.fit_transform(x)\n",
    "    df = pd.DataFrame(x_scaled, columns = df.columns, index=df.index)\n",
    "    df_normalized = pd.concat([df,df_target],axis=1)\n",
    "    print(df_normalized.head())\n",
    "    \n",
    "    df_normalized.to_csv('data/noncyclic_tickers/normalized/{}_data_test.csv'.format(ticker))"
   ]
  }
 ],
 "metadata": {
  "kernelspec": {
   "display_name": "Python 3",
   "language": "python",
   "name": "python3"
  },
  "language_info": {
   "codemirror_mode": {
    "name": "ipython",
    "version": 3
   },
   "file_extension": ".py",
   "mimetype": "text/x-python",
   "name": "python",
   "nbconvert_exporter": "python",
   "pygments_lexer": "ipython3",
   "version": "3.8.3"
  }
 },
 "nbformat": 4,
 "nbformat_minor": 4
}
