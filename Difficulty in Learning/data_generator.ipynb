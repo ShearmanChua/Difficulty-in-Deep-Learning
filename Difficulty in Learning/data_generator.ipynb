{
 "cells": [
  {
   "cell_type": "code",
   "execution_count": 8,
   "metadata": {},
   "outputs": [],
   "source": [
    "import pandas_datareader.data as web\n",
    "import pandas as pd\n",
    "import numpy as np\n",
    "from talib import RSI, BBANDS,WILLR,WMA,SMA,EMA,TEMA,KAMA,CCI,CMO,MACD,PPO,ROC,APO,DX,MOM,STOCH,AROON,ADX,OBV\n",
    "import matplotlib.pyplot as plt\n",
    "import requests\n",
    "import lxml\n",
    "import datetime as dt\n",
    "import os\n"
   ]
  },
  {
   "cell_type": "markdown",
   "metadata": {},
   "source": [
    "## retrieve stock tickers data"
   ]
  },
  {
   "cell_type": "markdown",
   "metadata": {},
   "source": [
    "### Cyclic tickers"
   ]
  },
  {
   "cell_type": "code",
   "execution_count": 14,
   "metadata": {},
   "outputs": [
    {
     "name": "stdout",
     "output_type": "stream",
     "text": [
      "C6L.SI\n",
      "Already have C6L.SI\n",
      "JPM\n",
      "Already have JPM\n",
      "BA\n",
      "Already have BA\n",
      "O39.SI\n",
      "Already have O39.SI\n",
      "600104.SS\n",
      "0883.HK\n",
      "1398.HK\n"
     ]
    }
   ],
   "source": [
    "#use saved tickers in txt file to get the data of STI stocks from yahoo\n",
    "\n",
    "def get_data_from_yahoo():\n",
    "    \n",
    "    with open('cyclic_tickers.txt') as f:\n",
    "        tickers = [i.strip() for i in f.readlines()]\n",
    "        \n",
    "    if not os.path.exists('data/cyclic_tickers/initial'):\n",
    "        os.makedirs('data/cyclic_tickers/initial')\n",
    "        \n",
    "    start = dt.datetime(2000,1,1)\n",
    "    end = dt.datetime(2020,1,1)\n",
    "    \n",
    "    for ticker in tickers:\n",
    "        print(ticker)\n",
    "        if not os.path.exists('data/cyclic_tickers/initial/{}.csv'.format(ticker)):\n",
    "            df = web.DataReader(ticker,'yahoo',start,end)\n",
    "            df.to_csv('data/cyclic_tickers/initial/{}.csv'.format(ticker))\n",
    "        else:\n",
    "            print('Already have {}'.format(ticker))\n",
    "            \n",
    "get_data_from_yahoo()"
   ]
  },
  {
   "cell_type": "markdown",
   "metadata": {},
   "source": [
    "### Non-Cyclic tickers"
   ]
  },
  {
   "cell_type": "code",
   "execution_count": 9,
   "metadata": {},
   "outputs": [
    {
     "name": "stdout",
     "output_type": "stream",
     "text": [
      "600519.SS\n",
      "Already have 600519.SS\n",
      "COST\n",
      "Already have COST\n",
      "PG\n",
      "Already have PG\n",
      "000858.SZ\n",
      "Already have 000858.SZ\n",
      "WMT\n",
      "Already have WMT\n",
      "INO\n",
      "Already have INO\n",
      "NVAX\n",
      "Already have NVAX\n",
      "2319.HK\n",
      "Already have 2319.HK\n",
      "000333.SZ\n",
      "Already have 000333.SZ\n"
     ]
    }
   ],
   "source": [
    "#use saved tickers in txt file to get the data of STI stocks from yahoo\n",
    "\n",
    "def get_data_from_yahoo():\n",
    "    \n",
    "    with open('noncyclic_tickers.txt') as f:\n",
    "        tickers = [i.strip() for i in f.readlines()]\n",
    "        \n",
    "    if not os.path.exists('data/noncyclic_tickers/initial'):\n",
    "        os.makedirs('data/noncyclic_tickers/initial')\n",
    "        \n",
    "    start = dt.datetime(2000,1,1)\n",
    "    end = dt.datetime(2020,1,1)\n",
    "    \n",
    "    for ticker in tickers:\n",
    "        print(ticker)\n",
    "        if not os.path.exists('data/noncyclic_tickers/initial/{}.csv'.format(ticker)):\n",
    "            df = web.DataReader(ticker,'yahoo',start,end)\n",
    "            df.to_csv('data/noncyclic_tickers/initial/{}.csv'.format(ticker))\n",
    "        else:\n",
    "            print('Already have {}'.format(ticker))\n",
    "            \n",
    "get_data_from_yahoo()"
   ]
  },
  {
   "cell_type": "code",
   "execution_count": null,
   "metadata": {},
   "outputs": [],
   "source": []
  },
  {
   "cell_type": "markdown",
   "metadata": {},
   "source": [
    "## Function to create labels"
   ]
  },
  {
   "cell_type": "code",
   "execution_count": 16,
   "metadata": {},
   "outputs": [],
   "source": [
    "import os\n",
    "import re\n",
    "from operator import itemgetter\n",
    "\n",
    "import pandas as pd\n",
    "import pickle\n",
    "import numpy as np\n",
    "from sklearn.feature_selection import SelectKBest, f_classif, mutual_info_classif\n",
    "from sklearn.model_selection import train_test_split\n",
    "from sklearn.preprocessing import MinMaxScaler, OneHotEncoder\n",
    "from sklearn.utils import compute_class_weight\n",
    "from tqdm.auto import tqdm\n",
    "\n",
    "def create_labels(df, col_name, window_size=15):\n",
    "        \"\"\"\n",
    "        Data is labeled as per the logic in research paper\n",
    "        Label code : BUY => 1, SELL => 0, HOLD => 2\n",
    "        params :\n",
    "            df => Dataframe with data\n",
    "            col_name => name of column which should be used to determine strategy\n",
    "        returns : numpy array with integer codes for labels with\n",
    "                  size = total-(window_size)+1\n",
    "        \"\"\"\n",
    "        row_counter = 0\n",
    "        total_rows = len(df)\n",
    "        labels = np.zeros(total_rows)\n",
    "        labels[:] = np.nan\n",
    "        print(\"Calculating labels\")\n",
    "        pbar = tqdm(total=total_rows)\n",
    "\n",
    "        while row_counter < total_rows:\n",
    "            if row_counter >= window_size - 1:\n",
    "                window_begin = row_counter - (window_size - 1)\n",
    "                window_end = row_counter\n",
    "                window_middle = (window_begin + window_end) / 2\n",
    "                window_middle = int(window_middle)\n",
    "\n",
    "                min_ = np.inf\n",
    "                min_index = -1\n",
    "                max_ = -np.inf\n",
    "                max_index = -1\n",
    "                for i in range(window_begin, window_end + 1):\n",
    "                    price = df.iloc[i][col_name]\n",
    "                    if price < min_:\n",
    "                        min_ = price\n",
    "                        min_index = i\n",
    "                    if price > max_:\n",
    "                        max_ = price\n",
    "                        max_index = i\n",
    "                        \n",
    "                end_price = df.iloc[window_end][col_name]\n",
    "                mid_price = df.iloc[window_middle][col_name]\n",
    "\n",
    "                if max_index == window_middle:\n",
    "                    labels[window_middle] = 0\n",
    "                elif min_index == window_middle:\n",
    "                    labels[window_middle] = 1\n",
    "                else:\n",
    "                    labels[window_middle] = 2\n",
    "\n",
    "            row_counter = row_counter + 1\n",
    "            pbar.update(1)\n",
    "\n",
    "        pbar.close()\n",
    "        return labels"
   ]
  },
  {
   "cell_type": "markdown",
   "metadata": {},
   "source": [
    "## Generate technical indicators"
   ]
  },
  {
   "cell_type": "markdown",
   "metadata": {},
   "source": [
    "### Cyclic indicators"
   ]
  },
  {
   "cell_type": "code",
   "execution_count": 17,
   "metadata": {},
   "outputs": [
    {
     "name": "stdout",
     "output_type": "stream",
     "text": [
      "         Date      Close\n",
      "0  2000-01-03  20.000000\n",
      "1  2000-01-04  20.600000\n",
      "2  2000-01-05  19.200001\n",
      "3  2000-01-06  18.299999\n",
      "4  2000-01-07  19.299999\n",
      "                Close  previous_1d  EMA_7  willr_7      OBV_7\n",
      "Date                                                         \n",
      "2000-01-03  20.000000          NaN    NaN      NaN        NaN\n",
      "2000-01-04  20.600000    20.000000    NaN      NaN  1828000.0\n",
      "2000-01-05  19.200001    20.600000    NaN      NaN  5264000.0\n",
      "2000-01-06  18.299999    19.200001    NaN      NaN  2367000.0\n",
      "2000-01-07  19.299999    18.299999    NaN      NaN -1617000.0\n",
      "<class 'pandas.core.frame.DataFrame'>\n",
      "Index: 5012 entries, 2000-01-03 to 2019-12-31\n",
      "Data columns (total 5 columns):\n",
      "Close          5012 non-null float64\n",
      "previous_1d    5011 non-null float64\n",
      "EMA_7          5005 non-null float64\n",
      "willr_7        5005 non-null float64\n",
      "OBV_7          5011 non-null float64\n",
      "dtypes: float64(5)\n",
      "memory usage: 234.9+ KB\n",
      "None\n",
      "Calculating labels\n"
     ]
    },
    {
     "data": {
      "application/vnd.jupyter.widget-view+json": {
       "model_id": "7e5e3e50c7e54223833aa1971cdda3b8",
       "version_major": 2,
       "version_minor": 0
      },
      "text/plain": [
       "HBox(children=(FloatProgress(value=0.0, max=5012.0), HTML(value='')))"
      ]
     },
     "metadata": {},
     "output_type": "display_data"
    },
    {
     "name": "stdout",
     "output_type": "stream",
     "text": [
      "\n",
      "            previous_1d      EMA_7    willr_7      OBV_7  labels\n",
      "Date                                                            \n",
      "2000-01-12    18.900000  19.414286 -39.583332  2301000.0     2.0\n",
      "2000-01-13    19.700001  19.485714 -22.916639  5756000.0     2.0\n",
      "2000-01-14    19.600000  19.514286 -12.195121  4109000.0     2.0\n",
      "2000-01-17    19.600000  19.535715 -20.833337  4109000.0     2.0\n",
      "2000-01-18    19.000000  19.401786 -64.705876  2972000.0     2.0\n",
      "         Date      Close\n",
      "0  1999-12-31  51.791668\n",
      "1  2000-01-03  48.583332\n",
      "2  2000-01-04  47.250000\n",
      "3  2000-01-05  46.958332\n",
      "4  2000-01-06  47.625000\n",
      "                Close  previous_1d  EMA_7  willr_7       OBV_7\n",
      "Date                                                          \n",
      "1999-12-31  51.791668          NaN    NaN      NaN         NaN\n",
      "2000-01-03  48.583332    51.791668    NaN      NaN   1160400.0\n",
      "2000-01-04  47.250000    48.583332    NaN      NaN -10858800.0\n",
      "2000-01-05  46.958332    47.250000    NaN      NaN -22582200.0\n",
      "2000-01-06  47.625000    46.958332    NaN      NaN -31296750.0\n",
      "<class 'pandas.core.frame.DataFrame'>\n",
      "Index: 5032 entries, 1999-12-31 to 2019-12-31\n",
      "Data columns (total 5 columns):\n",
      "Close          5032 non-null float64\n",
      "previous_1d    5031 non-null float64\n",
      "EMA_7          5025 non-null float64\n",
      "willr_7        5025 non-null float64\n",
      "OBV_7          5031 non-null float64\n",
      "dtypes: float64(5)\n",
      "memory usage: 235.9+ KB\n",
      "None\n",
      "Calculating labels\n"
     ]
    },
    {
     "data": {
      "application/vnd.jupyter.widget-view+json": {
       "model_id": "a3261708e004492d81ee69b680556b94",
       "version_major": 2,
       "version_minor": 0
      },
      "text/plain": [
       "HBox(children=(FloatProgress(value=0.0, max=5032.0), HTML(value='')))"
      ]
     },
     "metadata": {},
     "output_type": "display_data"
    },
    {
     "name": "stdout",
     "output_type": "stream",
     "text": [
      "\n",
      "            previous_1d      EMA_7    willr_7       OBV_7  labels\n",
      "Date                                                             \n",
      "2000-01-11    47.666668  48.339286 -73.333313 -21079050.0     1.0\n",
      "2000-01-12    46.541668  47.889881 -78.070149 -29484600.0     2.0\n",
      "2000-01-13    46.833332  47.625744 -61.904798 -22212750.0     2.0\n",
      "2000-01-14    47.541668  47.604725 -41.666630 -15293850.0     2.0\n",
      "2000-01-18    49.250000  48.016044 -25.000000  -5562000.0     2.0\n",
      "         Date    Close\n",
      "0  1999-12-31  41.4375\n",
      "1  2000-01-03  40.1875\n",
      "2  2000-01-04  40.1250\n",
      "3  2000-01-05  42.6250\n",
      "4  2000-01-06  43.0625\n",
      "              Close  previous_1d  EMA_7  willr_7      OBV_7\n",
      "Date                                                       \n",
      "1999-12-31  41.4375          NaN    NaN      NaN        NaN\n",
      "2000-01-03  40.1875      41.4375    NaN      NaN  1111200.0\n",
      "2000-01-04  40.1250      40.1875    NaN      NaN -1527000.0\n",
      "2000-01-05  42.6250      40.1250    NaN      NaN -5119100.0\n",
      "2000-01-06  43.0625      42.6250    NaN      NaN  2512600.0\n",
      "<class 'pandas.core.frame.DataFrame'>\n",
      "Index: 5032 entries, 1999-12-31 to 2019-12-31\n",
      "Data columns (total 5 columns):\n",
      "Close          5032 non-null float64\n",
      "previous_1d    5031 non-null float64\n",
      "EMA_7          5025 non-null float64\n",
      "willr_7        5025 non-null float64\n",
      "OBV_7          5031 non-null float64\n",
      "dtypes: float64(5)\n",
      "memory usage: 235.9+ KB\n",
      "None\n",
      "Calculating labels\n"
     ]
    },
    {
     "data": {
      "application/vnd.jupyter.widget-view+json": {
       "model_id": "fa62ec94603b4f9a93ed9c5d45e52fc1",
       "version_major": 2,
       "version_minor": 0
      },
      "text/plain": [
       "HBox(children=(FloatProgress(value=0.0, max=5032.0), HTML(value='')))"
      ]
     },
     "metadata": {},
     "output_type": "display_data"
    },
    {
     "name": "stdout",
     "output_type": "stream",
     "text": [
      "\n",
      "            previous_1d      EMA_7    willr_7       OBV_7  labels\n",
      "Date                                                             \n",
      "2000-01-11      43.6875  42.205357 -23.170732  11039600.0     2.0\n",
      "2000-01-12      42.8750  42.372768 -39.024390   8589600.0     2.0\n",
      "2000-01-13      43.0625  42.545201 -35.365854  10917400.0     2.0\n",
      "2000-01-14      42.3750  42.502651 -66.666667   7882300.0     2.0\n",
      "2000-01-18      44.0000  42.876988 -23.333333  11717200.0     2.0\n",
      "         Date     Close\n",
      "0  2000-01-03  7.667275\n",
      "1  2000-01-04  7.376112\n",
      "2  2000-01-05  6.939369\n",
      "3  2000-01-06  6.842315\n",
      "4  2000-01-07  6.987896\n",
      "               Close  previous_1d  EMA_7  willr_7       OBV_7\n",
      "Date                                                         \n",
      "2000-01-03  7.667275          NaN    NaN      NaN         NaN\n",
      "2000-01-04  7.376112     7.667275    NaN      NaN   4669559.0\n",
      "2000-01-05  6.939369     7.376112    NaN      NaN    366805.0\n",
      "2000-01-06  6.842315     6.939369    NaN      NaN  -7344356.0\n",
      "2000-01-07  6.987896     6.842315    NaN      NaN -19704470.0\n",
      "<class 'pandas.core.frame.DataFrame'>\n",
      "Index: 5076 entries, 2000-01-03 to 2019-12-31\n",
      "Data columns (total 5 columns):\n",
      "Close          5076 non-null float64\n",
      "previous_1d    5075 non-null float64\n",
      "EMA_7          5069 non-null float64\n",
      "willr_7        5069 non-null float64\n",
      "OBV_7          5075 non-null float64\n",
      "dtypes: float64(5)\n",
      "memory usage: 237.9+ KB\n",
      "None\n",
      "Calculating labels\n"
     ]
    },
    {
     "data": {
      "application/vnd.jupyter.widget-view+json": {
       "model_id": "b612a80f50cf4df09f21d5c7da1e5697",
       "version_major": 2,
       "version_minor": 0
      },
      "text/plain": [
       "HBox(children=(FloatProgress(value=0.0, max=5076.0), HTML(value='')))"
      ]
     },
     "metadata": {},
     "output_type": "display_data"
    },
    {
     "name": "stdout",
     "output_type": "stream",
     "text": [
      "\n",
      "            previous_1d     EMA_7    willr_7       OBV_7  labels\n",
      "Date                                                            \n",
      "2000-01-12     6.939369  7.126545 -78.947385 -14734048.0     2.0\n",
      "2000-01-13     7.084950  7.116146 -58.823594  -5328986.0     2.0\n",
      "2000-01-14     7.230531  7.144742 -16.666667   6182117.0     0.0\n",
      "2000-01-17     7.279058  7.178321  -8.333374  14297177.0     2.0\n",
      "2000-01-18     7.036423  7.142847 -63.636347   8931099.0     2.0\n",
      "         Date     Close\n",
      "0  2000-01-04  3.205140\n",
      "1  2000-01-05  3.157302\n",
      "2  2000-01-06  3.339086\n",
      "3  2000-01-07  3.422005\n",
      "4  2000-01-10  3.488978\n",
      "               Close  previous_1d  EMA_7  willr_7       OBV_7\n",
      "Date                                                         \n",
      "2000-01-04  3.205140          NaN    NaN      NaN         NaN\n",
      "2000-01-05  3.157302     3.205140    NaN      NaN  12127538.0\n",
      "2000-01-06  3.339086     3.157302    NaN      NaN   2381429.0\n",
      "2000-01-07  3.422005     3.339086    NaN      NaN  16288228.0\n",
      "2000-01-10  3.488978     3.422005    NaN      NaN  51465481.0\n",
      "<class 'pandas.core.frame.DataFrame'>\n",
      "Index: 4797 entries, 2000-01-04 to 2019-12-31\n",
      "Data columns (total 5 columns):\n",
      "Close          4797 non-null float64\n",
      "previous_1d    4796 non-null float64\n",
      "EMA_7          4790 non-null float64\n",
      "willr_7        4790 non-null float64\n",
      "OBV_7          4796 non-null float64\n",
      "dtypes: float64(5)\n",
      "memory usage: 224.9+ KB\n",
      "None\n",
      "Calculating labels\n"
     ]
    },
    {
     "data": {
      "application/vnd.jupyter.widget-view+json": {
       "model_id": "73b3fd76cbe14bbd97dda32cc3ae3a2f",
       "version_major": 2,
       "version_minor": 0
      },
      "text/plain": [
       "HBox(children=(FloatProgress(value=0.0, max=4797.0), HTML(value='')))"
      ]
     },
     "metadata": {},
     "output_type": "display_data"
    },
    {
     "name": "stdout",
     "output_type": "stream",
     "text": [
      "\n",
      "            previous_1d     EMA_7    willr_7       OBV_7  labels\n",
      "Date                                                            \n",
      "2000-01-13     3.189194  3.295804 -69.696967  68412822.0     2.0\n",
      "2000-01-14     3.179627  3.266760 -84.892114  64666767.0     1.0\n",
      "2000-01-17     3.147735  3.237004 -92.086330  60502205.0     2.0\n",
      "2000-01-18     3.192383  3.225849 -83.823604  63818976.0     2.0\n",
      "2000-01-19     3.176437  3.213496 -87.500110  59733801.0     2.0\n",
      "         Date  Close\n",
      "0  2004-03-17   3.37\n",
      "1  2004-03-18   3.34\n",
      "2  2004-03-19   3.35\n",
      "3  2004-03-22   3.35\n",
      "4  2004-03-23   3.34\n",
      "            Close  previous_1d  EMA_7  willr_7  OBV_7\n",
      "Date                                                 \n",
      "2004-03-17   3.37          NaN    NaN      NaN    NaN\n",
      "2004-03-18   3.34         3.37    NaN      NaN    0.0\n",
      "2004-03-19   3.35         3.34    NaN      NaN    0.0\n",
      "2004-03-22   3.35         3.35    NaN      NaN    0.0\n",
      "2004-03-23   3.34         3.35    NaN      NaN    0.0\n",
      "<class 'pandas.core.frame.DataFrame'>\n",
      "Index: 3871 entries, 2004-03-17 to 2019-12-31\n",
      "Data columns (total 5 columns):\n",
      "Close          3871 non-null float64\n",
      "previous_1d    3870 non-null float64\n",
      "EMA_7          3864 non-null float64\n",
      "willr_7        3864 non-null float64\n",
      "OBV_7          3870 non-null float64\n",
      "dtypes: float64(5)\n",
      "memory usage: 181.5+ KB\n",
      "None\n",
      "Calculating labels\n"
     ]
    },
    {
     "data": {
      "application/vnd.jupyter.widget-view+json": {
       "model_id": "f6802498463f4fbea5604aee59e1b741",
       "version_major": 2,
       "version_minor": 0
      },
      "text/plain": [
       "HBox(children=(FloatProgress(value=0.0, max=3871.0), HTML(value='')))"
      ]
     },
     "metadata": {},
     "output_type": "display_data"
    },
    {
     "name": "stdout",
     "output_type": "stream",
     "text": [
      "\n",
      "            previous_1d     EMA_7     willr_7       OBV_7  labels\n",
      "Date                                                             \n",
      "2004-03-26        3.240  3.322857 -100.000000         0.0     2.0\n",
      "2004-03-29        3.270  3.309643  -72.727273         0.0     2.0\n",
      "2004-03-30        3.170  3.274732 -100.000000         0.0     1.0\n",
      "2004-03-31        3.160  3.246049 -100.000000         0.0     2.0\n",
      "2004-04-01        3.325  3.265787   -8.333267  17474000.0     2.0\n",
      "         Date     Close\n",
      "0  2006-10-27  3.453485\n",
      "1  2006-10-31  3.414241\n",
      "2  2006-11-01  3.424052\n",
      "3  2006-11-02  3.433863\n",
      "4  2006-11-03  3.512352\n",
      "               Close  previous_1d  EMA_7  willr_7         OBV_7\n",
      "Date                                                           \n",
      "2006-10-27  3.453485          NaN    NaN      NaN           NaN\n",
      "2006-10-31  3.414241     3.453485    NaN      NaN  1.083537e+10\n",
      "2006-11-01  3.424052     3.414241    NaN      NaN  8.538212e+09\n",
      "2006-11-02  3.433863     3.424052    NaN      NaN  9.541413e+09\n",
      "2006-11-03  3.512352     3.433863    NaN      NaN  1.006422e+10\n",
      "<class 'pandas.core.frame.DataFrame'>\n",
      "Index: 3228 entries, 2006-10-27 to 2019-12-31\n",
      "Data columns (total 5 columns):\n",
      "Close          3228 non-null float64\n",
      "previous_1d    3227 non-null float64\n",
      "EMA_7          3221 non-null float64\n",
      "willr_7        3221 non-null float64\n",
      "OBV_7          3227 non-null float64\n",
      "dtypes: float64(5)\n",
      "memory usage: 151.3+ KB\n",
      "None\n",
      "Calculating labels\n"
     ]
    },
    {
     "data": {
      "application/vnd.jupyter.widget-view+json": {
       "model_id": "5e0e254343384a22b038810ea85802bf",
       "version_major": 2,
       "version_minor": 0
      },
      "text/plain": [
       "HBox(children=(FloatProgress(value=0.0, max=3228.0), HTML(value='')))"
      ]
     },
     "metadata": {},
     "output_type": "display_data"
    },
    {
     "name": "stdout",
     "output_type": "stream",
     "text": [
      "\n",
      "            previous_1d     EMA_7    willr_7         OBV_7  labels\n",
      "Date                                                              \n",
      "2006-11-08     3.541785  3.475911 -19.999878  1.260817e+10     2.0\n",
      "2006-11-09     3.492730  3.480115 -44.999818  1.209017e+10     2.0\n",
      "2006-11-10     3.561407  3.500438 -11.110961  1.293841e+10     2.0\n",
      "2006-11-13     3.581029  3.520586 -10.526309  1.401377e+10     2.0\n",
      "2006-11-14     3.698761  3.565130  -3.571388  1.523433e+10     2.0\n"
     ]
    }
   ],
   "source": [
    "def compile_data():\n",
    "    with open('cyclic_tickers.txt') as f:\n",
    "        tickers = [i.strip() for i in f.readlines()]\n",
    "    \n",
    "    for count,ticker in enumerate(tickers):\n",
    "        df = pd.read_csv('data/cyclic_tickers/initial/{}.csv'.format(ticker))\n",
    "        df  = df.dropna()\n",
    "            \n",
    "        high = df['High'].shift(1).values\n",
    "        low = df['Low'].shift(1).values\n",
    "        close = df['Close'].shift(1).values\n",
    "        volume = df['Volume'].shift(1).values\n",
    "\n",
    "        df.drop(['High','Low','Open','Volume','Adj Close'], 1, inplace=True)\n",
    "        print(df.head())\n",
    "            \n",
    "        df['previous_1d'] = df['Close'].shift(1)\n",
    "\n",
    "\n",
    "        ema = EMA(close, timeperiod=7)\n",
    "        arr = np.array(ema)\n",
    "        df['EMA_7'] = arr\n",
    "\n",
    "\n",
    "        willr = WILLR(high, low, close, timeperiod=7)\n",
    "        arr = np.array(willr)\n",
    "        df['willr_7'] = arr\n",
    "            \n",
    "        obv = OBV(close, volume)\n",
    "        arr = np.array(obv)\n",
    "        df['OBV_7'] = arr\n",
    "\n",
    "        df.set_index('Date', inplace=True)\n",
    "        \n",
    "        print(df.head())\n",
    "        print(df.info())\n",
    "        \n",
    "        labels = create_labels(df, 'Close', 15)\n",
    "        df['labels'] = labels\n",
    "        df.drop(['Close'], 1, inplace=True)\n",
    "        df  = df.dropna()\n",
    "        \n",
    "        print(df.head())\n",
    "        df.to_csv('data/cyclic_tickers/initial_indicators/{}_data.csv'.format(ticker))\n",
    "    \n",
    "compile_data()"
   ]
  },
  {
   "cell_type": "markdown",
   "metadata": {},
   "source": [
    "### Non-cyclic Indicators"
   ]
  },
  {
   "cell_type": "code",
   "execution_count": 18,
   "metadata": {},
   "outputs": [
    {
     "name": "stdout",
     "output_type": "stream",
     "text": [
      "         Date     Close\n",
      "0  2001-08-27  7.074920\n",
      "1  2001-08-28  7.335628\n",
      "2  2001-08-29  7.240101\n",
      "3  2001-08-30  7.383391\n",
      "4  2001-08-31  7.365480\n",
      "               Close  previous_1d  EMA_7  willr_7        OBV_7\n",
      "Date                                                          \n",
      "2001-08-27  7.074920          NaN    NaN      NaN          NaN\n",
      "2001-08-28  7.335628     7.074920    NaN      NaN  204166311.0\n",
      "2001-08-29  7.240101     7.335628    NaN      NaN  269311618.0\n",
      "2001-08-30  7.383391     7.240101    NaN      NaN  242553224.0\n",
      "2001-08-31  7.365480     7.383391    NaN      NaN  266678784.0\n",
      "<class 'pandas.core.frame.DataFrame'>\n",
      "Index: 4383 entries, 2001-08-27 to 2019-12-31\n",
      "Data columns (total 5 columns):\n",
      "Close          4383 non-null float64\n",
      "previous_1d    4382 non-null float64\n",
      "EMA_7          4376 non-null float64\n",
      "willr_7        4376 non-null float64\n",
      "OBV_7          4382 non-null float64\n",
      "dtypes: float64(5)\n",
      "memory usage: 205.5+ KB\n",
      "None\n",
      "Calculating labels\n"
     ]
    },
    {
     "data": {
      "application/vnd.jupyter.widget-view+json": {
       "model_id": "792af49d4edb4baca974243448c7872a",
       "version_major": 2,
       "version_minor": 0
      },
      "text/plain": [
       "HBox(children=(FloatProgress(value=0.0, max=4383.0), HTML(value='')))"
      ]
     },
     "metadata": {},
     "output_type": "display_data"
    },
    {
     "name": "stdout",
     "output_type": "stream",
     "text": [
      "\n",
      "            previous_1d     EMA_7    willr_7        OBV_7  labels\n",
      "Date                                                             \n",
      "2001-09-05     7.455036  7.316579 -11.854647  262489717.0     2.0\n",
      "2001-09-06     7.451055  7.350198 -18.443866  249391619.0     2.0\n",
      "2001-09-07     7.303786  7.338595 -66.346048  234821217.0     1.0\n",
      "2001-09-10     7.100792  7.279144 -98.765514  218966871.0     2.0\n",
      "2001-09-11     7.303786  7.285305 -44.951100  228453119.0     2.0\n",
      "         Date      Close\n",
      "0  1999-12-31  45.625000\n",
      "1  2000-01-03  44.500000\n",
      "2  2000-01-04  42.062500\n",
      "3  2000-01-05  42.781250\n",
      "4  2000-01-06  43.640625\n",
      "                Close  previous_1d  EMA_7  willr_7       OBV_7\n",
      "Date                                                          \n",
      "1999-12-31  45.625000          NaN    NaN      NaN         NaN\n",
      "2000-01-03  44.500000     45.62500    NaN      NaN   1163000.0\n",
      "2000-01-04  42.062500     44.50000    NaN      NaN  -4894400.0\n",
      "2000-01-05  42.781250     42.06250    NaN      NaN -10617200.0\n",
      "2000-01-06  43.640625     42.78125    NaN      NaN  -2890800.0\n",
      "<class 'pandas.core.frame.DataFrame'>\n",
      "Index: 5032 entries, 1999-12-31 to 2019-12-31\n",
      "Data columns (total 5 columns):\n",
      "Close          5032 non-null float64\n",
      "previous_1d    5031 non-null float64\n",
      "EMA_7          5025 non-null float64\n",
      "willr_7        5025 non-null float64\n",
      "OBV_7          5031 non-null float64\n",
      "dtypes: float64(5)\n",
      "memory usage: 235.9+ KB\n",
      "None\n",
      "Calculating labels\n"
     ]
    },
    {
     "data": {
      "application/vnd.jupyter.widget-view+json": {
       "model_id": "76c6e6de9fbd4b0b895631cda2e52d59",
       "version_major": 2,
       "version_minor": 0
      },
      "text/plain": [
       "HBox(children=(FloatProgress(value=0.0, max=5032.0), HTML(value='')))"
      ]
     },
     "metadata": {},
     "output_type": "display_data"
    },
    {
     "name": "stdout",
     "output_type": "stream",
     "text": [
      "\n",
      "            previous_1d      EMA_7    willr_7       OBV_7  labels\n",
      "Date                                                             \n",
      "2000-01-11     47.50000  44.662946  -0.549451  13949400.0     2.0\n",
      "2000-01-12     45.81250  44.950335 -30.601093  10994400.0     2.0\n",
      "2000-01-13     45.75000  45.150251 -31.693989   6307000.0     2.0\n",
      "2000-01-14     47.46875  45.729876  -9.547739  12057800.0     2.0\n",
      "2000-01-18     49.06250  46.563032 -16.964286  16628800.0     2.0\n",
      "         Date     Close\n",
      "0  1999-12-31  54.78125\n",
      "1  2000-01-03  53.59375\n",
      "2  2000-01-04  52.56250\n",
      "3  2000-01-05  51.56250\n",
      "4  2000-01-06  53.93750\n",
      "               Close  previous_1d  EMA_7  willr_7       OBV_7\n",
      "Date                                                         \n",
      "1999-12-31  54.78125          NaN    NaN      NaN         NaN\n",
      "2000-01-03  53.59375     54.78125    NaN      NaN    614200.0\n",
      "2000-01-04  52.56250     53.59375    NaN      NaN  -3660800.0\n",
      "2000-01-05  51.56250     52.56250    NaN      NaN  -7931600.0\n",
      "2000-01-06  53.93750     51.56250    NaN      NaN -13030000.0\n",
      "<class 'pandas.core.frame.DataFrame'>\n",
      "Index: 5032 entries, 1999-12-31 to 2019-12-31\n",
      "Data columns (total 5 columns):\n",
      "Close          5032 non-null float64\n",
      "previous_1d    5031 non-null float64\n",
      "EMA_7          5025 non-null float64\n",
      "willr_7        5025 non-null float64\n",
      "OBV_7          5031 non-null float64\n",
      "dtypes: float64(5)\n",
      "memory usage: 235.9+ KB\n",
      "None\n",
      "Calculating labels\n"
     ]
    },
    {
     "data": {
      "application/vnd.jupyter.widget-view+json": {
       "model_id": "2d7cadca577e47c3a0289e9f0cee360b",
       "version_major": 2,
       "version_minor": 0
      },
      "text/plain": [
       "HBox(children=(FloatProgress(value=0.0, max=5032.0), HTML(value='')))"
      ]
     },
     "metadata": {},
     "output_type": "display_data"
    },
    {
     "name": "stdout",
     "output_type": "stream",
     "text": [
      "\n",
      "            previous_1d      EMA_7    willr_7       OBV_7  labels\n",
      "Date                                                             \n",
      "2000-01-11     57.96875  54.665179  -9.282700  -3535800.0     0.0\n",
      "2000-01-12     58.87500  55.717634  -0.000000    886000.0     2.0\n",
      "2000-01-13     58.50000  56.413225  -8.661417  -5345600.0     2.0\n",
      "2000-01-14     57.50000  56.684919 -21.259843 -10630800.0     2.0\n",
      "2000-01-18     58.50000  57.138689 -10.328638  -5726400.0     2.0\n",
      "         Date     Close\n",
      "0  2000-01-04  4.053544\n",
      "1  2000-01-05  4.091251\n",
      "2  2000-01-06  4.255548\n",
      "3  2000-01-07  4.405031\n",
      "4  2000-01-10  4.418498\n",
      "               Close  previous_1d  EMA_7  willr_7       OBV_7\n",
      "Date                                                         \n",
      "2000-01-04  4.053544          NaN    NaN      NaN         NaN\n",
      "2000-01-05  4.091251     4.053544    NaN      NaN   5211144.0\n",
      "2000-01-06  4.255548     4.091251    NaN      NaN  16146401.0\n",
      "2000-01-07  4.405031     4.255548    NaN      NaN  29138906.0\n",
      "2000-01-10  4.418498     4.405031    NaN      NaN  59046044.0\n",
      "<class 'pandas.core.frame.DataFrame'>\n",
      "Index: 4775 entries, 2000-01-04 to 2019-12-31\n",
      "Data columns (total 5 columns):\n",
      "Close          4775 non-null float64\n",
      "previous_1d    4774 non-null float64\n",
      "EMA_7          4768 non-null float64\n",
      "willr_7        4768 non-null float64\n",
      "OBV_7          4774 non-null float64\n",
      "dtypes: float64(5)\n",
      "memory usage: 223.8+ KB\n",
      "None\n",
      "Calculating labels\n"
     ]
    },
    {
     "data": {
      "application/vnd.jupyter.widget-view+json": {
       "model_id": "c11ae6d3f518483c91fd1ab501fa534e",
       "version_major": 2,
       "version_minor": 0
      },
      "text/plain": [
       "HBox(children=(FloatProgress(value=0.0, max=4775.0), HTML(value='')))"
      ]
     },
     "metadata": {},
     "output_type": "display_data"
    },
    {
     "name": "stdout",
     "output_type": "stream",
     "text": [
      "\n",
      "            previous_1d     EMA_7    willr_7       OBV_7  labels\n",
      "Date                                                            \n",
      "2000-01-13     4.161279  4.231308 -61.904786  59618179.0     2.0\n",
      "2000-01-14     4.107412  4.200334 -88.235251  53883196.0     1.0\n",
      "2000-01-17     4.041424  4.160606 -99.147792  49125696.0     2.0\n",
      "2000-01-18     4.128959  4.152694 -73.007591  52650011.0     2.0\n",
      "2000-01-19     4.194947  4.163257 -60.411243  56720576.0     2.0\n",
      "         Date    Close\n",
      "0  1999-12-31  69.1250\n",
      "1  2000-01-03  66.8125\n",
      "2  2000-01-04  64.3125\n",
      "3  2000-01-05  63.0000\n",
      "4  2000-01-06  63.6875\n",
      "              Close  previous_1d  EMA_7  willr_7       OBV_7\n",
      "Date                                                        \n",
      "1999-12-31  69.1250          NaN    NaN      NaN         NaN\n",
      "2000-01-03  66.8125      69.1250    NaN      NaN   2112700.0\n",
      "2000-01-04  64.3125      66.8125    NaN      NaN  -6257200.0\n",
      "2000-01-05  63.0000      64.3125    NaN      NaN -13002300.0\n",
      "2000-01-06  63.6875      63.0000    NaN      NaN -20021000.0\n",
      "<class 'pandas.core.frame.DataFrame'>\n",
      "Index: 5032 entries, 1999-12-31 to 2019-12-31\n",
      "Data columns (total 5 columns):\n",
      "Close          5032 non-null float64\n",
      "previous_1d    5031 non-null float64\n",
      "EMA_7          5025 non-null float64\n",
      "willr_7        5025 non-null float64\n",
      "OBV_7          5031 non-null float64\n",
      "dtypes: float64(5)\n",
      "memory usage: 235.9+ KB\n",
      "None\n",
      "Calculating labels\n"
     ]
    },
    {
     "data": {
      "application/vnd.jupyter.widget-view+json": {
       "model_id": "8e91b1f37a8147f3978cb95d70f896b2",
       "version_major": 2,
       "version_minor": 0
      },
      "text/plain": [
       "HBox(children=(FloatProgress(value=0.0, max=5032.0), HTML(value='')))"
      ]
     },
     "metadata": {},
     "output_type": "display_data"
    },
    {
     "name": "stdout",
     "output_type": "stream",
     "text": [
      "\n",
      "            previous_1d      EMA_7    willr_7       OBV_7  labels\n",
      "Date                                                             \n",
      "2000-01-11      67.2500  66.098214 -37.209302 -12213900.0     2.0\n",
      "2000-01-12      66.2500  66.136161 -40.366972 -17157200.0     2.0\n",
      "2000-01-13      65.0625  65.867746 -57.407407 -21242200.0     2.0\n",
      "2000-01-14      65.1250  65.682059 -56.481481 -16221200.0     2.0\n",
      "2000-01-18      64.5000  65.386544 -71.000000 -22533400.0     2.0\n",
      "         Date  Close\n",
      "0  1999-12-31   52.0\n",
      "1  2000-01-03   54.0\n",
      "2  2000-01-04   50.0\n",
      "3  2000-01-05   49.0\n",
      "4  2000-01-06   48.0\n",
      "            Close  previous_1d  EMA_7  willr_7   OBV_7\n",
      "Date                                                  \n",
      "1999-12-31   52.0          NaN    NaN      NaN     NaN\n",
      "2000-01-03   54.0         52.0    NaN      NaN    50.0\n",
      "2000-01-04   50.0         54.0    NaN      NaN  1306.0\n",
      "2000-01-05   49.0         50.0    NaN      NaN -1794.0\n",
      "2000-01-06   48.0         49.0    NaN      NaN -6013.0\n",
      "<class 'pandas.core.frame.DataFrame'>\n",
      "Index: 5032 entries, 1999-12-31 to 2019-12-31\n",
      "Data columns (total 5 columns):\n",
      "Close          5032 non-null float64\n",
      "previous_1d    5031 non-null float64\n",
      "EMA_7          5025 non-null float64\n",
      "willr_7        5025 non-null float64\n",
      "OBV_7          5031 non-null float64\n",
      "dtypes: float64(5)\n",
      "memory usage: 235.9+ KB\n",
      "None\n",
      "Calculating labels\n"
     ]
    },
    {
     "data": {
      "application/vnd.jupyter.widget-view+json": {
       "model_id": "bfddf2481f2149c8a04d8f86abe97fbb",
       "version_major": 2,
       "version_minor": 0
      },
      "text/plain": [
       "HBox(children=(FloatProgress(value=0.0, max=5032.0), HTML(value='')))"
      ]
     },
     "metadata": {},
     "output_type": "display_data"
    },
    {
     "name": "stdout",
     "output_type": "stream",
     "text": [
      "\n",
      "            previous_1d      EMA_7    willr_7    OBV_7  labels\n",
      "Date                                                          \n",
      "2000-01-11        53.00  51.000000 -14.285714  -2588.0     0.0\n",
      "2000-01-12        66.00  54.750000  -9.523810  13118.0     2.0\n",
      "2000-01-13        61.25  56.375000 -32.142857   6962.0     2.0\n",
      "2000-01-14        65.00  58.531250 -14.285714  13462.0     2.0\n",
      "2000-01-18        62.00  59.398438 -30.000000   7837.0     2.0\n",
      "         Date  Close\n",
      "0  1999-12-31  112.5\n",
      "1  2000-01-03  115.0\n",
      "2  2000-01-04  110.0\n",
      "3  2000-01-05  107.5\n",
      "4  2000-01-06  112.5\n",
      "            Close  previous_1d  EMA_7  willr_7   OBV_7\n",
      "Date                                                  \n",
      "1999-12-31  112.5          NaN    NaN      NaN     NaN\n",
      "2000-01-03  115.0        112.5    NaN      NaN   115.0\n",
      "2000-01-04  110.0        115.0    NaN      NaN  1240.0\n",
      "2000-01-05  107.5        110.0    NaN      NaN   630.0\n",
      "2000-01-06  112.5        107.5    NaN      NaN   175.0\n",
      "<class 'pandas.core.frame.DataFrame'>\n",
      "Index: 5032 entries, 1999-12-31 to 2019-12-31\n",
      "Data columns (total 5 columns):\n",
      "Close          5032 non-null float64\n",
      "previous_1d    5031 non-null float64\n",
      "EMA_7          5025 non-null float64\n",
      "willr_7        5025 non-null float64\n",
      "OBV_7          5031 non-null float64\n",
      "dtypes: float64(5)\n",
      "memory usage: 235.9+ KB\n",
      "None\n",
      "Calculating labels\n"
     ]
    },
    {
     "data": {
      "application/vnd.jupyter.widget-view+json": {
       "model_id": "175987a91cc74963b86ab3b2e2f6c8f2",
       "version_major": 2,
       "version_minor": 0
      },
      "text/plain": [
       "HBox(children=(FloatProgress(value=0.0, max=5032.0), HTML(value='')))"
      ]
     },
     "metadata": {},
     "output_type": "display_data"
    },
    {
     "name": "stdout",
     "output_type": "stream",
     "text": [
      "\n",
      "            previous_1d       EMA_7    willr_7   OBV_7  labels\n",
      "Date                                                          \n",
      "2000-01-11       110.00  111.071429 -50.000000 -2165.0     2.0\n",
      "2000-01-12       107.50  110.178571 -62.500000 -3480.0     2.0\n",
      "2000-01-13       107.50  109.508929 -42.857143 -3480.0     2.0\n",
      "2000-01-14       106.25  108.694196 -41.666667 -4650.0     1.0\n",
      "2000-01-18       103.75  107.458147 -50.000000 -8790.0     2.0\n",
      "         Date   Close\n",
      "0  2004-06-10  2.4375\n",
      "1  2004-06-11  2.3250\n",
      "2  2004-06-14  2.3125\n",
      "3  2004-06-15  2.2750\n",
      "4  2004-06-16  2.3000\n",
      "             Close  previous_1d  EMA_7  willr_7        OBV_7\n",
      "Date                                                        \n",
      "2004-06-10  2.4375          NaN    NaN      NaN          NaN\n",
      "2004-06-11  2.3250       2.4375    NaN      NaN  741780948.0\n",
      "2004-06-14  2.3125       2.3250    NaN      NaN  496140948.0\n",
      "2004-06-15  2.2750       2.3125    NaN      NaN  369726948.0\n",
      "2004-06-16  2.3000       2.2750    NaN      NaN  312265896.0\n",
      "<class 'pandas.core.frame.DataFrame'>\n",
      "Index: 3834 entries, 2004-06-10 to 2019-12-31\n",
      "Data columns (total 5 columns):\n",
      "Close          3834 non-null float64\n",
      "previous_1d    3833 non-null float64\n",
      "EMA_7          3827 non-null float64\n",
      "willr_7        3827 non-null float64\n",
      "OBV_7          3833 non-null float64\n",
      "dtypes: float64(5)\n",
      "memory usage: 179.7+ KB\n",
      "None\n",
      "Calculating labels\n"
     ]
    },
    {
     "data": {
      "application/vnd.jupyter.widget-view+json": {
       "model_id": "b97068863769404284df13089576cfa2",
       "version_major": 2,
       "version_minor": 0
      },
      "text/plain": [
       "HBox(children=(FloatProgress(value=0.0, max=3834.0), HTML(value='')))"
      ]
     },
     "metadata": {},
     "output_type": "display_data"
    },
    {
     "name": "stdout",
     "output_type": "stream",
     "text": [
      "\n",
      "            previous_1d     EMA_7    willr_7        OBV_7  labels\n",
      "Date                                                             \n",
      "2004-06-21       2.2875  2.319643 -59.259299  341437896.0     2.0\n",
      "2004-06-22       2.3625  2.330357 -26.666641  380547896.0     2.0\n",
      "2004-06-23       2.3625  2.338393 -15.384661  380547896.0     2.0\n",
      "2004-06-24       2.5500  2.391295  -0.000000  455715896.0     2.0\n",
      "2004-06-25       2.5500  2.430971 -18.750007  455715896.0     0.0\n",
      "         Date      Close\n",
      "0  2013-09-18  11.264000\n",
      "1  2013-09-23  12.320000\n",
      "2  2013-09-24  11.896000\n",
      "3  2013-09-25  12.013333\n",
      "4  2013-09-26  11.466666\n",
      "                Close  previous_1d  EMA_7  willr_7        OBV_7\n",
      "Date                                                           \n",
      "2013-09-18  11.264000          NaN    NaN      NaN          NaN\n",
      "2013-09-23  12.320000    11.264000    NaN      NaN  145836577.0\n",
      "2013-09-24  11.896000    12.320000    NaN      NaN  265280099.0\n",
      "2013-09-25  12.013333    11.896000    NaN      NaN  190263172.0\n",
      "2013-09-26  11.466666    12.013333    NaN      NaN  254632432.0\n",
      "<class 'pandas.core.frame.DataFrame'>\n",
      "Index: 1530 entries, 2013-09-18 to 2019-12-31\n",
      "Data columns (total 5 columns):\n",
      "Close          1530 non-null float64\n",
      "previous_1d    1529 non-null float64\n",
      "EMA_7          1523 non-null float64\n",
      "willr_7        1523 non-null float64\n",
      "OBV_7          1529 non-null float64\n",
      "dtypes: float64(5)\n",
      "memory usage: 71.7+ KB\n",
      "None\n",
      "Calculating labels\n"
     ]
    },
    {
     "data": {
      "application/vnd.jupyter.widget-view+json": {
       "model_id": "df789fcc41af450c9bb723e3c4ae7034",
       "version_major": 2,
       "version_minor": 0
      },
      "text/plain": [
       "HBox(children=(FloatProgress(value=0.0, max=1530.0), HTML(value='')))"
      ]
     },
     "metadata": {},
     "output_type": "display_data"
    },
    {
     "name": "stdout",
     "output_type": "stream",
     "text": [
      "\n",
      "            previous_1d      EMA_7    willr_7        OBV_7  labels\n",
      "Date                                                              \n",
      "2013-10-08    11.530666  11.708190 -53.719010  228335449.0     2.0\n",
      "2013-10-09    11.997333  11.780476 -33.230320  270009112.0     2.0\n",
      "2013-10-10    11.914666  11.814023 -52.452039  238863795.0     2.0\n",
      "2013-10-11    12.189333  11.907851 -30.490408  297460023.0     2.0\n",
      "2013-10-14    12.141333  11.966221 -21.227643  267573401.0     2.0\n"
     ]
    }
   ],
   "source": [
    "def compile_data():\n",
    "    with open('noncyclic_tickers.txt') as f:\n",
    "        tickers = [i.strip() for i in f.readlines()]\n",
    "    \n",
    "    for count,ticker in enumerate(tickers):\n",
    "        df = pd.read_csv('data/noncyclic_tickers/initial/{}.csv'.format(ticker))\n",
    "        df  = df.dropna()\n",
    "            \n",
    "        high = df['High'].shift(1).values\n",
    "        low = df['Low'].shift(1).values\n",
    "        close = df['Close'].shift(1).values\n",
    "        volume = df['Volume'].shift(1).values\n",
    "\n",
    "        df.drop(['High','Low','Open','Volume','Adj Close'], 1, inplace=True)\n",
    "        print(df.head())\n",
    "            \n",
    "        df['previous_1d'] = df['Close'].shift(1)\n",
    "\n",
    "\n",
    "        ema = EMA(close, timeperiod=7)\n",
    "        arr = np.array(ema)\n",
    "        df['EMA_7'] = arr\n",
    "\n",
    "\n",
    "        willr = WILLR(high, low, close, timeperiod=7)\n",
    "        arr = np.array(willr)\n",
    "        df['willr_7'] = arr\n",
    "            \n",
    "        obv = OBV(close, volume)\n",
    "        arr = np.array(obv)\n",
    "        df['OBV_7'] = arr\n",
    "\n",
    "        df.set_index('Date', inplace=True)\n",
    "        \n",
    "        print(df.head())\n",
    "        print(df.info())\n",
    "        \n",
    "        labels = create_labels(df, 'Close', 15)\n",
    "        df['labels'] = labels\n",
    "        df.drop(['Close'], 1, inplace=True)\n",
    "        df  = df.dropna()\n",
    "        \n",
    "        print(df.head())\n",
    "        df.to_csv('data/noncyclic_tickers/initial_indicators/{}_data.csv'.format(ticker))\n",
    "    \n",
    "compile_data()"
   ]
  },
  {
   "cell_type": "markdown",
   "metadata": {},
   "source": [
    "## Normalize indicators"
   ]
  },
  {
   "cell_type": "code",
   "execution_count": 2,
   "metadata": {},
   "outputs": [],
   "source": [
    "import pandas as pd\n",
    "from sklearn import preprocessing"
   ]
  },
  {
   "cell_type": "code",
   "execution_count": 3,
   "metadata": {},
   "outputs": [
    {
     "name": "stdout",
     "output_type": "stream",
     "text": [
      "            previous_1d     EMA_7   willr_7     OBV_7  labels\n",
      "Date                                                         \n",
      "2000-01-12     0.898039  0.958972  0.604167  0.653426     2.0\n",
      "2000-01-13     0.960784  0.965065  0.770834  0.672066     2.0\n",
      "2000-01-14     0.952941  0.967502  0.878049  0.663181     2.0\n",
      "2000-01-17     0.952941  0.969329  0.791667  0.663181     2.0\n",
      "2000-01-18     0.905882  0.957906  0.352941  0.657046     2.0\n",
      "            previous_1d     EMA_7   willr_7     OBV_7  labels\n",
      "Date                                                         \n",
      "2000-01-11     0.262500  0.263239  0.266667  0.969440     1.0\n",
      "2000-01-12     0.253334  0.259496  0.219299  0.966588     2.0\n",
      "2000-01-13     0.255710  0.257295  0.380952  0.969055     2.0\n",
      "2000-01-14     0.261482  0.257120  0.583334  0.971402     2.0\n",
      "2000-01-18     0.275401  0.260547  0.750000  0.974704     2.0\n",
      "            previous_1d     EMA_7   willr_7     OBV_7  labels\n",
      "Date                                                         \n",
      "2000-01-11     0.044825  0.040549  0.768293  0.133249     2.0\n",
      "2000-01-12     0.042870  0.040961  0.609756  0.129105     2.0\n",
      "2000-01-13     0.043321  0.041386  0.646341  0.133042     2.0\n",
      "2000-01-14     0.041667  0.041281  0.333333  0.127909     2.0\n",
      "2000-01-18     0.045577  0.042203  0.766667  0.134395     2.0\n",
      "            previous_1d     EMA_7   willr_7     OBV_7  labels\n",
      "Date                                                         \n",
      "2000-01-12     0.306698  0.319240  0.210526  0.215172     2.0\n",
      "2000-01-13     0.321074  0.318171  0.411764  0.229018     2.0\n",
      "2000-01-14     0.335451  0.321112  0.833333  0.245965     0.0\n",
      "2000-01-17     0.340243  0.324565  0.916666  0.257913     2.0\n",
      "2000-01-18     0.316282  0.320917  0.363637  0.250013     2.0\n",
      "            previous_1d     EMA_7   willr_7     OBV_7  labels\n",
      "Date                                                         \n",
      "2000-01-13     0.025605  0.027650  0.303030  0.000579     2.0\n",
      "2000-01-14     0.025332  0.026807  0.151079  0.000329     1.0\n",
      "2000-01-17     0.024421  0.025943  0.079137  0.000051     2.0\n",
      "2000-01-18     0.025696  0.025619  0.161764  0.000272     2.0\n",
      "2000-01-19     0.025241  0.025260  0.124999  0.000000     2.0\n",
      "            previous_1d     EMA_7   willr_7    OBV_7  labels\n",
      "Date                                                        \n",
      "2004-03-26     0.032418  0.030290  0.000000  0.03427     2.0\n",
      "2004-03-29     0.034066  0.029536  0.272727  0.03427     2.0\n",
      "2004-03-30     0.028571  0.027544  0.000000  0.03427     1.0\n",
      "2004-03-31     0.028022  0.025907  0.000000  0.03427     2.0\n",
      "2004-04-01     0.037088  0.027033  0.916667  0.03591     2.0\n",
      "            previous_1d     EMA_7   willr_7     OBV_7  labels\n",
      "Date                                                         \n",
      "2006-11-08     0.169339  0.088042  0.669767  0.016288     2.0\n",
      "2006-11-09     0.158886  0.089030  0.460466  0.000000     2.0\n",
      "2006-11-10     0.173521  0.093807  0.744186  0.026673     2.0\n",
      "2006-11-13     0.177702  0.098543  0.749081  0.060487     2.0\n",
      "2006-11-14     0.202789  0.109013  0.807308  0.098868     2.0\n"
     ]
    }
   ],
   "source": [
    "# normalize all data columns \n",
    "\n",
    "with open('cyclic_tickers.txt') as f:\n",
    "    tickers = [i.strip() for i in f.readlines()]\n",
    "    \n",
    "for count,ticker in enumerate(tickers):\n",
    "    df = pd.read_csv('data/cyclic_tickers/initial_indicators/{}_data.csv'.format(ticker))\n",
    "    df  = df.dropna()\n",
    "    \n",
    "    df.set_index('Date', inplace=True)\n",
    "    df_target = pd.DataFrame(df['labels'])\n",
    "    df.drop(['labels'], axis='columns', inplace=True)\n",
    "    x = df.values #returns a numpy array\n",
    "    min_max_scaler = preprocessing.MinMaxScaler()\n",
    "    x_scaled = min_max_scaler.fit_transform(x)\n",
    "    df = pd.DataFrame(x_scaled, columns = df.columns, index=df.index)\n",
    "    df_normalized = pd.concat([df,df_target],axis=1)\n",
    "    print(df_normalized.head())\n",
    "    \n",
    "    df_normalized.to_csv('data/cyclic_tickers/normalized/{}_data.csv'.format(ticker))"
   ]
  },
  {
   "cell_type": "code",
   "execution_count": 6,
   "metadata": {},
   "outputs": [
    {
     "name": "stdout",
     "output_type": "stream",
     "text": [
      "            previous_1d     EMA_7   willr_7     OBV_7  labels\n",
      "Date                                                         \n",
      "2001-09-05     0.001975  0.001848  0.881454  0.077492     2.0\n",
      "2001-09-06     0.001972  0.001875  0.815561  0.066254     2.0\n",
      "2001-09-07     0.001852  0.001866  0.336540  0.053753     1.0\n",
      "2001-09-10     0.001687  0.001817  0.012345  0.040150     2.0\n",
      "2001-09-11     0.001852  0.001822  0.550489  0.048289     2.0\n",
      "            previous_1d     EMA_7   willr_7     OBV_7  labels\n",
      "Date                                                         \n",
      "2000-01-11     0.072886  0.061669  0.994505  0.291234     2.0\n",
      "2000-01-12     0.066815  0.062713  0.693989  0.283493     2.0\n",
      "2000-01-13     0.066590  0.063439  0.683060  0.271214     2.0\n",
      "2000-01-14     0.072773  0.065544  0.904523  0.286279     2.0\n",
      "2000-01-18     0.078507  0.068570  0.830357  0.298253     2.0\n",
      "            previous_1d     EMA_7   willr_7     OBV_7  labels\n",
      "Date                                                         \n",
      "2000-01-11     0.315514  0.278644  0.907173  0.469709     0.0\n",
      "2000-01-12     0.324692  0.289451  1.000000  0.473452     2.0\n",
      "2000-01-13     0.320894  0.296593  0.913386  0.468177     2.0\n",
      "2000-01-14     0.310767  0.299383  0.787402  0.463703     2.0\n",
      "2000-01-18     0.320894  0.304042  0.896714  0.467854     2.0\n",
      "            previous_1d     EMA_7   willr_7     OBV_7  labels\n",
      "Date                                                         \n",
      "2000-01-13     0.006957  0.007260  0.380952  0.008815     2.0\n",
      "2000-01-14     0.006568  0.007031  0.117647  0.008381     1.0\n",
      "2000-01-17     0.006093  0.006738  0.008522  0.008022     2.0\n",
      "2000-01-18     0.006724  0.006679  0.269924  0.008288     2.0\n",
      "2000-01-19     0.007199  0.006757  0.395888  0.008596     2.0\n",
      "            previous_1d     EMA_7   willr_7     OBV_7  labels\n",
      "Date                                                         \n",
      "2000-01-11     0.316163  0.301196  0.627907  0.663081     2.0\n",
      "2000-01-12     0.303506  0.301686  0.596330  0.657904     2.0\n",
      "2000-01-13     0.288476  0.298217  0.425926  0.653626     2.0\n",
      "2000-01-14     0.289267  0.295816  0.435185  0.658884     2.0\n",
      "2000-01-18     0.281357  0.291997  0.290000  0.652273     2.0\n",
      "            previous_1d     EMA_7   willr_7     OBV_7  labels\n",
      "Date                                                         \n",
      "2000-01-11     0.275058  0.327784  0.857143  0.000140     0.0\n",
      "2000-01-12     0.343349  0.352276  0.904762  0.000286     2.0\n",
      "2000-01-13     0.318397  0.362889  0.678571  0.000229     2.0\n",
      "2000-01-14     0.338096  0.376971  0.857143  0.000289     2.0\n",
      "2000-01-18     0.322337  0.382635  0.700000  0.000237     2.0\n",
      "            previous_1d     EMA_7   willr_7     OBV_7  labels\n",
      "Date                                                         \n",
      "2000-01-11     0.358055  0.378314  0.500000  0.008225     2.0\n",
      "2000-01-12     0.349635  0.375164  0.375000  0.008190     2.0\n",
      "2000-01-13     0.349635  0.372802  0.571429  0.008190     2.0\n",
      "2000-01-14     0.345425  0.369928  0.583333  0.008159     1.0\n",
      "2000-01-18     0.337004  0.365567  0.500000  0.008050     2.0\n",
      "            previous_1d     EMA_7   willr_7     OBV_7  labels\n",
      "Date                                                         \n",
      "2004-06-21     0.000000  0.000000  0.407407  0.583619     2.0\n",
      "2004-06-22     0.002407  0.000355  0.733334  0.608613     2.0\n",
      "2004-06-23     0.002407  0.000621  0.846153  0.608613     2.0\n",
      "2004-06-24     0.008424  0.002372  1.000000  0.656649     2.0\n",
      "2004-06-25     0.008424  0.003686  0.812500  0.656649     0.0\n",
      "            previous_1d     EMA_7   willr_7     OBV_7  labels\n",
      "Date                                                         \n",
      "2013-10-08     0.026079  0.021643  0.462810  0.002302     2.0\n",
      "2013-10-09     0.035063  0.023079  0.667697  0.009401     2.0\n",
      "2013-10-10     0.033472  0.023746  0.475480  0.004095     2.0\n",
      "2013-10-11     0.038760  0.025610  0.695096  0.014077     2.0\n",
      "2013-10-14     0.037836  0.026770  0.787724  0.008986     2.0\n"
     ]
    }
   ],
   "source": [
    "# normalize all data columns \n",
    "\n",
    "with open('noncyclic_tickers.txt') as f:\n",
    "    tickers = [i.strip() for i in f.readlines()]\n",
    "    \n",
    "for count,ticker in enumerate(tickers):\n",
    "    df = pd.read_csv('data/noncyclic_tickers/initial_indicators/{}_data.csv'.format(ticker))\n",
    "    df  = df.dropna()\n",
    "    \n",
    "    df.set_index('Date', inplace=True)\n",
    "    df_target = pd.DataFrame(df['labels'])\n",
    "    df.drop(['labels'], axis='columns', inplace=True)\n",
    "    x = df.values #returns a numpy array\n",
    "    min_max_scaler = preprocessing.MinMaxScaler()\n",
    "    x_scaled = min_max_scaler.fit_transform(x)\n",
    "    df = pd.DataFrame(x_scaled, columns = df.columns, index=df.index)\n",
    "    df_normalized = pd.concat([df,df_target],axis=1)\n",
    "    print(df_normalized.head())\n",
    "    \n",
    "    df_normalized.to_csv('data/noncyclic_tickers/normalized/{}_data.csv'.format(ticker))"
   ]
  },
  {
   "cell_type": "code",
   "execution_count": null,
   "metadata": {},
   "outputs": [],
   "source": []
  }
 ],
 "metadata": {
  "kernelspec": {
   "display_name": "Python 3",
   "language": "python",
   "name": "python3"
  },
  "language_info": {
   "codemirror_mode": {
    "name": "ipython",
    "version": 3
   },
   "file_extension": ".py",
   "mimetype": "text/x-python",
   "name": "python",
   "nbconvert_exporter": "python",
   "pygments_lexer": "ipython3",
   "version": "3.8.3"
  }
 },
 "nbformat": 4,
 "nbformat_minor": 4
}
